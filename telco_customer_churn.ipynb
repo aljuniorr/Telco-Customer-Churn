{
 "cells": [
  {
   "cell_type": "markdown",
   "metadata": {},
   "source": [
    "# **Telco Customer Churn**\n",
    "---\n",
    "\n",
    "### Capstone Modul 3 : Machine Learning\n",
    "### Created By : Muhamad Al Junior"
   ]
  },
  {
   "cell_type": "markdown",
   "metadata": {},
   "source": [
    "## **Business Problem Understanding**\n",
    "---"
   ]
  },
  {
   "cell_type": "markdown",
   "metadata": {},
   "source": [
    "### **Context**\n",
    "\n",
    "**Telco Systems** adalah pemimpin global di bidang telekomunikasi, dengan pengalaman lebih dari 40 tahun dalam desain dan pengembangan solusi komunikasi jaringan berkinerja tinggi. Dengan solusi perangkat lunak dan perangkat kerasnya yang canggih, Telco Systems memberikan pendekatan revolusioner terhadap keunggulan jaringan bagi penyedia layanan, memungkinkan mereka menawarkan inovasi layanan tingkat tertinggi kepada pelanggan.\n",
    "\n",
    "Dalam konteks ini, menjaga pelanggan yang sudah ada (retensi pelanggan) sangat penting untuk kesuksesan bisnis. Salah satu tantangan utama yang dihadapi oleh perusahaan telekomunikasi (Telco) adalah churn pelanggan, di mana pelanggan berhenti menggunakan layanan Telco dan beralih ke penyedia lain. Churn pelanggan dapat berdampak negatif pada pendapatan perusahaan karena biaya akuisisi pelanggan baru seringkali lebih tinggi daripada mempertahankan pelanggan yang sudah ada.\n",
    "\n",
    "Dataset ini berisi berbagai fitur atau atribut yang dapat digunakan untuk memprediksi apakah seorang pelanggan akan churn atau tidak. Beberapa contoh fitur yang mungkin ada dalam dataset ini meliputi informasi seperti lamanya pelanggan berlangganan, tanggungan, biaya bulanan, dan sebagainya.\n",
    "\n",
    "### **Problem Statement**\n",
    "\n",
    "Telco menghadapi masalah utama dalam mengelola churn pelanggan. Meningkatnya mobilitas pelanggan dan persaingan ketat di industri ini membuat churn semakin meruncing. Oleh karena itu, **Telco memerlukan solusi efektif yang dapat membantu mengidentifikasi pelanggan yang berpotensi akan churn** dan mengambil tindakan yang tepat untuk **meminimalkan kehilangan pelanggan**. Diketahui, **biaya yang dikeluarkan lebih besar** saat perusahaan berusaha untuk mencari pelanggan baru dibanding biaya yang keluar untuk mempertahankan pelanggan yang sudah ada.\n",
    "\n",
    "### **Goals**\n",
    "\n",
    "**1. Mengembangkan Model Prediksi Churn**: \n",
    "\n",
    "Membangun model machine learning yang mampu mengidentifikasi pelanggan yang berpotensi akan churn berdasarkan data profil pelanggan yang ada.\n",
    "\n",
    "**2. Meningkatkan Retensi Pelanggan**: \n",
    "\n",
    "Dengan menggunakan model ini, Telco bertujuan untuk meningkatkan retensi pelanggan dengan mengidentifikasi pelanggan yang berisiko dan menyusun strategi tindakan yang sesuai untuk mempertahankan mereka.\n",
    "\n",
    "**3. Efisiensi Pengeluaran Perusahaan**: \n",
    "\n",
    "Dengan mengidentifikasi pelanggan yang cenderung churn, Telco dapat mengalokasikan sumber daya dengan lebih efisien, seperti menawarkan promosi atau peningkatan layanan kepada pelanggan yang berpotensi lebih berharga.\n",
    "\n",
    "#### **Stakeholders**:\n",
    "\n",
    "**Executive Management dan Marketing Teams Telco Systems** memainkan peran kunci dalam mencapai tujuan ini dengan mengawasi implementasi dan pelaksanaan model prediksi churn serta strategi retensi pelanggan yang sesuai. Mereka bertanggung jawab untuk mengambil keputusan berdasarkan data dan memastikan bahwa sumber daya perusahaan digunakan dengan efektif untuk meminimalkan churn dan memaksimalkan retensi pelanggan.\n",
    "\n",
    "### **Analytic Approach**\n",
    "\n",
    "Mencakup analisis eksplorasi data, pemrosesan data, pemodelan, dan evaluasi model. Data pelanggan Telco akan diolah untuk melatih model klasifikasi yang akan memprediksi apakah seorang pelanggan berpotensi churn. Setelah model dibangun, akan dilakukan evaluasi kinerja dengan menggunakan data pengujian.\n",
    "\n",
    "### **Metric Evaluation**\n",
    "\n",
    "Metrik evaluasi utama dalam proyek ini adalah **F2-score**, yang memberikan penekanan pada mengurangi kesalahan dalam memprediksi pelanggan yang akan churn **(false negative)**. \n",
    "\n",
    "Keseluruhan tujuan adalah untuk menciptakan model yang efektif dalam mengidentifikasi pelanggan yang berisiko churn dan memberikan solusi yang efisien bagi Telco untuk mengelola churn pelanggan."
   ]
  },
  {
   "cell_type": "markdown",
   "metadata": {},
   "source": [
    "## **Data Understanding**\n",
    "---"
   ]
  },
  {
   "cell_type": "markdown",
   "metadata": {},
   "source": [
    "Dataset Telco ini memiliki informasi berupa kolom sebanyak 11 kolom, yang nantinya digunakan dalam kebutuhan project.\n",
    "\n",
    "| Field             | Description                                         |\n",
    "|-------------------|-----------------------------------------------------|\n",
    "| `Dependents`        | Apakah pelanggan memiliki tanggungan atau tidak. |\n",
    "| `Tenure`            | Jumlah bulan pelanggan telah menggunakan layanan perusahaan. |\n",
    "| `OnlineSecurity`    | Apakah pelanggan memiliki keamanan online atau tidak. |\n",
    "| `OnlineBackup`      | Apakah pelanggan memiliki cadangan daring (online backup) atau tidak. |\n",
    "| `InternetService`   | Apakah klien berlangganan layanan internet atau tidak. |\n",
    "| `DeviceProtection`  | Apakah klien memiliki perlindungan perangkat atau tidak. |\n",
    "| `TechSupport`       | Apakah klien memiliki dukungan teknis atau tidak. |\n",
    "| `Contract`          | Jenis kontrak berdasarkan durasi. |\n",
    "| `PaperlessBilling`  | Tagihan diterbitkan dalam bentuk tanpa kertas atau tidak. |\n",
    "| `MonthlyCharges`    | Jumlah biaya layanan per bulan. |\n",
    "| `Churn`             | Apakah pelanggan berhenti atau tidak. |\n",
    "\n",
    "*Dataset Source* :  [Telco Customer Churn Dataset](https://drive.google.com/drive/u/1/folders/1_fR7R0srpZgnFnanbrmELgnK-xmzMAHp)"
   ]
  },
  {
   "cell_type": "code",
   "execution_count": 1,
   "metadata": {},
   "outputs": [
    {
     "data": {
      "text/html": [
       "<div>\n",
       "<style scoped>\n",
       "    .dataframe tbody tr th:only-of-type {\n",
       "        vertical-align: middle;\n",
       "    }\n",
       "\n",
       "    .dataframe tbody tr th {\n",
       "        vertical-align: top;\n",
       "    }\n",
       "\n",
       "    .dataframe thead th {\n",
       "        text-align: right;\n",
       "    }\n",
       "</style>\n",
       "<table border=\"1\" class=\"dataframe\">\n",
       "  <thead>\n",
       "    <tr style=\"text-align: right;\">\n",
       "      <th></th>\n",
       "      <th>Dependents</th>\n",
       "      <th>tenure</th>\n",
       "      <th>OnlineSecurity</th>\n",
       "      <th>OnlineBackup</th>\n",
       "      <th>InternetService</th>\n",
       "      <th>DeviceProtection</th>\n",
       "      <th>TechSupport</th>\n",
       "      <th>Contract</th>\n",
       "      <th>PaperlessBilling</th>\n",
       "      <th>MonthlyCharges</th>\n",
       "      <th>Churn</th>\n",
       "    </tr>\n",
       "  </thead>\n",
       "  <tbody>\n",
       "    <tr>\n",
       "      <th>0</th>\n",
       "      <td>Yes</td>\n",
       "      <td>9</td>\n",
       "      <td>No</td>\n",
       "      <td>No</td>\n",
       "      <td>DSL</td>\n",
       "      <td>Yes</td>\n",
       "      <td>Yes</td>\n",
       "      <td>Month-to-month</td>\n",
       "      <td>Yes</td>\n",
       "      <td>72.90</td>\n",
       "      <td>Yes</td>\n",
       "    </tr>\n",
       "    <tr>\n",
       "      <th>1</th>\n",
       "      <td>No</td>\n",
       "      <td>14</td>\n",
       "      <td>No</td>\n",
       "      <td>Yes</td>\n",
       "      <td>Fiber optic</td>\n",
       "      <td>Yes</td>\n",
       "      <td>No</td>\n",
       "      <td>Month-to-month</td>\n",
       "      <td>Yes</td>\n",
       "      <td>82.65</td>\n",
       "      <td>No</td>\n",
       "    </tr>\n",
       "    <tr>\n",
       "      <th>2</th>\n",
       "      <td>No</td>\n",
       "      <td>64</td>\n",
       "      <td>Yes</td>\n",
       "      <td>No</td>\n",
       "      <td>DSL</td>\n",
       "      <td>Yes</td>\n",
       "      <td>Yes</td>\n",
       "      <td>Two year</td>\n",
       "      <td>No</td>\n",
       "      <td>47.85</td>\n",
       "      <td>Yes</td>\n",
       "    </tr>\n",
       "    <tr>\n",
       "      <th>3</th>\n",
       "      <td>No</td>\n",
       "      <td>72</td>\n",
       "      <td>Yes</td>\n",
       "      <td>Yes</td>\n",
       "      <td>DSL</td>\n",
       "      <td>Yes</td>\n",
       "      <td>Yes</td>\n",
       "      <td>Two year</td>\n",
       "      <td>No</td>\n",
       "      <td>69.65</td>\n",
       "      <td>No</td>\n",
       "    </tr>\n",
       "    <tr>\n",
       "      <th>4</th>\n",
       "      <td>No</td>\n",
       "      <td>3</td>\n",
       "      <td>No internet service</td>\n",
       "      <td>No internet service</td>\n",
       "      <td>No</td>\n",
       "      <td>No internet service</td>\n",
       "      <td>No internet service</td>\n",
       "      <td>Month-to-month</td>\n",
       "      <td>Yes</td>\n",
       "      <td>23.60</td>\n",
       "      <td>No</td>\n",
       "    </tr>\n",
       "  </tbody>\n",
       "</table>\n",
       "</div>"
      ],
      "text/plain": [
       "  Dependents  tenure       OnlineSecurity         OnlineBackup  \\\n",
       "0        Yes       9                   No                   No   \n",
       "1         No      14                   No                  Yes   \n",
       "2         No      64                  Yes                   No   \n",
       "3         No      72                  Yes                  Yes   \n",
       "4         No       3  No internet service  No internet service   \n",
       "\n",
       "  InternetService     DeviceProtection          TechSupport        Contract  \\\n",
       "0             DSL                  Yes                  Yes  Month-to-month   \n",
       "1     Fiber optic                  Yes                   No  Month-to-month   \n",
       "2             DSL                  Yes                  Yes        Two year   \n",
       "3             DSL                  Yes                  Yes        Two year   \n",
       "4              No  No internet service  No internet service  Month-to-month   \n",
       "\n",
       "  PaperlessBilling  MonthlyCharges Churn  \n",
       "0              Yes           72.90   Yes  \n",
       "1              Yes           82.65    No  \n",
       "2               No           47.85   Yes  \n",
       "3               No           69.65    No  \n",
       "4              Yes           23.60    No  "
      ]
     },
     "execution_count": 1,
     "metadata": {},
     "output_type": "execute_result"
    }
   ],
   "source": [
    "# Library\n",
    "import pandas as pd\n",
    "import numpy as np\n",
    "import matplotlib.pyplot as plt\n",
    "import seaborn as sns\n",
    "import statsmodels.api as sm\n",
    "import warnings\n",
    "warnings.filterwarnings('ignore')\n",
    "\n",
    "# Load Data\n",
    "df = pd.read_csv('data_telco_customer_churn.csv')\n",
    "df.head()"
   ]
  },
  {
   "cell_type": "code",
   "execution_count": 2,
   "metadata": {},
   "outputs": [
    {
     "name": "stdout",
     "output_type": "stream",
     "text": [
      "<class 'pandas.core.frame.DataFrame'>\n",
      "RangeIndex: 4930 entries, 0 to 4929\n",
      "Data columns (total 11 columns):\n",
      " #   Column            Non-Null Count  Dtype  \n",
      "---  ------            --------------  -----  \n",
      " 0   Dependents        4930 non-null   object \n",
      " 1   tenure            4930 non-null   int64  \n",
      " 2   OnlineSecurity    4930 non-null   object \n",
      " 3   OnlineBackup      4930 non-null   object \n",
      " 4   InternetService   4930 non-null   object \n",
      " 5   DeviceProtection  4930 non-null   object \n",
      " 6   TechSupport       4930 non-null   object \n",
      " 7   Contract          4930 non-null   object \n",
      " 8   PaperlessBilling  4930 non-null   object \n",
      " 9   MonthlyCharges    4930 non-null   float64\n",
      " 10  Churn             4930 non-null   object \n",
      "dtypes: float64(1), int64(1), object(9)\n",
      "memory usage: 423.8+ KB\n"
     ]
    }
   ],
   "source": [
    "# Info\n",
    "df.info()"
   ]
  },
  {
   "cell_type": "markdown",
   "metadata": {},
   "source": [
    "Diinformasikan kembali, dataset ini memiliki **4930 data** dari **11 kolom**, 2 kolom dengan tipe data numerikal dan 9 kolom object."
   ]
  },
  {
   "cell_type": "markdown",
   "metadata": {},
   "source": [
    "## **Data Wrangling**\n",
    "---"
   ]
  },
  {
   "cell_type": "markdown",
   "metadata": {},
   "source": [
    "Sebelum masuk tahap analisis dan *modelling*, terlebih dahulu melakukan *deep info checking* dan cek apakah data memiliki anomali ataupun *missing value*, akan dilakukan *cleaning* jika ditemukan hal tersebut. Selanjutnya, ingin mengetahui apakah data memiliki *exteme outliers* atau tidak, jika ditemukan akan dihapus hal tersebut."
   ]
  },
  {
   "cell_type": "code",
   "execution_count": 3,
   "metadata": {},
   "outputs": [
    {
     "data": {
      "text/html": [
       "<div>\n",
       "<style scoped>\n",
       "    .dataframe tbody tr th:only-of-type {\n",
       "        vertical-align: middle;\n",
       "    }\n",
       "\n",
       "    .dataframe tbody tr th {\n",
       "        vertical-align: top;\n",
       "    }\n",
       "\n",
       "    .dataframe thead th {\n",
       "        text-align: right;\n",
       "    }\n",
       "</style>\n",
       "<table border=\"1\" class=\"dataframe\">\n",
       "  <thead>\n",
       "    <tr style=\"text-align: right;\">\n",
       "      <th></th>\n",
       "      <th>dataFeatures</th>\n",
       "      <th>dataType</th>\n",
       "      <th>null</th>\n",
       "      <th>nullPct</th>\n",
       "      <th>unique</th>\n",
       "      <th>uniqueSample</th>\n",
       "    </tr>\n",
       "  </thead>\n",
       "  <tbody>\n",
       "    <tr>\n",
       "      <th>0</th>\n",
       "      <td>Dependents</td>\n",
       "      <td>object</td>\n",
       "      <td>0</td>\n",
       "      <td>0.0</td>\n",
       "      <td>2</td>\n",
       "      <td>[No, Yes, Yes]</td>\n",
       "    </tr>\n",
       "    <tr>\n",
       "      <th>1</th>\n",
       "      <td>tenure</td>\n",
       "      <td>int64</td>\n",
       "      <td>0</td>\n",
       "      <td>0.0</td>\n",
       "      <td>73</td>\n",
       "      <td>[40, 65, 12]</td>\n",
       "    </tr>\n",
       "    <tr>\n",
       "      <th>2</th>\n",
       "      <td>OnlineSecurity</td>\n",
       "      <td>object</td>\n",
       "      <td>0</td>\n",
       "      <td>0.0</td>\n",
       "      <td>3</td>\n",
       "      <td>[No, No internet service, No]</td>\n",
       "    </tr>\n",
       "    <tr>\n",
       "      <th>3</th>\n",
       "      <td>OnlineBackup</td>\n",
       "      <td>object</td>\n",
       "      <td>0</td>\n",
       "      <td>0.0</td>\n",
       "      <td>3</td>\n",
       "      <td>[Yes, Yes, No internet service]</td>\n",
       "    </tr>\n",
       "    <tr>\n",
       "      <th>4</th>\n",
       "      <td>InternetService</td>\n",
       "      <td>object</td>\n",
       "      <td>0</td>\n",
       "      <td>0.0</td>\n",
       "      <td>3</td>\n",
       "      <td>[Fiber optic, Fiber optic, Fiber optic]</td>\n",
       "    </tr>\n",
       "    <tr>\n",
       "      <th>5</th>\n",
       "      <td>DeviceProtection</td>\n",
       "      <td>object</td>\n",
       "      <td>0</td>\n",
       "      <td>0.0</td>\n",
       "      <td>3</td>\n",
       "      <td>[No, Yes, No]</td>\n",
       "    </tr>\n",
       "    <tr>\n",
       "      <th>6</th>\n",
       "      <td>TechSupport</td>\n",
       "      <td>object</td>\n",
       "      <td>0</td>\n",
       "      <td>0.0</td>\n",
       "      <td>3</td>\n",
       "      <td>[Yes, No, No]</td>\n",
       "    </tr>\n",
       "    <tr>\n",
       "      <th>7</th>\n",
       "      <td>Contract</td>\n",
       "      <td>object</td>\n",
       "      <td>0</td>\n",
       "      <td>0.0</td>\n",
       "      <td>3</td>\n",
       "      <td>[Month-to-month, Two year, Month-to-month]</td>\n",
       "    </tr>\n",
       "    <tr>\n",
       "      <th>8</th>\n",
       "      <td>PaperlessBilling</td>\n",
       "      <td>object</td>\n",
       "      <td>0</td>\n",
       "      <td>0.0</td>\n",
       "      <td>2</td>\n",
       "      <td>[Yes, No, No]</td>\n",
       "    </tr>\n",
       "    <tr>\n",
       "      <th>9</th>\n",
       "      <td>MonthlyCharges</td>\n",
       "      <td>float64</td>\n",
       "      <td>0</td>\n",
       "      <td>0.0</td>\n",
       "      <td>1422</td>\n",
       "      <td>[54.4, 80.7, 44.6]</td>\n",
       "    </tr>\n",
       "    <tr>\n",
       "      <th>10</th>\n",
       "      <td>Churn</td>\n",
       "      <td>object</td>\n",
       "      <td>0</td>\n",
       "      <td>0.0</td>\n",
       "      <td>2</td>\n",
       "      <td>[Yes, Yes, No]</td>\n",
       "    </tr>\n",
       "  </tbody>\n",
       "</table>\n",
       "</div>"
      ],
      "text/plain": [
       "        dataFeatures dataType  null  nullPct  unique  \\\n",
       "0         Dependents   object     0      0.0       2   \n",
       "1             tenure    int64     0      0.0      73   \n",
       "2     OnlineSecurity   object     0      0.0       3   \n",
       "3       OnlineBackup   object     0      0.0       3   \n",
       "4    InternetService   object     0      0.0       3   \n",
       "5   DeviceProtection   object     0      0.0       3   \n",
       "6        TechSupport   object     0      0.0       3   \n",
       "7           Contract   object     0      0.0       3   \n",
       "8   PaperlessBilling   object     0      0.0       2   \n",
       "9     MonthlyCharges  float64     0      0.0    1422   \n",
       "10             Churn   object     0      0.0       2   \n",
       "\n",
       "                                  uniqueSample  \n",
       "0                               [No, Yes, Yes]  \n",
       "1                                 [40, 65, 12]  \n",
       "2                [No, No internet service, No]  \n",
       "3              [Yes, Yes, No internet service]  \n",
       "4      [Fiber optic, Fiber optic, Fiber optic]  \n",
       "5                                [No, Yes, No]  \n",
       "6                                [Yes, No, No]  \n",
       "7   [Month-to-month, Two year, Month-to-month]  \n",
       "8                                [Yes, No, No]  \n",
       "9                           [54.4, 80.7, 44.6]  \n",
       "10                              [Yes, Yes, No]  "
      ]
     },
     "execution_count": 3,
     "metadata": {},
     "output_type": "execute_result"
    }
   ],
   "source": [
    "# Deep Info\n",
    "datainfo = []\n",
    "for i in df.columns:\n",
    "    datainfo.append([i, df[i].dtypes,\n",
    "                      df[i].isna().sum(),\n",
    "                      round((((df[i].isna().sum())/(len(df)))*100),2), \n",
    "                    df[i].nunique(), \n",
    "                    df[i].sample(3).values])\n",
    "pd.DataFrame(datainfo, columns = ['dataFeatures', 'dataType', 'null', 'nullPct', 'unique','uniqueSample'])"
   ]
  },
  {
   "cell_type": "code",
   "execution_count": 4,
   "metadata": {},
   "outputs": [
    {
     "data": {
      "text/plain": [
       "Dependents          0\n",
       "tenure              0\n",
       "OnlineSecurity      0\n",
       "OnlineBackup        0\n",
       "InternetService     0\n",
       "DeviceProtection    0\n",
       "TechSupport         0\n",
       "Contract            0\n",
       "PaperlessBilling    0\n",
       "MonthlyCharges      0\n",
       "Churn               0\n",
       "dtype: int64"
      ]
     },
     "execution_count": 4,
     "metadata": {},
     "output_type": "execute_result"
    }
   ],
   "source": [
    "# Missing Value\n",
    "df.isna().sum()"
   ]
  },
  {
   "cell_type": "markdown",
   "metadata": {},
   "source": [
    "Ditemukan bahwa data tidak memiliki *missing value*."
   ]
  },
  {
   "cell_type": "code",
   "execution_count": 5,
   "metadata": {},
   "outputs": [
    {
     "data": {
      "text/html": [
       "<div>\n",
       "<style scoped>\n",
       "    .dataframe tbody tr th:only-of-type {\n",
       "        vertical-align: middle;\n",
       "    }\n",
       "\n",
       "    .dataframe tbody tr th {\n",
       "        vertical-align: top;\n",
       "    }\n",
       "\n",
       "    .dataframe thead th {\n",
       "        text-align: right;\n",
       "    }\n",
       "</style>\n",
       "<table border=\"1\" class=\"dataframe\">\n",
       "  <thead>\n",
       "    <tr style=\"text-align: right;\">\n",
       "      <th></th>\n",
       "      <th>tenure</th>\n",
       "      <th>MonthlyCharges</th>\n",
       "    </tr>\n",
       "  </thead>\n",
       "  <tbody>\n",
       "    <tr>\n",
       "      <th>count</th>\n",
       "      <td>4930.000000</td>\n",
       "      <td>4930.000000</td>\n",
       "    </tr>\n",
       "    <tr>\n",
       "      <th>mean</th>\n",
       "      <td>32.401217</td>\n",
       "      <td>64.883032</td>\n",
       "    </tr>\n",
       "    <tr>\n",
       "      <th>std</th>\n",
       "      <td>24.501193</td>\n",
       "      <td>29.923960</td>\n",
       "    </tr>\n",
       "    <tr>\n",
       "      <th>min</th>\n",
       "      <td>0.000000</td>\n",
       "      <td>18.800000</td>\n",
       "    </tr>\n",
       "    <tr>\n",
       "      <th>25%</th>\n",
       "      <td>9.000000</td>\n",
       "      <td>37.050000</td>\n",
       "    </tr>\n",
       "    <tr>\n",
       "      <th>50%</th>\n",
       "      <td>29.000000</td>\n",
       "      <td>70.350000</td>\n",
       "    </tr>\n",
       "    <tr>\n",
       "      <th>75%</th>\n",
       "      <td>55.000000</td>\n",
       "      <td>89.850000</td>\n",
       "    </tr>\n",
       "    <tr>\n",
       "      <th>max</th>\n",
       "      <td>72.000000</td>\n",
       "      <td>118.650000</td>\n",
       "    </tr>\n",
       "  </tbody>\n",
       "</table>\n",
       "</div>"
      ],
      "text/plain": [
       "            tenure  MonthlyCharges\n",
       "count  4930.000000     4930.000000\n",
       "mean     32.401217       64.883032\n",
       "std      24.501193       29.923960\n",
       "min       0.000000       18.800000\n",
       "25%       9.000000       37.050000\n",
       "50%      29.000000       70.350000\n",
       "75%      55.000000       89.850000\n",
       "max      72.000000      118.650000"
      ]
     },
     "execution_count": 5,
     "metadata": {},
     "output_type": "execute_result"
    }
   ],
   "source": [
    "df.describe()"
   ]
  },
  {
   "cell_type": "code",
   "execution_count": 6,
   "metadata": {},
   "outputs": [
    {
     "data": {
      "image/png": "[encoded data removed]",
      "text/plain": [
       "<Figure size 1500x1500 with 2 Axes>"
      ]
     },
     "metadata": {},
     "output_type": "display_data"
    }
   ],
   "source": [
    "numerical_cols = df.drop('Churn', axis=1).select_dtypes(include=np.number).columns.tolist()\n",
    "#Plotting boxplot for numerical values \n",
    "plt.figure(figsize=(15, 15))\n",
    "for i, column in enumerate(numerical_cols, 1):\n",
    "    plt.subplot(4, 3, i)\n",
    "    sns.boxplot(data=df[column], orient='horizontal')\n",
    "    plt.title(f'Boxplot of {column}')\n",
    "    plt.xlabel(column)\n",
    "    \n",
    "plt.tight_layout()\n",
    "plt.show()"
   ]
  },
  {
   "cell_type": "markdown",
   "metadata": {},
   "source": [
    "Tidak ditemukannya *outliers* atau bahkan *extreme outliers*. Dengan tidak ditemukannya *missing value* dan *outliers*, artinya tidap perlu melakukan pembersihan terhadap data dan data telah siap untuk dilakukan ke tahap berikutnya."
   ]
  },
  {
   "cell_type": "markdown",
   "metadata": {},
   "source": [
    "## **Exploratory Data Analysis**\n",
    "---"
   ]
  },
  {
   "cell_type": "markdown",
   "metadata": {},
   "source": [
    "Ditahap ini, ingin mengetahui atau menemukan hal-hal yang sekiranya mencakup tujuan dalam identifikasi pola pelanggan Telco terhadap *churn*."
   ]
  },
  {
   "cell_type": "code",
   "execution_count": 7,
   "metadata": {},
   "outputs": [
    {
     "data": {
      "text/html": [
       "<div>\n",
       "<style scoped>\n",
       "    .dataframe tbody tr th:only-of-type {\n",
       "        vertical-align: middle;\n",
       "    }\n",
       "\n",
       "    .dataframe tbody tr th {\n",
       "        vertical-align: top;\n",
       "    }\n",
       "\n",
       "    .dataframe thead th {\n",
       "        text-align: right;\n",
       "    }\n",
       "</style>\n",
       "<table border=\"1\" class=\"dataframe\">\n",
       "  <thead>\n",
       "    <tr style=\"text-align: right;\">\n",
       "      <th></th>\n",
       "      <th>Churn</th>\n",
       "      <th>count</th>\n",
       "    </tr>\n",
       "  </thead>\n",
       "  <tbody>\n",
       "    <tr>\n",
       "      <th>0</th>\n",
       "      <td>No</td>\n",
       "      <td>3614</td>\n",
       "    </tr>\n",
       "    <tr>\n",
       "      <th>1</th>\n",
       "      <td>Yes</td>\n",
       "      <td>1316</td>\n",
       "    </tr>\n",
       "  </tbody>\n",
       "</table>\n",
       "</div>"
      ],
      "text/plain": [
       "  Churn  count\n",
       "0    No   3614\n",
       "1   Yes   1316"
      ]
     },
     "execution_count": 7,
     "metadata": {},
     "output_type": "execute_result"
    }
   ],
   "source": [
    "# Churned Customers\n",
    "df['Churn'].value_counts().reset_index()"
   ]
  },
  {
   "cell_type": "code",
   "execution_count": 8,
   "metadata": {},
   "outputs": [
    {
     "data": {
      "image/png": "[encoded data removed]",
      "text/plain": [
       "<Figure size 700x400 with 1 Axes>"
      ]
     },
     "metadata": {},
     "output_type": "display_data"
    }
   ],
   "source": [
    "# Percentage of Churn Labels\n",
    "churn_label_count = df['Churn'].value_counts()\n",
    "fig = plt.figure(figsize=(7, 4), dpi=100)\n",
    "plt.pie(\n",
    "    churn_label_count,\n",
    "    autopct=\"%.2f%%\",\n",
    "    labels=churn_label_count.index,\n",
    "    explode=[0, 0.1],\n",
    ")\n",
    "plt.title(\"Percentage of Churns Customer\")\n",
    "plt.show()"
   ]
  },
  {
   "cell_type": "markdown",
   "metadata": {},
   "source": [
    "Telco telah kehilangan **1316 pelanggan** dengan persentase kehilangan pelanggan sebesar **26,69%**."
   ]
  },
  {
   "cell_type": "code",
   "execution_count": 9,
   "metadata": {},
   "outputs": [
    {
     "data": {
      "image/png": "[encoded data removed]",
      "text/plain": [
       "<Figure size 700x500 with 2 Axes>"
      ]
     },
     "metadata": {},
     "output_type": "display_data"
    }
   ],
   "source": [
    "# Plot for Numeric Columns\n",
    "numeric_columns = df.select_dtypes(include=[\"int64\", \"float64\"]).columns\n",
    "\n",
    "columns_to_exclude = [\"Dependents\", \"OnlineSecurity\", \"OnlineBackup\", \"InternetService\", \"DeviceProtection\", \"TechSupport\", \"Contract\", \"Churn\"]\n",
    "\n",
    "numeric_columns = numeric_columns.difference(columns_to_exclude)\n",
    "\n",
    "fig, axes = plt.subplots(1, 2, figsize=(7, 5))\n",
    "axes = axes.flatten()\n",
    "\n",
    "for i, column in enumerate(numeric_columns):\n",
    "    ax = axes[i]\n",
    "    sns.barplot(data=df, x=\"Churn\", y=column, ax=ax, estimator=np.mean)\n",
    "    ax.set_title(f\"{column} vs Churn Label\", fontsize=10)\n",
    "\n",
    "    for k in ax.containers:\n",
    "        ax.bar_label(\n",
    "            k, fontsize=10, label_type=\"center\", backgroundcolor=\"w\", fmt=\"%.2f\"\n",
    "        )\n",
    "plt.tight_layout()\n",
    "plt.show()"
   ]
  },
  {
   "cell_type": "markdown",
   "metadata": {},
   "source": [
    "Dari grafik diatas, ditemukan bahwa pelanggan dengan rata-rata biaya layanan per bulan sebesar **74,46** dan pelanggan dengan rata-rata penggunaan layanan selama **17,67** bulan melakukan **Churn**."
   ]
  },
  {
   "cell_type": "code",
   "execution_count": 10,
   "metadata": {},
   "outputs": [
    {
     "data": {
      "image/png": "[encoded data removed]",
      "text/plain": [
       "<Figure size 1000x500 with 1 Axes>"
      ]
     },
     "metadata": {},
     "output_type": "display_data"
    },
    {
     "data": {
      "image/png": "[encoded data removed]",
      "text/plain": [
       "<Figure size 1000x500 with 1 Axes>"
      ]
     },
     "metadata": {},
     "output_type": "display_data"
    },
    {
     "data": {
      "image/png": "[encoded data removed]",
      "text/plain": [
       "<Figure size 1000x500 with 1 Axes>"
      ]
     },
     "metadata": {},
     "output_type": "display_data"
    },
    {
     "data": {
      "image/png": "[encoded data removed]",
      "text/plain": [
       "<Figure size 1000x500 with 1 Axes>"
      ]
     },
     "metadata": {},
     "output_type": "display_data"
    },
    {
     "data": {
      "image/png": "[encoded data removed]",
      "text/plain": [
       "<Figure size 1000x500 with 1 Axes>"
      ]
     },
     "metadata": {},
     "output_type": "display_data"
    },
    {
     "data": {
      "image/png": "[encoded data removed]",
      "text/plain": [
       "<Figure size 1000x500 with 1 Axes>"
      ]
     },
     "metadata": {},
     "output_type": "display_data"
    },
    {
     "data": {
      "image/png": "[encoded data removed]",
      "text/plain": [
       "<Figure size 1000x500 with 1 Axes>"
      ]
     },
     "metadata": {},
     "output_type": "display_data"
    },
    {
     "data": {
      "image/png": "[encoded data removed]",
      "text/plain": [
       "<Figure size 1000x500 with 1 Axes>"
      ]
     },
     "metadata": {},
     "output_type": "display_data"
    }
   ],
   "source": [
    "object_columns = df.select_dtypes(include=['object'])\n",
    "\n",
    "for col in object_columns.columns:\n",
    "    if col != 'Churn':\n",
    "        plt.figure(figsize=(10, 5))\n",
    "        sns.countplot(data=df, x=col, hue='Churn')\n",
    "        plt.title(f'{col} vs Churn')\n",
    "        plt.show()"
   ]
  },
  {
   "cell_type": "markdown",
   "metadata": {},
   "source": [
    "Dari grafik-grafik diatas yang berupa perbandingan kolom-kolom(selain churn) terhadap `Churn`, diketahui bahwa perilaku atau pola pelanggan yang melakukan *churn* lebih kecil atau lebih sedikit dibanding pelanggan yang tidak *churn*. Tetapi, dari grafik diatas belum dapat disimpulkan tentang *pattern* pelanggan yang *churn* maupun tidak."
   ]
  },
  {
   "cell_type": "markdown",
   "metadata": {},
   "source": [
    "## **Machine Learning Modelling**\n",
    "---"
   ]
  },
  {
   "cell_type": "markdown",
   "metadata": {},
   "source": [
    "Selanjutnya, akan dilakukan *Modelling*. Pertama terlebih dahulu dilakukan persiapan data untuk meninjau kembali informasi data yang bisa diimplementasikan ke model."
   ]
  },
  {
   "cell_type": "markdown",
   "metadata": {},
   "source": [
    "### **Data Preprocessing**"
   ]
  },
  {
   "cell_type": "markdown",
   "metadata": {},
   "source": [
    "Perlu diketahui kolom apa saja yang digunakan untuk model dimana kolom-kolom harus ada keterkaitan terhadap target yaitu *churn*. Untuk mengetahui itu, diperlukan uji **Chi Square**. "
   ]
  },
  {
   "cell_type": "code",
   "execution_count": 11,
   "metadata": {},
   "outputs": [
    {
     "data": {
      "text/html": [
       "<div>\n",
       "<style scoped>\n",
       "    .dataframe tbody tr th:only-of-type {\n",
       "        vertical-align: middle;\n",
       "    }\n",
       "\n",
       "    .dataframe tbody tr th {\n",
       "        vertical-align: top;\n",
       "    }\n",
       "\n",
       "    .dataframe thead th {\n",
       "        text-align: right;\n",
       "    }\n",
       "</style>\n",
       "<table border=\"1\" class=\"dataframe\">\n",
       "  <thead>\n",
       "    <tr style=\"text-align: right;\">\n",
       "      <th></th>\n",
       "      <th>column</th>\n",
       "      <th>test_statistic</th>\n",
       "      <th>degree_of_freedom</th>\n",
       "      <th>p_value</th>\n",
       "      <th>Decision</th>\n",
       "    </tr>\n",
       "  </thead>\n",
       "  <tbody>\n",
       "    <tr>\n",
       "      <th>0</th>\n",
       "      <td>Dependents</td>\n",
       "      <td>143.0</td>\n",
       "      <td>1</td>\n",
       "      <td>0.0</td>\n",
       "      <td>significant</td>\n",
       "    </tr>\n",
       "    <tr>\n",
       "      <th>1</th>\n",
       "      <td>tenure</td>\n",
       "      <td>791.0</td>\n",
       "      <td>1</td>\n",
       "      <td>0.0</td>\n",
       "      <td>significant</td>\n",
       "    </tr>\n",
       "    <tr>\n",
       "      <th>2</th>\n",
       "      <td>OnlineSecurity</td>\n",
       "      <td>581.0</td>\n",
       "      <td>1</td>\n",
       "      <td>0.0</td>\n",
       "      <td>significant</td>\n",
       "    </tr>\n",
       "    <tr>\n",
       "      <th>3</th>\n",
       "      <td>OnlineBackup</td>\n",
       "      <td>445.0</td>\n",
       "      <td>1</td>\n",
       "      <td>0.0</td>\n",
       "      <td>significant</td>\n",
       "    </tr>\n",
       "    <tr>\n",
       "      <th>4</th>\n",
       "      <td>InternetService</td>\n",
       "      <td>515.0</td>\n",
       "      <td>1</td>\n",
       "      <td>0.0</td>\n",
       "      <td>significant</td>\n",
       "    </tr>\n",
       "    <tr>\n",
       "      <th>5</th>\n",
       "      <td>DeviceProtection</td>\n",
       "      <td>374.0</td>\n",
       "      <td>1</td>\n",
       "      <td>0.0</td>\n",
       "      <td>significant</td>\n",
       "    </tr>\n",
       "    <tr>\n",
       "      <th>6</th>\n",
       "      <td>TechSupport</td>\n",
       "      <td>558.0</td>\n",
       "      <td>1</td>\n",
       "      <td>0.0</td>\n",
       "      <td>significant</td>\n",
       "    </tr>\n",
       "    <tr>\n",
       "      <th>7</th>\n",
       "      <td>Contract</td>\n",
       "      <td>870.0</td>\n",
       "      <td>1</td>\n",
       "      <td>0.0</td>\n",
       "      <td>significant</td>\n",
       "    </tr>\n",
       "    <tr>\n",
       "      <th>8</th>\n",
       "      <td>MonthlyCharges</td>\n",
       "      <td>1827.0</td>\n",
       "      <td>1</td>\n",
       "      <td>0.0</td>\n",
       "      <td>significant</td>\n",
       "    </tr>\n",
       "    <tr>\n",
       "      <th>9</th>\n",
       "      <td>PaperlessBilling</td>\n",
       "      <td>175.0</td>\n",
       "      <td>1</td>\n",
       "      <td>0.0</td>\n",
       "      <td>significant</td>\n",
       "    </tr>\n",
       "  </tbody>\n",
       "</table>\n",
       "</div>"
      ],
      "text/plain": [
       "             column  test_statistic  degree_of_freedom  p_value     Decision\n",
       "0        Dependents           143.0                  1      0.0  significant\n",
       "1            tenure           791.0                  1      0.0  significant\n",
       "2    OnlineSecurity           581.0                  1      0.0  significant\n",
       "3      OnlineBackup           445.0                  1      0.0  significant\n",
       "4   InternetService           515.0                  1      0.0  significant\n",
       "5  DeviceProtection           374.0                  1      0.0  significant\n",
       "6       TechSupport           558.0                  1      0.0  significant\n",
       "7          Contract           870.0                  1      0.0  significant\n",
       "8    MonthlyCharges          1827.0                  1      0.0  significant\n",
       "9  PaperlessBilling           175.0                  1      0.0  significant"
      ]
     },
     "execution_count": 11,
     "metadata": {},
     "output_type": "execute_result"
    }
   ],
   "source": [
    "# Chi Square\n",
    "from scipy.stats.contingency import chi2_contingency\n",
    "\n",
    "def chi_square_test(df):\n",
    "\n",
    "    columns = ['Dependents', 'tenure', 'OnlineSecurity', 'OnlineBackup',\n",
    "       'InternetService', 'DeviceProtection', 'TechSupport', 'Contract',\n",
    "       'MonthlyCharges', 'PaperlessBilling']\n",
    "    p_value = []\n",
    "    dofs = []\n",
    "    chi_square = []\n",
    "    for column in columns:\n",
    "        crosstab = pd.crosstab(\n",
    "            index=df[column], columns=df['Churn']\n",
    "        )\n",
    "        chi_value, p, dof, ev = chi2_contingency(crosstab)\n",
    "        chi_square.append(chi_value)\n",
    "        dofs.append(dof)\n",
    "        p_value.append(p)\n",
    "\n",
    "    return pd.DataFrame(\n",
    "        {\n",
    "            \"column\": columns,\n",
    "            \"test_statistic\": np.round(chi_square),\n",
    "            \"degree_of_freedom\": dof,\n",
    "            \"p_value\": np.round(p_value, 2),\n",
    "        }\n",
    "    )\n",
    "\n",
    "chi_table = chi_square_test(df)\n",
    "chi_table[\"Decision\"] = np.where(\n",
    "    chi_table.p_value < 0.05, \"significant\", \"not significant\"\n",
    ")\n",
    "chi_table"
   ]
  },
  {
   "cell_type": "markdown",
   "metadata": {},
   "source": [
    "Dari hasil uji Chi Square diatas, ternyata **semua kolom memiliki keterkaitan yang signifikan** terhadap target."
   ]
  },
  {
   "cell_type": "code",
   "execution_count": 12,
   "metadata": {},
   "outputs": [
    {
     "data": {
      "text/plain": [
       "Churn\n",
       "0    73.306288\n",
       "1    26.693712\n",
       "Name: count, dtype: float64"
      ]
     },
     "execution_count": 12,
     "metadata": {},
     "output_type": "execute_result"
    }
   ],
   "source": [
    "# Replace Churn Value as 0 (No) and 1 (Yes) & Quality Class Proportion\n",
    "df['Churn'].replace({'No': 0, 'Yes': 1}, inplace=True)\n",
    "df['Churn'].value_counts()/len(df)*100"
   ]
  },
  {
   "cell_type": "markdown",
   "metadata": {},
   "source": [
    "Nilai *Yes* dan *No* di kolom `Churn` perlu di ubah dalam bentuk 1 dan 0, dimana 1 di identifikasi sebagai pelanggan yang melakukan *churn* dan 0 untuk pelanggan yang tidak melakukan. Lalu, dilihat persentase nilainya, apakah data *balance* atau *imbalance*. Ternyata ditemukan bahwa datanya **imbalance**, maka nantinya akan di *threat* dengan metode imbalance terhadap model."
   ]
  },
  {
   "cell_type": "markdown",
   "metadata": {},
   "source": [
    "### **Data Preparation**"
   ]
  },
  {
   "cell_type": "markdown",
   "metadata": {},
   "source": [
    "Data preparation adalah tahap yang datang setelah data preprocessing. Ini melibatkan penyiapan data yang sudah bersih dan terstruktur untuk tujuan analisis atau pemodelan yang spesifik. Tujuannya adalah untuk mengorganisasi data dalam format yang sesuai dengan kebutuhan analisis atau pemodelan yang akan dilakukan. Misalnya, pengambilan subset data, penggabungan dataset, transformasi fitur, dan sebagainya. Data preparation melibatkan tugas seperti pemilihan fitur (feature selection) dan pemisahan data menjadi data train dan data test."
   ]
  },
  {
   "cell_type": "markdown",
   "metadata": {},
   "source": [
    "#### *Transformer Schema*"
   ]
  },
  {
   "cell_type": "markdown",
   "metadata": {},
   "source": [
    "*Features* atau kolom-kolom yang berupa object atau kategorikal yaitu `Dependents, OnlineSecurity, OnlineBackup, DeviceProtection, InternetService, TechSupport, Contract, PaperlessBilling` akan di *encode* (diubah ke bentuk angka). Encode yang digunakan adalah **One Hot Encoder**."
   ]
  },
  {
   "cell_type": "markdown",
   "metadata": {},
   "source": [
    "Untuk *features* yang berupa numerikal yaitu `tenure` dan `MonthlyCharges` akan dinormalisasi atau *scaling*. *Scaler* yang digunakan yaitu **Robust Scaler**."
   ]
  },
  {
   "cell_type": "code",
   "execution_count": 13,
   "metadata": {},
   "outputs": [
    {
     "data": {
      "text/html": [
       "<style>#sk-container-id-1 {color: black;background-color: white;}#sk-container-id-1 pre{padding: 0;}#sk-container-id-1 div.sk-toggleable {background-color: white;}#sk-container-id-1 label.sk-toggleable__label {cursor: pointer;display: block;width: 100%;margin-bottom: 0;padding: 0.3em;box-sizing: border-box;text-align: center;}#sk-container-id-1 label.sk-toggleable__label-arrow:before {content: \"▸\";float: left;margin-right: 0.25em;color: #696969;}#sk-container-id-1 label.sk-toggleable__label-arrow:hover:before {color: black;}#sk-container-id-1 div.sk-estimator:hover label.sk-toggleable__label-arrow:before {color: black;}#sk-container-id-1 div.sk-toggleable__content {max-height: 0;max-width: 0;overflow: hidden;text-align: left;background-color: #f0f8ff;}#sk-container-id-1 div.sk-toggleable__content pre {margin: 0.2em;color: black;border-radius: 0.25em;background-color: #f0f8ff;}#sk-container-id-1 input.sk-toggleable__control:checked~div.sk-toggleable__content {max-height: 200px;max-width: 100%;overflow: auto;}#sk-container-id-1 input.sk-toggleable__control:checked~label.sk-toggleable__label-arrow:before {content: \"▾\";}#sk-container-id-1 div.sk-estimator input.sk-toggleable__control:checked~label.sk-toggleable__label {background-color: #d4ebff;}#sk-container-id-1 div.sk-label input.sk-toggleable__control:checked~label.sk-toggleable__label {background-color: #d4ebff;}#sk-container-id-1 input.sk-hidden--visually {border: 0;clip: rect(1px 1px 1px 1px);clip: rect(1px, 1px, 1px, 1px);height: 1px;margin: -1px;overflow: hidden;padding: 0;position: absolute;width: 1px;}#sk-container-id-1 div.sk-estimator {font-family: monospace;background-color: #f0f8ff;border: 1px dotted black;border-radius: 0.25em;box-sizing: border-box;margin-bottom: 0.5em;}#sk-container-id-1 div.sk-estimator:hover {background-color: #d4ebff;}#sk-container-id-1 div.sk-parallel-item::after {content: \"\";width: 100%;border-bottom: 1px solid gray;flex-grow: 1;}#sk-container-id-1 div.sk-label:hover label.sk-toggleable__label {background-color: #d4ebff;}#sk-container-id-1 div.sk-serial::before {content: \"\";position: absolute;border-left: 1px solid gray;box-sizing: border-box;top: 0;bottom: 0;left: 50%;z-index: 0;}#sk-container-id-1 div.sk-serial {display: flex;flex-direction: column;align-items: center;background-color: white;padding-right: 0.2em;padding-left: 0.2em;position: relative;}#sk-container-id-1 div.sk-item {position: relative;z-index: 1;}#sk-container-id-1 div.sk-parallel {display: flex;align-items: stretch;justify-content: center;background-color: white;position: relative;}#sk-container-id-1 div.sk-item::before, #sk-container-id-1 div.sk-parallel-item::before {content: \"\";position: absolute;border-left: 1px solid gray;box-sizing: border-box;top: 0;bottom: 0;left: 50%;z-index: -1;}#sk-container-id-1 div.sk-parallel-item {display: flex;flex-direction: column;z-index: 1;position: relative;background-color: white;}#sk-container-id-1 div.sk-parallel-item:first-child::after {align-self: flex-end;width: 50%;}#sk-container-id-1 div.sk-parallel-item:last-child::after {align-self: flex-start;width: 50%;}#sk-container-id-1 div.sk-parallel-item:only-child::after {width: 0;}#sk-container-id-1 div.sk-dashed-wrapped {border: 1px dashed gray;margin: 0 0.4em 0.5em 0.4em;box-sizing: border-box;padding-bottom: 0.4em;background-color: white;}#sk-container-id-1 div.sk-label label {font-family: monospace;font-weight: bold;display: inline-block;line-height: 1.2em;}#sk-container-id-1 div.sk-label-container {text-align: center;}#sk-container-id-1 div.sk-container {/* jupyter's `normalize.less` sets `[hidden] { display: none; }` but bootstrap.min.css set `[hidden] { display: none !important; }` so we also need the `!important` here to be able to override the default hidden behavior on the sphinx rendered scikit-learn.org. See: https://github.com/scikit-learn/scikit-learn/issues/21755 */display: inline-block !important;position: relative;}#sk-container-id-1 div.sk-text-repr-fallback {display: none;}</style><div id=\"sk-container-id-1\" class=\"sk-top-container\"><div class=\"sk-text-repr-fallback\"><pre>ColumnTransformer(transformers=[(&#x27;One Hot Encoder&#x27;, OneHotEncoder(drop=&#x27;first&#x27;),\n",
       "                                 [&#x27;Dependents&#x27;, &#x27;OnlineSecurity&#x27;,\n",
       "                                  &#x27;OnlineBackup&#x27;, &#x27;DeviceProtection&#x27;,\n",
       "                                  &#x27;InternetService&#x27;, &#x27;TechSupport&#x27;, &#x27;Contract&#x27;,\n",
       "                                  &#x27;PaperlessBilling&#x27;]),\n",
       "                                (&#x27;Scaler&#x27;, RobustScaler(),\n",
       "                                 [&#x27;tenure&#x27;, &#x27;MonthlyCharges&#x27;])])</pre><b>In a Jupyter environment, please rerun this cell to show the HTML representation or trust the notebook. <br />On GitHub, the HTML representation is unable to render, please try loading this page with nbviewer.org.</b></div><div class=\"sk-container\" hidden><div class=\"sk-item sk-dashed-wrapped\"><div class=\"sk-label-container\"><div class=\"sk-label sk-toggleable\"><input class=\"sk-toggleable__control sk-hidden--visually\" id=\"sk-estimator-id-1\" type=\"checkbox\" ><label for=\"sk-estimator-id-1\" class=\"sk-toggleable__label sk-toggleable__label-arrow\">ColumnTransformer</label><div class=\"sk-toggleable__content\"><pre>ColumnTransformer(transformers=[(&#x27;One Hot Encoder&#x27;, OneHotEncoder(drop=&#x27;first&#x27;),\n",
       "                                 [&#x27;Dependents&#x27;, &#x27;OnlineSecurity&#x27;,\n",
       "                                  &#x27;OnlineBackup&#x27;, &#x27;DeviceProtection&#x27;,\n",
       "                                  &#x27;InternetService&#x27;, &#x27;TechSupport&#x27;, &#x27;Contract&#x27;,\n",
       "                                  &#x27;PaperlessBilling&#x27;]),\n",
       "                                (&#x27;Scaler&#x27;, RobustScaler(),\n",
       "                                 [&#x27;tenure&#x27;, &#x27;MonthlyCharges&#x27;])])</pre></div></div></div><div class=\"sk-parallel\"><div class=\"sk-parallel-item\"><div class=\"sk-item\"><div class=\"sk-label-container\"><div class=\"sk-label sk-toggleable\"><input class=\"sk-toggleable__control sk-hidden--visually\" id=\"sk-estimator-id-2\" type=\"checkbox\" ><label for=\"sk-estimator-id-2\" class=\"sk-toggleable__label sk-toggleable__label-arrow\">One Hot Encoder</label><div class=\"sk-toggleable__content\"><pre>[&#x27;Dependents&#x27;, &#x27;OnlineSecurity&#x27;, &#x27;OnlineBackup&#x27;, &#x27;DeviceProtection&#x27;, &#x27;InternetService&#x27;, &#x27;TechSupport&#x27;, &#x27;Contract&#x27;, &#x27;PaperlessBilling&#x27;]</pre></div></div></div><div class=\"sk-serial\"><div class=\"sk-item\"><div class=\"sk-estimator sk-toggleable\"><input class=\"sk-toggleable__control sk-hidden--visually\" id=\"sk-estimator-id-3\" type=\"checkbox\" ><label for=\"sk-estimator-id-3\" class=\"sk-toggleable__label sk-toggleable__label-arrow\">OneHotEncoder</label><div class=\"sk-toggleable__content\"><pre>OneHotEncoder(drop=&#x27;first&#x27;)</pre></div></div></div></div></div></div><div class=\"sk-parallel-item\"><div class=\"sk-item\"><div class=\"sk-label-container\"><div class=\"sk-label sk-toggleable\"><input class=\"sk-toggleable__control sk-hidden--visually\" id=\"sk-estimator-id-4\" type=\"checkbox\" ><label for=\"sk-estimator-id-4\" class=\"sk-toggleable__label sk-toggleable__label-arrow\">Scaler</label><div class=\"sk-toggleable__content\"><pre>[&#x27;tenure&#x27;, &#x27;MonthlyCharges&#x27;]</pre></div></div></div><div class=\"sk-serial\"><div class=\"sk-item\"><div class=\"sk-estimator sk-toggleable\"><input class=\"sk-toggleable__control sk-hidden--visually\" id=\"sk-estimator-id-5\" type=\"checkbox\" ><label for=\"sk-estimator-id-5\" class=\"sk-toggleable__label sk-toggleable__label-arrow\">RobustScaler</label><div class=\"sk-toggleable__content\"><pre>RobustScaler()</pre></div></div></div></div></div></div></div></div></div></div>"
      ],
      "text/plain": [
       "ColumnTransformer(transformers=[('One Hot Encoder', OneHotEncoder(drop='first'),\n",
       "                                 ['Dependents', 'OnlineSecurity',\n",
       "                                  'OnlineBackup', 'DeviceProtection',\n",
       "                                  'InternetService', 'TechSupport', 'Contract',\n",
       "                                  'PaperlessBilling']),\n",
       "                                ('Scaler', RobustScaler(),\n",
       "                                 ['tenure', 'MonthlyCharges'])])"
      ]
     },
     "execution_count": 13,
     "metadata": {},
     "output_type": "execute_result"
    }
   ],
   "source": [
    "# Transformer Schema\n",
    "# Encoder\n",
    "from sklearn.preprocessing import OneHotEncoder\n",
    "from sklearn.compose import ColumnTransformer\n",
    "\n",
    "# Scaler\n",
    "from sklearn.preprocessing import RobustScaler\n",
    "\n",
    "transform = ColumnTransformer([\n",
    "    ('One Hot Encoder', OneHotEncoder(drop='first'), ['Dependents', 'OnlineSecurity', 'OnlineBackup', 'DeviceProtection', 'InternetService', 'TechSupport', 'Contract', 'PaperlessBilling']),\n",
    "    ('Scaler', RobustScaler(), ['tenure', 'MonthlyCharges'])\n",
    "])\n",
    "\n",
    "transform"
   ]
  },
  {
   "cell_type": "code",
   "execution_count": 30,
   "metadata": {},
   "outputs": [
    {
     "data": {
      "text/html": [
       "<div>\n",
       "<style scoped>\n",
       "    .dataframe tbody tr th:only-of-type {\n",
       "        vertical-align: middle;\n",
       "    }\n",
       "\n",
       "    .dataframe tbody tr th {\n",
       "        vertical-align: top;\n",
       "    }\n",
       "\n",
       "    .dataframe thead th {\n",
       "        text-align: right;\n",
       "    }\n",
       "</style>\n",
       "<table border=\"1\" class=\"dataframe\">\n",
       "  <thead>\n",
       "    <tr style=\"text-align: right;\">\n",
       "      <th></th>\n",
       "      <th>0</th>\n",
       "      <th>1</th>\n",
       "      <th>2</th>\n",
       "      <th>3</th>\n",
       "      <th>4</th>\n",
       "      <th>5</th>\n",
       "      <th>6</th>\n",
       "      <th>7</th>\n",
       "      <th>8</th>\n",
       "      <th>9</th>\n",
       "      <th>10</th>\n",
       "      <th>11</th>\n",
       "      <th>12</th>\n",
       "      <th>13</th>\n",
       "      <th>14</th>\n",
       "      <th>15</th>\n",
       "    </tr>\n",
       "  </thead>\n",
       "  <tbody>\n",
       "    <tr>\n",
       "      <th>0</th>\n",
       "      <td>1.0</td>\n",
       "      <td>0.0</td>\n",
       "      <td>0.0</td>\n",
       "      <td>0.0</td>\n",
       "      <td>0.0</td>\n",
       "      <td>0.0</td>\n",
       "      <td>1.0</td>\n",
       "      <td>0.0</td>\n",
       "      <td>0.0</td>\n",
       "      <td>0.0</td>\n",
       "      <td>1.0</td>\n",
       "      <td>0.0</td>\n",
       "      <td>0.0</td>\n",
       "      <td>1.0</td>\n",
       "      <td>-0.434783</td>\n",
       "      <td>0.048295</td>\n",
       "    </tr>\n",
       "    <tr>\n",
       "      <th>1</th>\n",
       "      <td>0.0</td>\n",
       "      <td>0.0</td>\n",
       "      <td>0.0</td>\n",
       "      <td>0.0</td>\n",
       "      <td>1.0</td>\n",
       "      <td>0.0</td>\n",
       "      <td>1.0</td>\n",
       "      <td>1.0</td>\n",
       "      <td>0.0</td>\n",
       "      <td>0.0</td>\n",
       "      <td>0.0</td>\n",
       "      <td>0.0</td>\n",
       "      <td>0.0</td>\n",
       "      <td>1.0</td>\n",
       "      <td>-0.326087</td>\n",
       "      <td>0.232955</td>\n",
       "    </tr>\n",
       "    <tr>\n",
       "      <th>2</th>\n",
       "      <td>0.0</td>\n",
       "      <td>0.0</td>\n",
       "      <td>1.0</td>\n",
       "      <td>0.0</td>\n",
       "      <td>0.0</td>\n",
       "      <td>0.0</td>\n",
       "      <td>1.0</td>\n",
       "      <td>0.0</td>\n",
       "      <td>0.0</td>\n",
       "      <td>0.0</td>\n",
       "      <td>1.0</td>\n",
       "      <td>0.0</td>\n",
       "      <td>1.0</td>\n",
       "      <td>0.0</td>\n",
       "      <td>0.760870</td>\n",
       "      <td>-0.426136</td>\n",
       "    </tr>\n",
       "    <tr>\n",
       "      <th>3</th>\n",
       "      <td>0.0</td>\n",
       "      <td>0.0</td>\n",
       "      <td>1.0</td>\n",
       "      <td>0.0</td>\n",
       "      <td>1.0</td>\n",
       "      <td>0.0</td>\n",
       "      <td>1.0</td>\n",
       "      <td>0.0</td>\n",
       "      <td>0.0</td>\n",
       "      <td>0.0</td>\n",
       "      <td>1.0</td>\n",
       "      <td>0.0</td>\n",
       "      <td>1.0</td>\n",
       "      <td>0.0</td>\n",
       "      <td>0.934783</td>\n",
       "      <td>-0.013258</td>\n",
       "    </tr>\n",
       "    <tr>\n",
       "      <th>4</th>\n",
       "      <td>0.0</td>\n",
       "      <td>1.0</td>\n",
       "      <td>0.0</td>\n",
       "      <td>1.0</td>\n",
       "      <td>0.0</td>\n",
       "      <td>1.0</td>\n",
       "      <td>0.0</td>\n",
       "      <td>0.0</td>\n",
       "      <td>1.0</td>\n",
       "      <td>1.0</td>\n",
       "      <td>0.0</td>\n",
       "      <td>0.0</td>\n",
       "      <td>0.0</td>\n",
       "      <td>1.0</td>\n",
       "      <td>-0.565217</td>\n",
       "      <td>-0.885417</td>\n",
       "    </tr>\n",
       "    <tr>\n",
       "      <th>...</th>\n",
       "      <td>...</td>\n",
       "      <td>...</td>\n",
       "      <td>...</td>\n",
       "      <td>...</td>\n",
       "      <td>...</td>\n",
       "      <td>...</td>\n",
       "      <td>...</td>\n",
       "      <td>...</td>\n",
       "      <td>...</td>\n",
       "      <td>...</td>\n",
       "      <td>...</td>\n",
       "      <td>...</td>\n",
       "      <td>...</td>\n",
       "      <td>...</td>\n",
       "      <td>...</td>\n",
       "      <td>...</td>\n",
       "    </tr>\n",
       "    <tr>\n",
       "      <th>4925</th>\n",
       "      <td>0.0</td>\n",
       "      <td>0.0</td>\n",
       "      <td>0.0</td>\n",
       "      <td>0.0</td>\n",
       "      <td>0.0</td>\n",
       "      <td>0.0</td>\n",
       "      <td>1.0</td>\n",
       "      <td>1.0</td>\n",
       "      <td>0.0</td>\n",
       "      <td>0.0</td>\n",
       "      <td>1.0</td>\n",
       "      <td>0.0</td>\n",
       "      <td>0.0</td>\n",
       "      <td>1.0</td>\n",
       "      <td>-0.304348</td>\n",
       "      <td>0.626894</td>\n",
       "    </tr>\n",
       "    <tr>\n",
       "      <th>4926</th>\n",
       "      <td>1.0</td>\n",
       "      <td>0.0</td>\n",
       "      <td>0.0</td>\n",
       "      <td>0.0</td>\n",
       "      <td>0.0</td>\n",
       "      <td>0.0</td>\n",
       "      <td>1.0</td>\n",
       "      <td>1.0</td>\n",
       "      <td>0.0</td>\n",
       "      <td>0.0</td>\n",
       "      <td>1.0</td>\n",
       "      <td>0.0</td>\n",
       "      <td>0.0</td>\n",
       "      <td>1.0</td>\n",
       "      <td>-0.413043</td>\n",
       "      <td>0.392992</td>\n",
       "    </tr>\n",
       "    <tr>\n",
       "      <th>4927</th>\n",
       "      <td>0.0</td>\n",
       "      <td>1.0</td>\n",
       "      <td>0.0</td>\n",
       "      <td>1.0</td>\n",
       "      <td>0.0</td>\n",
       "      <td>1.0</td>\n",
       "      <td>0.0</td>\n",
       "      <td>0.0</td>\n",
       "      <td>1.0</td>\n",
       "      <td>1.0</td>\n",
       "      <td>0.0</td>\n",
       "      <td>0.0</td>\n",
       "      <td>1.0</td>\n",
       "      <td>0.0</td>\n",
       "      <td>0.630435</td>\n",
       "      <td>-0.939394</td>\n",
       "    </tr>\n",
       "    <tr>\n",
       "      <th>4928</th>\n",
       "      <td>0.0</td>\n",
       "      <td>0.0</td>\n",
       "      <td>0.0</td>\n",
       "      <td>0.0</td>\n",
       "      <td>0.0</td>\n",
       "      <td>0.0</td>\n",
       "      <td>0.0</td>\n",
       "      <td>1.0</td>\n",
       "      <td>0.0</td>\n",
       "      <td>0.0</td>\n",
       "      <td>0.0</td>\n",
       "      <td>0.0</td>\n",
       "      <td>0.0</td>\n",
       "      <td>1.0</td>\n",
       "      <td>-0.608696</td>\n",
       "      <td>-0.011364</td>\n",
       "    </tr>\n",
       "    <tr>\n",
       "      <th>4929</th>\n",
       "      <td>1.0</td>\n",
       "      <td>1.0</td>\n",
       "      <td>0.0</td>\n",
       "      <td>1.0</td>\n",
       "      <td>0.0</td>\n",
       "      <td>1.0</td>\n",
       "      <td>0.0</td>\n",
       "      <td>0.0</td>\n",
       "      <td>1.0</td>\n",
       "      <td>1.0</td>\n",
       "      <td>0.0</td>\n",
       "      <td>0.0</td>\n",
       "      <td>0.0</td>\n",
       "      <td>0.0</td>\n",
       "      <td>-0.543478</td>\n",
       "      <td>-0.946023</td>\n",
       "    </tr>\n",
       "  </tbody>\n",
       "</table>\n",
       "<p>4930 rows × 16 columns</p>\n",
       "</div>"
      ],
      "text/plain": [
       "       0    1    2    3    4    5    6    7    8    9    10   11   12   13  \\\n",
       "0     1.0  0.0  0.0  0.0  0.0  0.0  1.0  0.0  0.0  0.0  1.0  0.0  0.0  1.0   \n",
       "1     0.0  0.0  0.0  0.0  1.0  0.0  1.0  1.0  0.0  0.0  0.0  0.0  0.0  1.0   \n",
       "2     0.0  0.0  1.0  0.0  0.0  0.0  1.0  0.0  0.0  0.0  1.0  0.0  1.0  0.0   \n",
       "3     0.0  0.0  1.0  0.0  1.0  0.0  1.0  0.0  0.0  0.0  1.0  0.0  1.0  0.0   \n",
       "4     0.0  1.0  0.0  1.0  0.0  1.0  0.0  0.0  1.0  1.0  0.0  0.0  0.0  1.0   \n",
       "...   ...  ...  ...  ...  ...  ...  ...  ...  ...  ...  ...  ...  ...  ...   \n",
       "4925  0.0  0.0  0.0  0.0  0.0  0.0  1.0  1.0  0.0  0.0  1.0  0.0  0.0  1.0   \n",
       "4926  1.0  0.0  0.0  0.0  0.0  0.0  1.0  1.0  0.0  0.0  1.0  0.0  0.0  1.0   \n",
       "4927  0.0  1.0  0.0  1.0  0.0  1.0  0.0  0.0  1.0  1.0  0.0  0.0  1.0  0.0   \n",
       "4928  0.0  0.0  0.0  0.0  0.0  0.0  0.0  1.0  0.0  0.0  0.0  0.0  0.0  1.0   \n",
       "4929  1.0  1.0  0.0  1.0  0.0  1.0  0.0  0.0  1.0  1.0  0.0  0.0  0.0  0.0   \n",
       "\n",
       "            14        15  \n",
       "0    -0.434783  0.048295  \n",
       "1    -0.326087  0.232955  \n",
       "2     0.760870 -0.426136  \n",
       "3     0.934783 -0.013258  \n",
       "4    -0.565217 -0.885417  \n",
       "...        ...       ...  \n",
       "4925 -0.304348  0.626894  \n",
       "4926 -0.413043  0.392992  \n",
       "4927  0.630435 -0.939394  \n",
       "4928 -0.608696 -0.011364  \n",
       "4929 -0.543478 -0.946023  \n",
       "\n",
       "[4930 rows x 16 columns]"
      ]
     },
     "execution_count": 30,
     "metadata": {},
     "output_type": "execute_result"
    }
   ],
   "source": [
    "#Check Transformer\n",
    "df_encoded = pd.DataFrame(transform.fit_transform(df))\n",
    "df_encoded"
   ]
  },
  {
   "cell_type": "markdown",
   "metadata": {},
   "source": [
    "#### *Train Test Split*"
   ]
  },
  {
   "cell_type": "markdown",
   "metadata": {},
   "source": [
    "Di tahap ini, data akan pisah menjadi dua, **data train** dan **data test**. Untuk proporsinya, data dipisah **80%** untuk data test dan **20%** untuk data test."
   ]
  },
  {
   "cell_type": "code",
   "execution_count": 31,
   "metadata": {},
   "outputs": [],
   "source": [
    "# Train test split\n",
    "from sklearn.model_selection import train_test_split\n",
    "X = df.drop('Churn', axis=1)  # All cols except default as ind var (x)\n",
    "y = df['Churn']               # default col as target (y) \n",
    "\n",
    "Xtrain, Xtest, ytrain, ytest = train_test_split(\n",
    "    X,\n",
    "    y,\n",
    "    test_size= 0.2,    # Test Data Size as 20% \n",
    "    random_state=2023,   # Random seed\n",
    "    stratify=y         # Proportion between train & test, same propotion as y \n",
    ")"
   ]
  },
  {
   "cell_type": "code",
   "execution_count": 32,
   "metadata": {},
   "outputs": [
    {
     "data": {
      "text/plain": [
       "((3944, 10), (986, 10), (3944,), (986,))"
      ]
     },
     "execution_count": 32,
     "metadata": {},
     "output_type": "execute_result"
    }
   ],
   "source": [
    "# Check for data shape\n",
    "Xtrain.shape, Xtest.shape, ytrain.shape, ytest.shape"
   ]
  },
  {
   "cell_type": "markdown",
   "metadata": {},
   "source": [
    "#### *Model Selection, Listing, and Benchmarking*"
   ]
  },
  {
   "cell_type": "code",
   "execution_count": 33,
   "metadata": {},
   "outputs": [],
   "source": [
    "# Evaluation Metrics\n",
    "from sklearn.metrics import classification_report, make_scorer, fbeta_score\n",
    "from sklearn.model_selection import cross_val_score, StratifiedKFold\n",
    "\n",
    "# Base Models\n",
    "from sklearn.linear_model import LogisticRegression\n",
    "from sklearn.neighbors import KNeighborsClassifier\n",
    "from sklearn.tree import DecisionTreeClassifier\n",
    "from sklearn.ensemble import VotingClassifier, StackingClassifier\n",
    "from sklearn.svm import SVC\n",
    "\n",
    "# Initiate Base Models\n",
    "logreg = LogisticRegression()\n",
    "knn = KNeighborsClassifier()\n",
    "dtc = DecisionTreeClassifier()\n",
    "svc = SVC()\n"
   ]
  },
  {
   "cell_type": "code",
   "execution_count": 34,
   "metadata": {},
   "outputs": [],
   "source": [
    "# Import Ensemble Models\n",
    "from sklearn.ensemble import VotingClassifier, StackingClassifier\n",
    "\n",
    "# Initiate Ensemble Models - Various Types\n",
    "vc = VotingClassifier(estimators=[\n",
    "    ('dtc', DecisionTreeClassifier()),\n",
    "    ('knn', KNeighborsClassifier()),\n",
    "    ('lr', logreg)\n",
    "], voting='hard')\n",
    "\n",
    "sc = StackingClassifier(estimators=[ \n",
    "    ('dtc', dtc),\n",
    "    ('knn', knn),\n",
    "    ('lr', logreg)\n",
    "], final_estimator=dtc)"
   ]
  },
  {
   "cell_type": "code",
   "execution_count": 35,
   "metadata": {},
   "outputs": [],
   "source": [
    "# Ensemble Models (Bagging)\n",
    "from sklearn.ensemble import RandomForestClassifier\n",
    "\n",
    "# Ensemble Models (Boosting)\n",
    "from sklearn.ensemble import AdaBoostClassifier\n",
    "from sklearn.ensemble import GradientBoostingClassifier\n",
    "from xgboost import XGBClassifier\n",
    "\n",
    "# Bagging Classifier\n",
    "rf = RandomForestClassifier(random_state=2023)\n",
    "\n",
    "# Boosting Classifier\n",
    "ada = AdaBoostClassifier(random_state=2023)\n",
    "gbc = GradientBoostingClassifier(random_state=2023)\n",
    "xgb = XGBClassifier(random_state=2023)"
   ]
  },
  {
   "cell_type": "code",
   "execution_count": 36,
   "metadata": {},
   "outputs": [
    {
     "data": {
      "text/html": [
       "<div>\n",
       "<style scoped>\n",
       "    .dataframe tbody tr th:only-of-type {\n",
       "        vertical-align: middle;\n",
       "    }\n",
       "\n",
       "    .dataframe tbody tr th {\n",
       "        vertical-align: top;\n",
       "    }\n",
       "\n",
       "    .dataframe thead th {\n",
       "        text-align: right;\n",
       "    }\n",
       "</style>\n",
       "<table border=\"1\" class=\"dataframe\">\n",
       "  <thead>\n",
       "    <tr style=\"text-align: right;\">\n",
       "      <th></th>\n",
       "      <th>Model</th>\n",
       "      <th>Mean F2 Score</th>\n",
       "      <th>Std</th>\n",
       "    </tr>\n",
       "  </thead>\n",
       "  <tbody>\n",
       "    <tr>\n",
       "      <th>21</th>\n",
       "      <td>ADA-ROS</td>\n",
       "      <td>0.723527</td>\n",
       "      <td>0.014858</td>\n",
       "    </tr>\n",
       "    <tr>\n",
       "      <th>10</th>\n",
       "      <td>SVC-RUS</td>\n",
       "      <td>0.723125</td>\n",
       "      <td>0.009883</td>\n",
       "    </tr>\n",
       "    <tr>\n",
       "      <th>25</th>\n",
       "      <td>GBC-RUS</td>\n",
       "      <td>0.722955</td>\n",
       "      <td>0.019545</td>\n",
       "    </tr>\n",
       "    <tr>\n",
       "      <th>7</th>\n",
       "      <td>logreg-RUS</td>\n",
       "      <td>0.716635</td>\n",
       "      <td>0.011193</td>\n",
       "    </tr>\n",
       "    <tr>\n",
       "      <th>22</th>\n",
       "      <td>ADA-RUS</td>\n",
       "      <td>0.712838</td>\n",
       "      <td>0.016085</td>\n",
       "    </tr>\n",
       "    <tr>\n",
       "      <th>6</th>\n",
       "      <td>logreg-ROS</td>\n",
       "      <td>0.711963</td>\n",
       "      <td>0.009183</td>\n",
       "    </tr>\n",
       "    <tr>\n",
       "      <th>9</th>\n",
       "      <td>SVC-ROS</td>\n",
       "      <td>0.710649</td>\n",
       "      <td>0.020348</td>\n",
       "    </tr>\n",
       "    <tr>\n",
       "      <th>24</th>\n",
       "      <td>GBC-ROS</td>\n",
       "      <td>0.703259</td>\n",
       "      <td>0.003626</td>\n",
       "    </tr>\n",
       "    <tr>\n",
       "      <th>13</th>\n",
       "      <td>VC-RUS</td>\n",
       "      <td>0.702470</td>\n",
       "      <td>0.013501</td>\n",
       "    </tr>\n",
       "    <tr>\n",
       "      <th>4</th>\n",
       "      <td>KNN-RUS</td>\n",
       "      <td>0.689424</td>\n",
       "      <td>0.021735</td>\n",
       "    </tr>\n",
       "    <tr>\n",
       "      <th>28</th>\n",
       "      <td>XGB-RUS</td>\n",
       "      <td>0.687522</td>\n",
       "      <td>0.011227</td>\n",
       "    </tr>\n",
       "    <tr>\n",
       "      <th>19</th>\n",
       "      <td>RF-RUS</td>\n",
       "      <td>0.684578</td>\n",
       "      <td>0.016859</td>\n",
       "    </tr>\n",
       "    <tr>\n",
       "      <th>12</th>\n",
       "      <td>VC-ROS</td>\n",
       "      <td>0.673343</td>\n",
       "      <td>0.019706</td>\n",
       "    </tr>\n",
       "    <tr>\n",
       "      <th>27</th>\n",
       "      <td>XGB-ROS</td>\n",
       "      <td>0.646800</td>\n",
       "      <td>0.021405</td>\n",
       "    </tr>\n",
       "    <tr>\n",
       "      <th>3</th>\n",
       "      <td>KNN-ROS</td>\n",
       "      <td>0.641672</td>\n",
       "      <td>0.028471</td>\n",
       "    </tr>\n",
       "    <tr>\n",
       "      <th>1</th>\n",
       "      <td>DT-RUS</td>\n",
       "      <td>0.616471</td>\n",
       "      <td>0.033675</td>\n",
       "    </tr>\n",
       "    <tr>\n",
       "      <th>8</th>\n",
       "      <td>logreg-NM</td>\n",
       "      <td>0.614863</td>\n",
       "      <td>0.030956</td>\n",
       "    </tr>\n",
       "    <tr>\n",
       "      <th>16</th>\n",
       "      <td>SC-RUS</td>\n",
       "      <td>0.596536</td>\n",
       "      <td>0.032348</td>\n",
       "    </tr>\n",
       "    <tr>\n",
       "      <th>23</th>\n",
       "      <td>ADA-NM</td>\n",
       "      <td>0.572985</td>\n",
       "      <td>0.014275</td>\n",
       "    </tr>\n",
       "    <tr>\n",
       "      <th>14</th>\n",
       "      <td>VC-NM</td>\n",
       "      <td>0.571347</td>\n",
       "      <td>0.014884</td>\n",
       "    </tr>\n",
       "    <tr>\n",
       "      <th>18</th>\n",
       "      <td>RF-ROS</td>\n",
       "      <td>0.561282</td>\n",
       "      <td>0.027801</td>\n",
       "    </tr>\n",
       "    <tr>\n",
       "      <th>29</th>\n",
       "      <td>XGB-NM</td>\n",
       "      <td>0.535193</td>\n",
       "      <td>0.023898</td>\n",
       "    </tr>\n",
       "    <tr>\n",
       "      <th>11</th>\n",
       "      <td>SVC-NM</td>\n",
       "      <td>0.527441</td>\n",
       "      <td>0.025563</td>\n",
       "    </tr>\n",
       "    <tr>\n",
       "      <th>26</th>\n",
       "      <td>GBC-NM</td>\n",
       "      <td>0.524526</td>\n",
       "      <td>0.013347</td>\n",
       "    </tr>\n",
       "    <tr>\n",
       "      <th>20</th>\n",
       "      <td>RF-NM</td>\n",
       "      <td>0.519286</td>\n",
       "      <td>0.006701</td>\n",
       "    </tr>\n",
       "    <tr>\n",
       "      <th>5</th>\n",
       "      <td>KNN-NM</td>\n",
       "      <td>0.516630</td>\n",
       "      <td>0.016170</td>\n",
       "    </tr>\n",
       "    <tr>\n",
       "      <th>0</th>\n",
       "      <td>DT-ROS</td>\n",
       "      <td>0.505435</td>\n",
       "      <td>0.040988</td>\n",
       "    </tr>\n",
       "    <tr>\n",
       "      <th>15</th>\n",
       "      <td>SC-ROS</td>\n",
       "      <td>0.499563</td>\n",
       "      <td>0.034861</td>\n",
       "    </tr>\n",
       "    <tr>\n",
       "      <th>2</th>\n",
       "      <td>DT-NM</td>\n",
       "      <td>0.495162</td>\n",
       "      <td>0.017812</td>\n",
       "    </tr>\n",
       "    <tr>\n",
       "      <th>17</th>\n",
       "      <td>SC-NM</td>\n",
       "      <td>0.486089</td>\n",
       "      <td>0.013883</td>\n",
       "    </tr>\n",
       "  </tbody>\n",
       "</table>\n",
       "</div>"
      ],
      "text/plain": [
       "         Model  Mean F2 Score       Std\n",
       "21     ADA-ROS       0.723527  0.014858\n",
       "10     SVC-RUS       0.723125  0.009883\n",
       "25     GBC-RUS       0.722955  0.019545\n",
       "7   logreg-RUS       0.716635  0.011193\n",
       "22     ADA-RUS       0.712838  0.016085\n",
       "6   logreg-ROS       0.711963  0.009183\n",
       "9      SVC-ROS       0.710649  0.020348\n",
       "24     GBC-ROS       0.703259  0.003626\n",
       "13      VC-RUS       0.702470  0.013501\n",
       "4      KNN-RUS       0.689424  0.021735\n",
       "28     XGB-RUS       0.687522  0.011227\n",
       "19      RF-RUS       0.684578  0.016859\n",
       "12      VC-ROS       0.673343  0.019706\n",
       "27     XGB-ROS       0.646800  0.021405\n",
       "3      KNN-ROS       0.641672  0.028471\n",
       "1       DT-RUS       0.616471  0.033675\n",
       "8    logreg-NM       0.614863  0.030956\n",
       "16      SC-RUS       0.596536  0.032348\n",
       "23      ADA-NM       0.572985  0.014275\n",
       "14       VC-NM       0.571347  0.014884\n",
       "18      RF-ROS       0.561282  0.027801\n",
       "29      XGB-NM       0.535193  0.023898\n",
       "11      SVC-NM       0.527441  0.025563\n",
       "26      GBC-NM       0.524526  0.013347\n",
       "20       RF-NM       0.519286  0.006701\n",
       "5       KNN-NM       0.516630  0.016170\n",
       "0       DT-ROS       0.505435  0.040988\n",
       "15      SC-ROS       0.499563  0.034861\n",
       "2        DT-NM       0.495162  0.017812\n",
       "17       SC-NM       0.486089  0.013883"
      ]
     },
     "execution_count": 36,
     "metadata": {},
     "output_type": "execute_result"
    }
   ],
   "source": [
    "# Loop through models with imbalance data handling\n",
    "from imblearn.pipeline import Pipeline\n",
    "from imblearn.over_sampling import RandomOverSampler\n",
    "from imblearn.under_sampling import RandomUnderSampler, NearMiss\n",
    "from sklearn.metrics import make_scorer, fbeta_score\n",
    "from sklearn.model_selection import cross_val_score\n",
    "\n",
    "f2_scoresheet = make_scorer(fbeta_score, beta=2)\n",
    "\n",
    "ROS = RandomOverSampler(random_state=2023)\n",
    "RUS = RandomUnderSampler(random_state=2023)  \n",
    "NM = NearMiss()\n",
    "\n",
    "# Define models and resampling\n",
    "model_list = [dtc, knn, logreg, svc, vc, sc, rf, ada, gbc, xgb]\n",
    "resample = [ROS, RUS, NM]\n",
    "\n",
    "# Model names for dataframe\n",
    "model_names = ['DT', 'KNN', 'logreg', 'SVC', 'VC', 'SC', 'RF', 'ADA', 'GBC', 'XGB']\n",
    "resample_names = ['ROS', 'RUS', 'NM']\n",
    "\n",
    "# Model selection score list\n",
    "model_score = []\n",
    "f2_score = []\n",
    "std = []\n",
    "\n",
    "# Loop through the model list\n",
    "for i, model in enumerate(model_list):\n",
    "    for j, resampler in enumerate(resample):\n",
    "        model_pipe = Pipeline([\n",
    "            ('prep', transform),\n",
    "            ('imba', resampler),\n",
    "            ('algo', model)\n",
    "        ])\n",
    "\n",
    "        pipecv = cross_val_score(model_pipe, Xtrain, ytrain, cv=5, scoring=f2_scoresheet)\n",
    "        \n",
    "        # Append the model scores to the lists\n",
    "        model_score.append(f\"{model_names[i]}-{resample_names[j]}\")\n",
    "        f2_score.append(pipecv.mean())\n",
    "        std.append(pipecv.std())\n",
    "\n",
    "# Create Dataframe\n",
    "scoresheet = pd.DataFrame({\n",
    "    'Model': model_score,\n",
    "    'Mean F2 Score': f2_score,\n",
    "    'Std': std\n",
    "}).sort_values(by='Mean F2 Score', ascending=False)\n",
    "\n",
    "# Display the resulting Dataframe\n",
    "scoresheet\n"
   ]
  },
  {
   "cell_type": "markdown",
   "metadata": {},
   "source": [
    "**Best Model**: Adaptive Boost (**ADA**) dengan RandomOverSampler (**ROS**)"
   ]
  },
  {
   "cell_type": "markdown",
   "metadata": {},
   "source": [
    "#### *Mengaplikasikan 3 Model Teratas ke Data Test*"
   ]
  },
  {
   "cell_type": "markdown",
   "metadata": {},
   "source": [
    "3 model teratas akan diaplikasikan ke data test, lalu akan dibandingkan dan melihat bagaimana scoring dari model-model tersebut. Selanjutnya akan dilakukan *hyperparameter tuning* untuk tiap model tersebut, lalu akan dibandingkan kembali scoring yang dihasilkan."
   ]
  },
  {
   "cell_type": "markdown",
   "metadata": {},
   "source": [
    "#### **Best Model 1 : ADA-ROS**\n",
    "\n",
    "- Model : ADA Boost\n",
    "- Resampling : Random Over Sampler"
   ]
  },
  {
   "cell_type": "code",
   "execution_count": 37,
   "metadata": {},
   "outputs": [
    {
     "data": {
      "text/html": [
       "<style>#sk-container-id-1 {color: black;background-color: white;}#sk-container-id-1 pre{padding: 0;}#sk-container-id-1 div.sk-toggleable {background-color: white;}#sk-container-id-1 label.sk-toggleable__label {cursor: pointer;display: block;width: 100%;margin-bottom: 0;padding: 0.3em;box-sizing: border-box;text-align: center;}#sk-container-id-1 label.sk-toggleable__label-arrow:before {content: \"▸\";float: left;margin-right: 0.25em;color: #696969;}#sk-container-id-1 label.sk-toggleable__label-arrow:hover:before {color: black;}#sk-container-id-1 div.sk-estimator:hover label.sk-toggleable__label-arrow:before {color: black;}#sk-container-id-1 div.sk-toggleable__content {max-height: 0;max-width: 0;overflow: hidden;text-align: left;background-color: #f0f8ff;}#sk-container-id-1 div.sk-toggleable__content pre {margin: 0.2em;color: black;border-radius: 0.25em;background-color: #f0f8ff;}#sk-container-id-1 input.sk-toggleable__control:checked~div.sk-toggleable__content {max-height: 200px;max-width: 100%;overflow: auto;}#sk-container-id-1 input.sk-toggleable__control:checked~label.sk-toggleable__label-arrow:before {content: \"▾\";}#sk-container-id-1 div.sk-estimator input.sk-toggleable__control:checked~label.sk-toggleable__label {background-color: #d4ebff;}#sk-container-id-1 div.sk-label input.sk-toggleable__control:checked~label.sk-toggleable__label {background-color: #d4ebff;}#sk-container-id-1 input.sk-hidden--visually {border: 0;clip: rect(1px 1px 1px 1px);clip: rect(1px, 1px, 1px, 1px);height: 1px;margin: -1px;overflow: hidden;padding: 0;position: absolute;width: 1px;}#sk-container-id-1 div.sk-estimator {font-family: monospace;background-color: #f0f8ff;border: 1px dotted black;border-radius: 0.25em;box-sizing: border-box;margin-bottom: 0.5em;}#sk-container-id-1 div.sk-estimator:hover {background-color: #d4ebff;}#sk-container-id-1 div.sk-parallel-item::after {content: \"\";width: 100%;border-bottom: 1px solid gray;flex-grow: 1;}#sk-container-id-1 div.sk-label:hover label.sk-toggleable__label {background-color: #d4ebff;}#sk-container-id-1 div.sk-serial::before {content: \"\";position: absolute;border-left: 1px solid gray;box-sizing: border-box;top: 0;bottom: 0;left: 50%;z-index: 0;}#sk-container-id-1 div.sk-serial {display: flex;flex-direction: column;align-items: center;background-color: white;padding-right: 0.2em;padding-left: 0.2em;position: relative;}#sk-container-id-1 div.sk-item {position: relative;z-index: 1;}#sk-container-id-1 div.sk-parallel {display: flex;align-items: stretch;justify-content: center;background-color: white;position: relative;}#sk-container-id-1 div.sk-item::before, #sk-container-id-1 div.sk-parallel-item::before {content: \"\";position: absolute;border-left: 1px solid gray;box-sizing: border-box;top: 0;bottom: 0;left: 50%;z-index: -1;}#sk-container-id-1 div.sk-parallel-item {display: flex;flex-direction: column;z-index: 1;position: relative;background-color: white;}#sk-container-id-1 div.sk-parallel-item:first-child::after {align-self: flex-end;width: 50%;}#sk-container-id-1 div.sk-parallel-item:last-child::after {align-self: flex-start;width: 50%;}#sk-container-id-1 div.sk-parallel-item:only-child::after {width: 0;}#sk-container-id-1 div.sk-dashed-wrapped {border: 1px dashed gray;margin: 0 0.4em 0.5em 0.4em;box-sizing: border-box;padding-bottom: 0.4em;background-color: white;}#sk-container-id-1 div.sk-label label {font-family: monospace;font-weight: bold;display: inline-block;line-height: 1.2em;}#sk-container-id-1 div.sk-label-container {text-align: center;}#sk-container-id-1 div.sk-container {/* jupyter's `normalize.less` sets `[hidden] { display: none; }` but bootstrap.min.css set `[hidden] { display: none !important; }` so we also need the `!important` here to be able to override the default hidden behavior on the sphinx rendered scikit-learn.org. See: https://github.com/scikit-learn/scikit-learn/issues/21755 */display: inline-block !important;position: relative;}#sk-container-id-1 div.sk-text-repr-fallback {display: none;}</style><div id=\"sk-container-id-1\" class=\"sk-top-container\"><div class=\"sk-text-repr-fallback\"><pre>Pipeline(steps=[(&#x27;prep&#x27;,\n",
       "                 ColumnTransformer(transformers=[(&#x27;One Hot Encoder&#x27;,\n",
       "                                                  OneHotEncoder(drop=&#x27;first&#x27;),\n",
       "                                                  [&#x27;Dependents&#x27;,\n",
       "                                                   &#x27;OnlineSecurity&#x27;,\n",
       "                                                   &#x27;OnlineBackup&#x27;,\n",
       "                                                   &#x27;DeviceProtection&#x27;,\n",
       "                                                   &#x27;InternetService&#x27;,\n",
       "                                                   &#x27;TechSupport&#x27;, &#x27;Contract&#x27;,\n",
       "                                                   &#x27;PaperlessBilling&#x27;]),\n",
       "                                                 (&#x27;Scaler&#x27;, RobustScaler(),\n",
       "                                                  [&#x27;tenure&#x27;,\n",
       "                                                   &#x27;MonthlyCharges&#x27;])])),\n",
       "                (&#x27;imba&#x27;, RandomOverSampler(random_state=2023)),\n",
       "                (&#x27;algo&#x27;, AdaBoostClassifier(random_state=2023))])</pre><b>In a Jupyter environment, please rerun this cell to show the HTML representation or trust the notebook. <br />On GitHub, the HTML representation is unable to render, please try loading this page with nbviewer.org.</b></div><div class=\"sk-container\" hidden><div class=\"sk-item sk-dashed-wrapped\"><div class=\"sk-label-container\"><div class=\"sk-label sk-toggleable\"><input class=\"sk-toggleable__control sk-hidden--visually\" id=\"sk-estimator-id-1\" type=\"checkbox\" ><label for=\"sk-estimator-id-1\" class=\"sk-toggleable__label sk-toggleable__label-arrow\">Pipeline</label><div class=\"sk-toggleable__content\"><pre>Pipeline(steps=[(&#x27;prep&#x27;,\n",
       "                 ColumnTransformer(transformers=[(&#x27;One Hot Encoder&#x27;,\n",
       "                                                  OneHotEncoder(drop=&#x27;first&#x27;),\n",
       "                                                  [&#x27;Dependents&#x27;,\n",
       "                                                   &#x27;OnlineSecurity&#x27;,\n",
       "                                                   &#x27;OnlineBackup&#x27;,\n",
       "                                                   &#x27;DeviceProtection&#x27;,\n",
       "                                                   &#x27;InternetService&#x27;,\n",
       "                                                   &#x27;TechSupport&#x27;, &#x27;Contract&#x27;,\n",
       "                                                   &#x27;PaperlessBilling&#x27;]),\n",
       "                                                 (&#x27;Scaler&#x27;, RobustScaler(),\n",
       "                                                  [&#x27;tenure&#x27;,\n",
       "                                                   &#x27;MonthlyCharges&#x27;])])),\n",
       "                (&#x27;imba&#x27;, RandomOverSampler(random_state=2023)),\n",
       "                (&#x27;algo&#x27;, AdaBoostClassifier(random_state=2023))])</pre></div></div></div><div class=\"sk-serial\"><div class=\"sk-item sk-dashed-wrapped\"><div class=\"sk-label-container\"><div class=\"sk-label sk-toggleable\"><input class=\"sk-toggleable__control sk-hidden--visually\" id=\"sk-estimator-id-2\" type=\"checkbox\" ><label for=\"sk-estimator-id-2\" class=\"sk-toggleable__label sk-toggleable__label-arrow\">prep: ColumnTransformer</label><div class=\"sk-toggleable__content\"><pre>ColumnTransformer(transformers=[(&#x27;One Hot Encoder&#x27;, OneHotEncoder(drop=&#x27;first&#x27;),\n",
       "                                 [&#x27;Dependents&#x27;, &#x27;OnlineSecurity&#x27;,\n",
       "                                  &#x27;OnlineBackup&#x27;, &#x27;DeviceProtection&#x27;,\n",
       "                                  &#x27;InternetService&#x27;, &#x27;TechSupport&#x27;, &#x27;Contract&#x27;,\n",
       "                                  &#x27;PaperlessBilling&#x27;]),\n",
       "                                (&#x27;Scaler&#x27;, RobustScaler(),\n",
       "                                 [&#x27;tenure&#x27;, &#x27;MonthlyCharges&#x27;])])</pre></div></div></div><div class=\"sk-parallel\"><div class=\"sk-parallel-item\"><div class=\"sk-item\"><div class=\"sk-label-container\"><div class=\"sk-label sk-toggleable\"><input class=\"sk-toggleable__control sk-hidden--visually\" id=\"sk-estimator-id-3\" type=\"checkbox\" ><label for=\"sk-estimator-id-3\" class=\"sk-toggleable__label sk-toggleable__label-arrow\">One Hot Encoder</label><div class=\"sk-toggleable__content\"><pre>[&#x27;Dependents&#x27;, &#x27;OnlineSecurity&#x27;, &#x27;OnlineBackup&#x27;, &#x27;DeviceProtection&#x27;, &#x27;InternetService&#x27;, &#x27;TechSupport&#x27;, &#x27;Contract&#x27;, &#x27;PaperlessBilling&#x27;]</pre></div></div></div><div class=\"sk-serial\"><div class=\"sk-item\"><div class=\"sk-estimator sk-toggleable\"><input class=\"sk-toggleable__control sk-hidden--visually\" id=\"sk-estimator-id-4\" type=\"checkbox\" ><label for=\"sk-estimator-id-4\" class=\"sk-toggleable__label sk-toggleable__label-arrow\">OneHotEncoder</label><div class=\"sk-toggleable__content\"><pre>OneHotEncoder(drop=&#x27;first&#x27;)</pre></div></div></div></div></div></div><div class=\"sk-parallel-item\"><div class=\"sk-item\"><div class=\"sk-label-container\"><div class=\"sk-label sk-toggleable\"><input class=\"sk-toggleable__control sk-hidden--visually\" id=\"sk-estimator-id-5\" type=\"checkbox\" ><label for=\"sk-estimator-id-5\" class=\"sk-toggleable__label sk-toggleable__label-arrow\">Scaler</label><div class=\"sk-toggleable__content\"><pre>[&#x27;tenure&#x27;, &#x27;MonthlyCharges&#x27;]</pre></div></div></div><div class=\"sk-serial\"><div class=\"sk-item\"><div class=\"sk-estimator sk-toggleable\"><input class=\"sk-toggleable__control sk-hidden--visually\" id=\"sk-estimator-id-6\" type=\"checkbox\" ><label for=\"sk-estimator-id-6\" class=\"sk-toggleable__label sk-toggleable__label-arrow\">RobustScaler</label><div class=\"sk-toggleable__content\"><pre>RobustScaler()</pre></div></div></div></div></div></div></div></div><div class=\"sk-item\"><div class=\"sk-estimator sk-toggleable\"><input class=\"sk-toggleable__control sk-hidden--visually\" id=\"sk-estimator-id-7\" type=\"checkbox\" ><label for=\"sk-estimator-id-7\" class=\"sk-toggleable__label sk-toggleable__label-arrow\">RandomOverSampler</label><div class=\"sk-toggleable__content\"><pre>RandomOverSampler(random_state=2023)</pre></div></div></div><div class=\"sk-item\"><div class=\"sk-estimator sk-toggleable\"><input class=\"sk-toggleable__control sk-hidden--visually\" id=\"sk-estimator-id-8\" type=\"checkbox\" ><label for=\"sk-estimator-id-8\" class=\"sk-toggleable__label sk-toggleable__label-arrow\">AdaBoostClassifier</label><div class=\"sk-toggleable__content\"><pre>AdaBoostClassifier(random_state=2023)</pre></div></div></div></div></div></div></div>"
      ],
      "text/plain": [
       "Pipeline(steps=[('prep',\n",
       "                 ColumnTransformer(transformers=[('One Hot Encoder',\n",
       "                                                  OneHotEncoder(drop='first'),\n",
       "                                                  ['Dependents',\n",
       "                                                   'OnlineSecurity',\n",
       "                                                   'OnlineBackup',\n",
       "                                                   'DeviceProtection',\n",
       "                                                   'InternetService',\n",
       "                                                   'TechSupport', 'Contract',\n",
       "                                                   'PaperlessBilling']),\n",
       "                                                 ('Scaler', RobustScaler(),\n",
       "                                                  ['tenure',\n",
       "                                                   'MonthlyCharges'])])),\n",
       "                ('imba', RandomOverSampler(random_state=2023)),\n",
       "                ('algo', AdaBoostClassifier(random_state=2023))])"
      ]
     },
     "execution_count": 37,
     "metadata": {},
     "output_type": "execute_result"
    }
   ],
   "source": [
    "# Create a pipeline with preprocessing, resampling, and Adaboost\n",
    "pipe_ada = Pipeline([\n",
    "    ('prep', transform),\n",
    "    ('imba', ROS),\n",
    "    ('algo', ada)\n",
    "])\n",
    "\n",
    "pipe_ada"
   ]
  },
  {
   "cell_type": "code",
   "execution_count": 38,
   "metadata": {},
   "outputs": [
    {
     "name": "stdout",
     "output_type": "stream",
     "text": [
      "F2 Score with ADA-ROS(Default): 0.6818181818181819\n"
     ]
    }
   ],
   "source": [
    "# Fit Based Best Model 1 Pipeline to Train & Test Set\n",
    "pipe_ada.fit(Xtrain, ytrain)\n",
    "print(f'F2 Score with ADA-ROS(Default): {fbeta_score(ytest, pipe_ada.predict(Xtest), beta=2)}')"
   ]
  },
  {
   "cell_type": "markdown",
   "metadata": {},
   "source": [
    "##### **Hyperparameter Tuning**\n",
    "\n",
    "References: [Using GridSearchCV with AdaBoost and DecisionTreeClassifier](https://stackoverflow.com/questions/32210569/using-gridsearchcv-with-adaboost-and-decisiontreeclassifier)"
   ]
  },
  {
   "cell_type": "code",
   "execution_count": 39,
   "metadata": {},
   "outputs": [
    {
     "data": {
      "text/html": [
       "<style>#sk-container-id-2 {color: black;background-color: white;}#sk-container-id-2 pre{padding: 0;}#sk-container-id-2 div.sk-toggleable {background-color: white;}#sk-container-id-2 label.sk-toggleable__label {cursor: pointer;display: block;width: 100%;margin-bottom: 0;padding: 0.3em;box-sizing: border-box;text-align: center;}#sk-container-id-2 label.sk-toggleable__label-arrow:before {content: \"▸\";float: left;margin-right: 0.25em;color: #696969;}#sk-container-id-2 label.sk-toggleable__label-arrow:hover:before {color: black;}#sk-container-id-2 div.sk-estimator:hover label.sk-toggleable__label-arrow:before {color: black;}#sk-container-id-2 div.sk-toggleable__content {max-height: 0;max-width: 0;overflow: hidden;text-align: left;background-color: #f0f8ff;}#sk-container-id-2 div.sk-toggleable__content pre {margin: 0.2em;color: black;border-radius: 0.25em;background-color: #f0f8ff;}#sk-container-id-2 input.sk-toggleable__control:checked~div.sk-toggleable__content {max-height: 200px;max-width: 100%;overflow: auto;}#sk-container-id-2 input.sk-toggleable__control:checked~label.sk-toggleable__label-arrow:before {content: \"▾\";}#sk-container-id-2 div.sk-estimator input.sk-toggleable__control:checked~label.sk-toggleable__label {background-color: #d4ebff;}#sk-container-id-2 div.sk-label input.sk-toggleable__control:checked~label.sk-toggleable__label {background-color: #d4ebff;}#sk-container-id-2 input.sk-hidden--visually {border: 0;clip: rect(1px 1px 1px 1px);clip: rect(1px, 1px, 1px, 1px);height: 1px;margin: -1px;overflow: hidden;padding: 0;position: absolute;width: 1px;}#sk-container-id-2 div.sk-estimator {font-family: monospace;background-color: #f0f8ff;border: 1px dotted black;border-radius: 0.25em;box-sizing: border-box;margin-bottom: 0.5em;}#sk-container-id-2 div.sk-estimator:hover {background-color: #d4ebff;}#sk-container-id-2 div.sk-parallel-item::after {content: \"\";width: 100%;border-bottom: 1px solid gray;flex-grow: 1;}#sk-container-id-2 div.sk-label:hover label.sk-toggleable__label {background-color: #d4ebff;}#sk-container-id-2 div.sk-serial::before {content: \"\";position: absolute;border-left: 1px solid gray;box-sizing: border-box;top: 0;bottom: 0;left: 50%;z-index: 0;}#sk-container-id-2 div.sk-serial {display: flex;flex-direction: column;align-items: center;background-color: white;padding-right: 0.2em;padding-left: 0.2em;position: relative;}#sk-container-id-2 div.sk-item {position: relative;z-index: 1;}#sk-container-id-2 div.sk-parallel {display: flex;align-items: stretch;justify-content: center;background-color: white;position: relative;}#sk-container-id-2 div.sk-item::before, #sk-container-id-2 div.sk-parallel-item::before {content: \"\";position: absolute;border-left: 1px solid gray;box-sizing: border-box;top: 0;bottom: 0;left: 50%;z-index: -1;}#sk-container-id-2 div.sk-parallel-item {display: flex;flex-direction: column;z-index: 1;position: relative;background-color: white;}#sk-container-id-2 div.sk-parallel-item:first-child::after {align-self: flex-end;width: 50%;}#sk-container-id-2 div.sk-parallel-item:last-child::after {align-self: flex-start;width: 50%;}#sk-container-id-2 div.sk-parallel-item:only-child::after {width: 0;}#sk-container-id-2 div.sk-dashed-wrapped {border: 1px dashed gray;margin: 0 0.4em 0.5em 0.4em;box-sizing: border-box;padding-bottom: 0.4em;background-color: white;}#sk-container-id-2 div.sk-label label {font-family: monospace;font-weight: bold;display: inline-block;line-height: 1.2em;}#sk-container-id-2 div.sk-label-container {text-align: center;}#sk-container-id-2 div.sk-container {/* jupyter's `normalize.less` sets `[hidden] { display: none; }` but bootstrap.min.css set `[hidden] { display: none !important; }` so we also need the `!important` here to be able to override the default hidden behavior on the sphinx rendered scikit-learn.org. See: https://github.com/scikit-learn/scikit-learn/issues/21755 */display: inline-block !important;position: relative;}#sk-container-id-2 div.sk-text-repr-fallback {display: none;}</style><div id=\"sk-container-id-2\" class=\"sk-top-container\"><div class=\"sk-text-repr-fallback\"><pre>GridSearchCV(cv=StratifiedKFold(n_splits=5, random_state=2023, shuffle=True),\n",
       "             estimator=Pipeline(steps=[(&#x27;prep&#x27;,\n",
       "                                        ColumnTransformer(transformers=[(&#x27;One &#x27;\n",
       "                                                                         &#x27;Hot &#x27;\n",
       "                                                                         &#x27;Encoder&#x27;,\n",
       "                                                                         OneHotEncoder(drop=&#x27;first&#x27;),\n",
       "                                                                         [&#x27;Dependents&#x27;,\n",
       "                                                                          &#x27;OnlineSecurity&#x27;,\n",
       "                                                                          &#x27;OnlineBackup&#x27;,\n",
       "                                                                          &#x27;DeviceProtection&#x27;,\n",
       "                                                                          &#x27;InternetService&#x27;,\n",
       "                                                                          &#x27;TechSupport&#x27;,\n",
       "                                                                          &#x27;Contract&#x27;,\n",
       "                                                                          &#x27;PaperlessBilling&#x27;]),\n",
       "                                                                        (&#x27;Scaler&#x27;,\n",
       "                                                                         RobustScaler(),\n",
       "                                                                         [&#x27;tenu...\n",
       "                                        RandomOverSampler(random_state=2023)),\n",
       "                                       (&#x27;algo&#x27;,\n",
       "                                        AdaBoostClassifier(random_state=2023))]),\n",
       "             n_jobs=-1,\n",
       "             param_grid={&#x27;algo__algorithm&#x27;: [&#x27;SAMME&#x27;, &#x27;SAMME.R&#x27;],\n",
       "                         &#x27;algo__learning_rate&#x27;: [0.97, 0.98, 0.99, 1.0, 1.01,\n",
       "                                                 1.02, 1.03, 1.04],\n",
       "                         &#x27;algo__n_estimators&#x27;: array([  50,  100,  150,  200,  250,  300,  350,  400,  450,  500,  550,\n",
       "        600,  650,  700,  750,  800,  850,  900,  950, 1000])},\n",
       "             scoring=make_scorer(fbeta_score, beta=2))</pre><b>In a Jupyter environment, please rerun this cell to show the HTML representation or trust the notebook. <br />On GitHub, the HTML representation is unable to render, please try loading this page with nbviewer.org.</b></div><div class=\"sk-container\" hidden><div class=\"sk-item sk-dashed-wrapped\"><div class=\"sk-label-container\"><div class=\"sk-label sk-toggleable\"><input class=\"sk-toggleable__control sk-hidden--visually\" id=\"sk-estimator-id-9\" type=\"checkbox\" ><label for=\"sk-estimator-id-9\" class=\"sk-toggleable__label sk-toggleable__label-arrow\">GridSearchCV</label><div class=\"sk-toggleable__content\"><pre>GridSearchCV(cv=StratifiedKFold(n_splits=5, random_state=2023, shuffle=True),\n",
       "             estimator=Pipeline(steps=[(&#x27;prep&#x27;,\n",
       "                                        ColumnTransformer(transformers=[(&#x27;One &#x27;\n",
       "                                                                         &#x27;Hot &#x27;\n",
       "                                                                         &#x27;Encoder&#x27;,\n",
       "                                                                         OneHotEncoder(drop=&#x27;first&#x27;),\n",
       "                                                                         [&#x27;Dependents&#x27;,\n",
       "                                                                          &#x27;OnlineSecurity&#x27;,\n",
       "                                                                          &#x27;OnlineBackup&#x27;,\n",
       "                                                                          &#x27;DeviceProtection&#x27;,\n",
       "                                                                          &#x27;InternetService&#x27;,\n",
       "                                                                          &#x27;TechSupport&#x27;,\n",
       "                                                                          &#x27;Contract&#x27;,\n",
       "                                                                          &#x27;PaperlessBilling&#x27;]),\n",
       "                                                                        (&#x27;Scaler&#x27;,\n",
       "                                                                         RobustScaler(),\n",
       "                                                                         [&#x27;tenu...\n",
       "                                        RandomOverSampler(random_state=2023)),\n",
       "                                       (&#x27;algo&#x27;,\n",
       "                                        AdaBoostClassifier(random_state=2023))]),\n",
       "             n_jobs=-1,\n",
       "             param_grid={&#x27;algo__algorithm&#x27;: [&#x27;SAMME&#x27;, &#x27;SAMME.R&#x27;],\n",
       "                         &#x27;algo__learning_rate&#x27;: [0.97, 0.98, 0.99, 1.0, 1.01,\n",
       "                                                 1.02, 1.03, 1.04],\n",
       "                         &#x27;algo__n_estimators&#x27;: array([  50,  100,  150,  200,  250,  300,  350,  400,  450,  500,  550,\n",
       "        600,  650,  700,  750,  800,  850,  900,  950, 1000])},\n",
       "             scoring=make_scorer(fbeta_score, beta=2))</pre></div></div></div><div class=\"sk-parallel\"><div class=\"sk-parallel-item\"><div class=\"sk-item\"><div class=\"sk-label-container\"><div class=\"sk-label sk-toggleable\"><input class=\"sk-toggleable__control sk-hidden--visually\" id=\"sk-estimator-id-10\" type=\"checkbox\" ><label for=\"sk-estimator-id-10\" class=\"sk-toggleable__label sk-toggleable__label-arrow\">estimator: Pipeline</label><div class=\"sk-toggleable__content\"><pre>Pipeline(steps=[(&#x27;prep&#x27;,\n",
       "                 ColumnTransformer(transformers=[(&#x27;One Hot Encoder&#x27;,\n",
       "                                                  OneHotEncoder(drop=&#x27;first&#x27;),\n",
       "                                                  [&#x27;Dependents&#x27;,\n",
       "                                                   &#x27;OnlineSecurity&#x27;,\n",
       "                                                   &#x27;OnlineBackup&#x27;,\n",
       "                                                   &#x27;DeviceProtection&#x27;,\n",
       "                                                   &#x27;InternetService&#x27;,\n",
       "                                                   &#x27;TechSupport&#x27;, &#x27;Contract&#x27;,\n",
       "                                                   &#x27;PaperlessBilling&#x27;]),\n",
       "                                                 (&#x27;Scaler&#x27;, RobustScaler(),\n",
       "                                                  [&#x27;tenure&#x27;,\n",
       "                                                   &#x27;MonthlyCharges&#x27;])])),\n",
       "                (&#x27;imba&#x27;, RandomOverSampler(random_state=2023)),\n",
       "                (&#x27;algo&#x27;, AdaBoostClassifier(random_state=2023))])</pre></div></div></div><div class=\"sk-serial\"><div class=\"sk-item\"><div class=\"sk-serial\"><div class=\"sk-item sk-dashed-wrapped\"><div class=\"sk-label-container\"><div class=\"sk-label sk-toggleable\"><input class=\"sk-toggleable__control sk-hidden--visually\" id=\"sk-estimator-id-11\" type=\"checkbox\" ><label for=\"sk-estimator-id-11\" class=\"sk-toggleable__label sk-toggleable__label-arrow\">prep: ColumnTransformer</label><div class=\"sk-toggleable__content\"><pre>ColumnTransformer(transformers=[(&#x27;One Hot Encoder&#x27;, OneHotEncoder(drop=&#x27;first&#x27;),\n",
       "                                 [&#x27;Dependents&#x27;, &#x27;OnlineSecurity&#x27;,\n",
       "                                  &#x27;OnlineBackup&#x27;, &#x27;DeviceProtection&#x27;,\n",
       "                                  &#x27;InternetService&#x27;, &#x27;TechSupport&#x27;, &#x27;Contract&#x27;,\n",
       "                                  &#x27;PaperlessBilling&#x27;]),\n",
       "                                (&#x27;Scaler&#x27;, RobustScaler(),\n",
       "                                 [&#x27;tenure&#x27;, &#x27;MonthlyCharges&#x27;])])</pre></div></div></div><div class=\"sk-parallel\"><div class=\"sk-parallel-item\"><div class=\"sk-item\"><div class=\"sk-label-container\"><div class=\"sk-label sk-toggleable\"><input class=\"sk-toggleable__control sk-hidden--visually\" id=\"sk-estimator-id-12\" type=\"checkbox\" ><label for=\"sk-estimator-id-12\" class=\"sk-toggleable__label sk-toggleable__label-arrow\">One Hot Encoder</label><div class=\"sk-toggleable__content\"><pre>[&#x27;Dependents&#x27;, &#x27;OnlineSecurity&#x27;, &#x27;OnlineBackup&#x27;, &#x27;DeviceProtection&#x27;, &#x27;InternetService&#x27;, &#x27;TechSupport&#x27;, &#x27;Contract&#x27;, &#x27;PaperlessBilling&#x27;]</pre></div></div></div><div class=\"sk-serial\"><div class=\"sk-item\"><div class=\"sk-estimator sk-toggleable\"><input class=\"sk-toggleable__control sk-hidden--visually\" id=\"sk-estimator-id-13\" type=\"checkbox\" ><label for=\"sk-estimator-id-13\" class=\"sk-toggleable__label sk-toggleable__label-arrow\">OneHotEncoder</label><div class=\"sk-toggleable__content\"><pre>OneHotEncoder(drop=&#x27;first&#x27;)</pre></div></div></div></div></div></div><div class=\"sk-parallel-item\"><div class=\"sk-item\"><div class=\"sk-label-container\"><div class=\"sk-label sk-toggleable\"><input class=\"sk-toggleable__control sk-hidden--visually\" id=\"sk-estimator-id-14\" type=\"checkbox\" ><label for=\"sk-estimator-id-14\" class=\"sk-toggleable__label sk-toggleable__label-arrow\">Scaler</label><div class=\"sk-toggleable__content\"><pre>[&#x27;tenure&#x27;, &#x27;MonthlyCharges&#x27;]</pre></div></div></div><div class=\"sk-serial\"><div class=\"sk-item\"><div class=\"sk-estimator sk-toggleable\"><input class=\"sk-toggleable__control sk-hidden--visually\" id=\"sk-estimator-id-15\" type=\"checkbox\" ><label for=\"sk-estimator-id-15\" class=\"sk-toggleable__label sk-toggleable__label-arrow\">RobustScaler</label><div class=\"sk-toggleable__content\"><pre>RobustScaler()</pre></div></div></div></div></div></div></div></div><div class=\"sk-item\"><div class=\"sk-estimator sk-toggleable\"><input class=\"sk-toggleable__control sk-hidden--visually\" id=\"sk-estimator-id-16\" type=\"checkbox\" ><label for=\"sk-estimator-id-16\" class=\"sk-toggleable__label sk-toggleable__label-arrow\">RandomOverSampler</label><div class=\"sk-toggleable__content\"><pre>RandomOverSampler(random_state=2023)</pre></div></div></div><div class=\"sk-item\"><div class=\"sk-estimator sk-toggleable\"><input class=\"sk-toggleable__control sk-hidden--visually\" id=\"sk-estimator-id-17\" type=\"checkbox\" ><label for=\"sk-estimator-id-17\" class=\"sk-toggleable__label sk-toggleable__label-arrow\">AdaBoostClassifier</label><div class=\"sk-toggleable__content\"><pre>AdaBoostClassifier(random_state=2023)</pre></div></div></div></div></div></div></div></div></div></div></div></div>"
      ],
      "text/plain": [
       "GridSearchCV(cv=StratifiedKFold(n_splits=5, random_state=2023, shuffle=True),\n",
       "             estimator=Pipeline(steps=[('prep',\n",
       "                                        ColumnTransformer(transformers=[('One '\n",
       "                                                                         'Hot '\n",
       "                                                                         'Encoder',\n",
       "                                                                         OneHotEncoder(drop='first'),\n",
       "                                                                         ['Dependents',\n",
       "                                                                          'OnlineSecurity',\n",
       "                                                                          'OnlineBackup',\n",
       "                                                                          'DeviceProtection',\n",
       "                                                                          'InternetService',\n",
       "                                                                          'TechSupport',\n",
       "                                                                          'Contract',\n",
       "                                                                          'PaperlessBilling']),\n",
       "                                                                        ('Scaler',\n",
       "                                                                         RobustScaler(),\n",
       "                                                                         ['tenu...\n",
       "                                        RandomOverSampler(random_state=2023)),\n",
       "                                       ('algo',\n",
       "                                        AdaBoostClassifier(random_state=2023))]),\n",
       "             n_jobs=-1,\n",
       "             param_grid={'algo__algorithm': ['SAMME', 'SAMME.R'],\n",
       "                         'algo__learning_rate': [0.97, 0.98, 0.99, 1.0, 1.01,\n",
       "                                                 1.02, 1.03, 1.04],\n",
       "                         'algo__n_estimators': array([  50,  100,  150,  200,  250,  300,  350,  400,  450,  500,  550,\n",
       "        600,  650,  700,  750,  800,  850,  900,  950, 1000])},\n",
       "             scoring=make_scorer(fbeta_score, beta=2))"
      ]
     },
     "execution_count": 39,
     "metadata": {},
     "output_type": "execute_result"
    }
   ],
   "source": [
    "#  ADA Boost Hyperparameter Tuning\n",
    "\n",
    "#Import GridSearchCV\n",
    "from sklearn.model_selection import GridSearchCV\n",
    "from sklearn.model_selection import RandomizedSearchCV\n",
    "\n",
    "#Import kfold\n",
    "from sklearn.model_selection import StratifiedKFold\n",
    "\n",
    "kfold = StratifiedKFold(n_splits=5, shuffle=True, random_state=2023)\n",
    "\n",
    "#setup the parameter grid for ADA\n",
    "ada_space = {\n",
    "    'algo__n_estimators': np.arange(50, 1001, 50),\n",
    "    'algo__learning_rate': [(0.97 + x / 100) for x in range(0, 8)],\n",
    "    'algo__algorithm': ['SAMME', 'SAMME.R']\n",
    "}\n",
    "\n",
    "# Initialize GridSearchCV\n",
    "ada_grid = GridSearchCV(pipe_ada, param_grid=ada_space, cv=kfold, scoring=f2_scoresheet, n_jobs=-1)\n",
    "ada_grid"
   ]
  },
  {
   "cell_type": "code",
   "execution_count": 40,
   "metadata": {},
   "outputs": [
    {
     "name": "stdout",
     "output_type": "stream",
     "text": [
      "Best Hyperparameters: {'algo__algorithm': 'SAMME.R', 'algo__learning_rate': 1.02, 'algo__n_estimators': 50}\n"
     ]
    }
   ],
   "source": [
    "ada_grid.fit(Xtrain, ytrain)\n",
    "\n",
    "#Check the best parameters\n",
    "best_params = ada_grid.best_params_\n",
    "print(\"Best Hyperparameters:\", best_params)"
   ]
  },
  {
   "cell_type": "code",
   "execution_count": 41,
   "metadata": {},
   "outputs": [],
   "source": [
    "# Evaluate the model on the test set\n",
    "\n",
    "# Fit model on train data\n",
    "ada_grid.best_estimator_.fit(Xtrain, ytrain)\n",
    "\n",
    "# Create ADA Prediction\n",
    "adapred = ada_grid.predict(Xtest)"
   ]
  },
  {
   "cell_type": "code",
   "execution_count": 42,
   "metadata": {},
   "outputs": [
    {
     "name": "stdout",
     "output_type": "stream",
     "text": [
      "F2 Score with ADA-ROS(Tuned, Test Set): 0.6822953114065781\n"
     ]
    }
   ],
   "source": [
    "print(f'F2 Score with ADA-ROS(Tuned, Test Set): {fbeta_score(ytest, adapred, beta=2)}')"
   ]
  },
  {
   "cell_type": "markdown",
   "metadata": {},
   "source": [
    "#### **Best Model 2 : SVC-RUS**\n",
    "- Model      : Super Vector Classification\n",
    "- Resampling : Random Under Sampler"
   ]
  },
  {
   "cell_type": "code",
   "execution_count": 43,
   "metadata": {},
   "outputs": [
    {
     "data": {
      "text/html": [
       "<style>#sk-container-id-3 {color: black;background-color: white;}#sk-container-id-3 pre{padding: 0;}#sk-container-id-3 div.sk-toggleable {background-color: white;}#sk-container-id-3 label.sk-toggleable__label {cursor: pointer;display: block;width: 100%;margin-bottom: 0;padding: 0.3em;box-sizing: border-box;text-align: center;}#sk-container-id-3 label.sk-toggleable__label-arrow:before {content: \"▸\";float: left;margin-right: 0.25em;color: #696969;}#sk-container-id-3 label.sk-toggleable__label-arrow:hover:before {color: black;}#sk-container-id-3 div.sk-estimator:hover label.sk-toggleable__label-arrow:before {color: black;}#sk-container-id-3 div.sk-toggleable__content {max-height: 0;max-width: 0;overflow: hidden;text-align: left;background-color: #f0f8ff;}#sk-container-id-3 div.sk-toggleable__content pre {margin: 0.2em;color: black;border-radius: 0.25em;background-color: #f0f8ff;}#sk-container-id-3 input.sk-toggleable__control:checked~div.sk-toggleable__content {max-height: 200px;max-width: 100%;overflow: auto;}#sk-container-id-3 input.sk-toggleable__control:checked~label.sk-toggleable__label-arrow:before {content: \"▾\";}#sk-container-id-3 div.sk-estimator input.sk-toggleable__control:checked~label.sk-toggleable__label {background-color: #d4ebff;}#sk-container-id-3 div.sk-label input.sk-toggleable__control:checked~label.sk-toggleable__label {background-color: #d4ebff;}#sk-container-id-3 input.sk-hidden--visually {border: 0;clip: rect(1px 1px 1px 1px);clip: rect(1px, 1px, 1px, 1px);height: 1px;margin: -1px;overflow: hidden;padding: 0;position: absolute;width: 1px;}#sk-container-id-3 div.sk-estimator {font-family: monospace;background-color: #f0f8ff;border: 1px dotted black;border-radius: 0.25em;box-sizing: border-box;margin-bottom: 0.5em;}#sk-container-id-3 div.sk-estimator:hover {background-color: #d4ebff;}#sk-container-id-3 div.sk-parallel-item::after {content: \"\";width: 100%;border-bottom: 1px solid gray;flex-grow: 1;}#sk-container-id-3 div.sk-label:hover label.sk-toggleable__label {background-color: #d4ebff;}#sk-container-id-3 div.sk-serial::before {content: \"\";position: absolute;border-left: 1px solid gray;box-sizing: border-box;top: 0;bottom: 0;left: 50%;z-index: 0;}#sk-container-id-3 div.sk-serial {display: flex;flex-direction: column;align-items: center;background-color: white;padding-right: 0.2em;padding-left: 0.2em;position: relative;}#sk-container-id-3 div.sk-item {position: relative;z-index: 1;}#sk-container-id-3 div.sk-parallel {display: flex;align-items: stretch;justify-content: center;background-color: white;position: relative;}#sk-container-id-3 div.sk-item::before, #sk-container-id-3 div.sk-parallel-item::before {content: \"\";position: absolute;border-left: 1px solid gray;box-sizing: border-box;top: 0;bottom: 0;left: 50%;z-index: -1;}#sk-container-id-3 div.sk-parallel-item {display: flex;flex-direction: column;z-index: 1;position: relative;background-color: white;}#sk-container-id-3 div.sk-parallel-item:first-child::after {align-self: flex-end;width: 50%;}#sk-container-id-3 div.sk-parallel-item:last-child::after {align-self: flex-start;width: 50%;}#sk-container-id-3 div.sk-parallel-item:only-child::after {width: 0;}#sk-container-id-3 div.sk-dashed-wrapped {border: 1px dashed gray;margin: 0 0.4em 0.5em 0.4em;box-sizing: border-box;padding-bottom: 0.4em;background-color: white;}#sk-container-id-3 div.sk-label label {font-family: monospace;font-weight: bold;display: inline-block;line-height: 1.2em;}#sk-container-id-3 div.sk-label-container {text-align: center;}#sk-container-id-3 div.sk-container {/* jupyter's `normalize.less` sets `[hidden] { display: none; }` but bootstrap.min.css set `[hidden] { display: none !important; }` so we also need the `!important` here to be able to override the default hidden behavior on the sphinx rendered scikit-learn.org. See: https://github.com/scikit-learn/scikit-learn/issues/21755 */display: inline-block !important;position: relative;}#sk-container-id-3 div.sk-text-repr-fallback {display: none;}</style><div id=\"sk-container-id-3\" class=\"sk-top-container\"><div class=\"sk-text-repr-fallback\"><pre>Pipeline(steps=[(&#x27;prep&#x27;,\n",
       "                 ColumnTransformer(transformers=[(&#x27;One Hot Encoder&#x27;,\n",
       "                                                  OneHotEncoder(drop=&#x27;first&#x27;),\n",
       "                                                  [&#x27;Dependents&#x27;,\n",
       "                                                   &#x27;OnlineSecurity&#x27;,\n",
       "                                                   &#x27;OnlineBackup&#x27;,\n",
       "                                                   &#x27;DeviceProtection&#x27;,\n",
       "                                                   &#x27;InternetService&#x27;,\n",
       "                                                   &#x27;TechSupport&#x27;, &#x27;Contract&#x27;,\n",
       "                                                   &#x27;PaperlessBilling&#x27;]),\n",
       "                                                 (&#x27;Scaler&#x27;, RobustScaler(),\n",
       "                                                  [&#x27;tenure&#x27;,\n",
       "                                                   &#x27;MonthlyCharges&#x27;])])),\n",
       "                (&#x27;imba&#x27;, RandomUnderSampler(random_state=2023)),\n",
       "                (&#x27;algo&#x27;, SVC())])</pre><b>In a Jupyter environment, please rerun this cell to show the HTML representation or trust the notebook. <br />On GitHub, the HTML representation is unable to render, please try loading this page with nbviewer.org.</b></div><div class=\"sk-container\" hidden><div class=\"sk-item sk-dashed-wrapped\"><div class=\"sk-label-container\"><div class=\"sk-label sk-toggleable\"><input class=\"sk-toggleable__control sk-hidden--visually\" id=\"sk-estimator-id-18\" type=\"checkbox\" ><label for=\"sk-estimator-id-18\" class=\"sk-toggleable__label sk-toggleable__label-arrow\">Pipeline</label><div class=\"sk-toggleable__content\"><pre>Pipeline(steps=[(&#x27;prep&#x27;,\n",
       "                 ColumnTransformer(transformers=[(&#x27;One Hot Encoder&#x27;,\n",
       "                                                  OneHotEncoder(drop=&#x27;first&#x27;),\n",
       "                                                  [&#x27;Dependents&#x27;,\n",
       "                                                   &#x27;OnlineSecurity&#x27;,\n",
       "                                                   &#x27;OnlineBackup&#x27;,\n",
       "                                                   &#x27;DeviceProtection&#x27;,\n",
       "                                                   &#x27;InternetService&#x27;,\n",
       "                                                   &#x27;TechSupport&#x27;, &#x27;Contract&#x27;,\n",
       "                                                   &#x27;PaperlessBilling&#x27;]),\n",
       "                                                 (&#x27;Scaler&#x27;, RobustScaler(),\n",
       "                                                  [&#x27;tenure&#x27;,\n",
       "                                                   &#x27;MonthlyCharges&#x27;])])),\n",
       "                (&#x27;imba&#x27;, RandomUnderSampler(random_state=2023)),\n",
       "                (&#x27;algo&#x27;, SVC())])</pre></div></div></div><div class=\"sk-serial\"><div class=\"sk-item sk-dashed-wrapped\"><div class=\"sk-label-container\"><div class=\"sk-label sk-toggleable\"><input class=\"sk-toggleable__control sk-hidden--visually\" id=\"sk-estimator-id-19\" type=\"checkbox\" ><label for=\"sk-estimator-id-19\" class=\"sk-toggleable__label sk-toggleable__label-arrow\">prep: ColumnTransformer</label><div class=\"sk-toggleable__content\"><pre>ColumnTransformer(transformers=[(&#x27;One Hot Encoder&#x27;, OneHotEncoder(drop=&#x27;first&#x27;),\n",
       "                                 [&#x27;Dependents&#x27;, &#x27;OnlineSecurity&#x27;,\n",
       "                                  &#x27;OnlineBackup&#x27;, &#x27;DeviceProtection&#x27;,\n",
       "                                  &#x27;InternetService&#x27;, &#x27;TechSupport&#x27;, &#x27;Contract&#x27;,\n",
       "                                  &#x27;PaperlessBilling&#x27;]),\n",
       "                                (&#x27;Scaler&#x27;, RobustScaler(),\n",
       "                                 [&#x27;tenure&#x27;, &#x27;MonthlyCharges&#x27;])])</pre></div></div></div><div class=\"sk-parallel\"><div class=\"sk-parallel-item\"><div class=\"sk-item\"><div class=\"sk-label-container\"><div class=\"sk-label sk-toggleable\"><input class=\"sk-toggleable__control sk-hidden--visually\" id=\"sk-estimator-id-20\" type=\"checkbox\" ><label for=\"sk-estimator-id-20\" class=\"sk-toggleable__label sk-toggleable__label-arrow\">One Hot Encoder</label><div class=\"sk-toggleable__content\"><pre>[&#x27;Dependents&#x27;, &#x27;OnlineSecurity&#x27;, &#x27;OnlineBackup&#x27;, &#x27;DeviceProtection&#x27;, &#x27;InternetService&#x27;, &#x27;TechSupport&#x27;, &#x27;Contract&#x27;, &#x27;PaperlessBilling&#x27;]</pre></div></div></div><div class=\"sk-serial\"><div class=\"sk-item\"><div class=\"sk-estimator sk-toggleable\"><input class=\"sk-toggleable__control sk-hidden--visually\" id=\"sk-estimator-id-21\" type=\"checkbox\" ><label for=\"sk-estimator-id-21\" class=\"sk-toggleable__label sk-toggleable__label-arrow\">OneHotEncoder</label><div class=\"sk-toggleable__content\"><pre>OneHotEncoder(drop=&#x27;first&#x27;)</pre></div></div></div></div></div></div><div class=\"sk-parallel-item\"><div class=\"sk-item\"><div class=\"sk-label-container\"><div class=\"sk-label sk-toggleable\"><input class=\"sk-toggleable__control sk-hidden--visually\" id=\"sk-estimator-id-22\" type=\"checkbox\" ><label for=\"sk-estimator-id-22\" class=\"sk-toggleable__label sk-toggleable__label-arrow\">Scaler</label><div class=\"sk-toggleable__content\"><pre>[&#x27;tenure&#x27;, &#x27;MonthlyCharges&#x27;]</pre></div></div></div><div class=\"sk-serial\"><div class=\"sk-item\"><div class=\"sk-estimator sk-toggleable\"><input class=\"sk-toggleable__control sk-hidden--visually\" id=\"sk-estimator-id-23\" type=\"checkbox\" ><label for=\"sk-estimator-id-23\" class=\"sk-toggleable__label sk-toggleable__label-arrow\">RobustScaler</label><div class=\"sk-toggleable__content\"><pre>RobustScaler()</pre></div></div></div></div></div></div></div></div><div class=\"sk-item\"><div class=\"sk-estimator sk-toggleable\"><input class=\"sk-toggleable__control sk-hidden--visually\" id=\"sk-estimator-id-24\" type=\"checkbox\" ><label for=\"sk-estimator-id-24\" class=\"sk-toggleable__label sk-toggleable__label-arrow\">RandomUnderSampler</label><div class=\"sk-toggleable__content\"><pre>RandomUnderSampler(random_state=2023)</pre></div></div></div><div class=\"sk-item\"><div class=\"sk-estimator sk-toggleable\"><input class=\"sk-toggleable__control sk-hidden--visually\" id=\"sk-estimator-id-25\" type=\"checkbox\" ><label for=\"sk-estimator-id-25\" class=\"sk-toggleable__label sk-toggleable__label-arrow\">SVC</label><div class=\"sk-toggleable__content\"><pre>SVC()</pre></div></div></div></div></div></div></div>"
      ],
      "text/plain": [
       "Pipeline(steps=[('prep',\n",
       "                 ColumnTransformer(transformers=[('One Hot Encoder',\n",
       "                                                  OneHotEncoder(drop='first'),\n",
       "                                                  ['Dependents',\n",
       "                                                   'OnlineSecurity',\n",
       "                                                   'OnlineBackup',\n",
       "                                                   'DeviceProtection',\n",
       "                                                   'InternetService',\n",
       "                                                   'TechSupport', 'Contract',\n",
       "                                                   'PaperlessBilling']),\n",
       "                                                 ('Scaler', RobustScaler(),\n",
       "                                                  ['tenure',\n",
       "                                                   'MonthlyCharges'])])),\n",
       "                ('imba', RandomUnderSampler(random_state=2023)),\n",
       "                ('algo', SVC())])"
      ]
     },
     "execution_count": 43,
     "metadata": {},
     "output_type": "execute_result"
    }
   ],
   "source": [
    "# Create a pipeline with preprocessing, resampling, and Adaboost\n",
    "pipe_svc = Pipeline([\n",
    "    ('prep', transform),\n",
    "    ('imba', RUS),\n",
    "    ('algo', svc)\n",
    "])\n",
    "\n",
    "pipe_svc"
   ]
  },
  {
   "cell_type": "code",
   "execution_count": 44,
   "metadata": {},
   "outputs": [
    {
     "name": "stdout",
     "output_type": "stream",
     "text": [
      "F2 Score with SVC-RUS(Default): 0.6808659217877094\n"
     ]
    }
   ],
   "source": [
    "# Fit Based Best Model 2 Pipeline to Train & Test Set\n",
    "pipe_svc.fit(Xtrain, ytrain)\n",
    "print(f'F2 Score with SVC-RUS(Default): {fbeta_score(ytest, pipe_svc.predict(Xtest), beta=2)}')"
   ]
  },
  {
   "cell_type": "markdown",
   "metadata": {},
   "source": [
    "##### **Hyperparameter Tuning**\n",
    "\n",
    "References: [SVM Hyperparamter tunning using GridSearchCV](https://stackoverflow.com/questions/68705237/svm-hyperparamter-tunning-using-gridsearchcv)"
   ]
  },
  {
   "cell_type": "code",
   "execution_count": 45,
   "metadata": {},
   "outputs": [
    {
     "data": {
      "text/html": [
       "<style>#sk-container-id-4 {color: black;background-color: white;}#sk-container-id-4 pre{padding: 0;}#sk-container-id-4 div.sk-toggleable {background-color: white;}#sk-container-id-4 label.sk-toggleable__label {cursor: pointer;display: block;width: 100%;margin-bottom: 0;padding: 0.3em;box-sizing: border-box;text-align: center;}#sk-container-id-4 label.sk-toggleable__label-arrow:before {content: \"▸\";float: left;margin-right: 0.25em;color: #696969;}#sk-container-id-4 label.sk-toggleable__label-arrow:hover:before {color: black;}#sk-container-id-4 div.sk-estimator:hover label.sk-toggleable__label-arrow:before {color: black;}#sk-container-id-4 div.sk-toggleable__content {max-height: 0;max-width: 0;overflow: hidden;text-align: left;background-color: #f0f8ff;}#sk-container-id-4 div.sk-toggleable__content pre {margin: 0.2em;color: black;border-radius: 0.25em;background-color: #f0f8ff;}#sk-container-id-4 input.sk-toggleable__control:checked~div.sk-toggleable__content {max-height: 200px;max-width: 100%;overflow: auto;}#sk-container-id-4 input.sk-toggleable__control:checked~label.sk-toggleable__label-arrow:before {content: \"▾\";}#sk-container-id-4 div.sk-estimator input.sk-toggleable__control:checked~label.sk-toggleable__label {background-color: #d4ebff;}#sk-container-id-4 div.sk-label input.sk-toggleable__control:checked~label.sk-toggleable__label {background-color: #d4ebff;}#sk-container-id-4 input.sk-hidden--visually {border: 0;clip: rect(1px 1px 1px 1px);clip: rect(1px, 1px, 1px, 1px);height: 1px;margin: -1px;overflow: hidden;padding: 0;position: absolute;width: 1px;}#sk-container-id-4 div.sk-estimator {font-family: monospace;background-color: #f0f8ff;border: 1px dotted black;border-radius: 0.25em;box-sizing: border-box;margin-bottom: 0.5em;}#sk-container-id-4 div.sk-estimator:hover {background-color: #d4ebff;}#sk-container-id-4 div.sk-parallel-item::after {content: \"\";width: 100%;border-bottom: 1px solid gray;flex-grow: 1;}#sk-container-id-4 div.sk-label:hover label.sk-toggleable__label {background-color: #d4ebff;}#sk-container-id-4 div.sk-serial::before {content: \"\";position: absolute;border-left: 1px solid gray;box-sizing: border-box;top: 0;bottom: 0;left: 50%;z-index: 0;}#sk-container-id-4 div.sk-serial {display: flex;flex-direction: column;align-items: center;background-color: white;padding-right: 0.2em;padding-left: 0.2em;position: relative;}#sk-container-id-4 div.sk-item {position: relative;z-index: 1;}#sk-container-id-4 div.sk-parallel {display: flex;align-items: stretch;justify-content: center;background-color: white;position: relative;}#sk-container-id-4 div.sk-item::before, #sk-container-id-4 div.sk-parallel-item::before {content: \"\";position: absolute;border-left: 1px solid gray;box-sizing: border-box;top: 0;bottom: 0;left: 50%;z-index: -1;}#sk-container-id-4 div.sk-parallel-item {display: flex;flex-direction: column;z-index: 1;position: relative;background-color: white;}#sk-container-id-4 div.sk-parallel-item:first-child::after {align-self: flex-end;width: 50%;}#sk-container-id-4 div.sk-parallel-item:last-child::after {align-self: flex-start;width: 50%;}#sk-container-id-4 div.sk-parallel-item:only-child::after {width: 0;}#sk-container-id-4 div.sk-dashed-wrapped {border: 1px dashed gray;margin: 0 0.4em 0.5em 0.4em;box-sizing: border-box;padding-bottom: 0.4em;background-color: white;}#sk-container-id-4 div.sk-label label {font-family: monospace;font-weight: bold;display: inline-block;line-height: 1.2em;}#sk-container-id-4 div.sk-label-container {text-align: center;}#sk-container-id-4 div.sk-container {/* jupyter's `normalize.less` sets `[hidden] { display: none; }` but bootstrap.min.css set `[hidden] { display: none !important; }` so we also need the `!important` here to be able to override the default hidden behavior on the sphinx rendered scikit-learn.org. See: https://github.com/scikit-learn/scikit-learn/issues/21755 */display: inline-block !important;position: relative;}#sk-container-id-4 div.sk-text-repr-fallback {display: none;}</style><div id=\"sk-container-id-4\" class=\"sk-top-container\"><div class=\"sk-text-repr-fallback\"><pre>GridSearchCV(cv=StratifiedKFold(n_splits=5, random_state=2023, shuffle=True),\n",
       "             estimator=Pipeline(steps=[(&#x27;prep&#x27;,\n",
       "                                        ColumnTransformer(transformers=[(&#x27;One &#x27;\n",
       "                                                                         &#x27;Hot &#x27;\n",
       "                                                                         &#x27;Encoder&#x27;,\n",
       "                                                                         OneHotEncoder(drop=&#x27;first&#x27;),\n",
       "                                                                         [&#x27;Dependents&#x27;,\n",
       "                                                                          &#x27;OnlineSecurity&#x27;,\n",
       "                                                                          &#x27;OnlineBackup&#x27;,\n",
       "                                                                          &#x27;DeviceProtection&#x27;,\n",
       "                                                                          &#x27;InternetService&#x27;,\n",
       "                                                                          &#x27;TechSupport&#x27;,\n",
       "                                                                          &#x27;Contract&#x27;,\n",
       "                                                                          &#x27;PaperlessBilling&#x27;]),\n",
       "                                                                        (&#x27;Scaler&#x27;,\n",
       "                                                                         RobustScaler(),\n",
       "                                                                         [&#x27;tenure&#x27;,\n",
       "                                                                          &#x27;MonthlyCharges&#x27;])])),\n",
       "                                       (&#x27;imba&#x27;,\n",
       "                                        RandomUnderSampler(random_state=2023)),\n",
       "                                       (&#x27;algo&#x27;, SVC())]),\n",
       "             n_jobs=-1,\n",
       "             param_grid={&#x27;algo__C&#x27;: [0.1, 1, 10, 100],\n",
       "                         &#x27;algo__class_weight&#x27;: [None, &#x27;balanced&#x27;],\n",
       "                         &#x27;algo__degree&#x27;: [2, 3, 4],\n",
       "                         &#x27;algo__gamma&#x27;: [&#x27;scale&#x27;, &#x27;auto&#x27;, 0.1, 1],\n",
       "                         &#x27;algo__kernel&#x27;: [&#x27;linear&#x27;, &#x27;poly&#x27;, &#x27;rbf&#x27;]},\n",
       "             scoring=make_scorer(fbeta_score, beta=2))</pre><b>In a Jupyter environment, please rerun this cell to show the HTML representation or trust the notebook. <br />On GitHub, the HTML representation is unable to render, please try loading this page with nbviewer.org.</b></div><div class=\"sk-container\" hidden><div class=\"sk-item sk-dashed-wrapped\"><div class=\"sk-label-container\"><div class=\"sk-label sk-toggleable\"><input class=\"sk-toggleable__control sk-hidden--visually\" id=\"sk-estimator-id-26\" type=\"checkbox\" ><label for=\"sk-estimator-id-26\" class=\"sk-toggleable__label sk-toggleable__label-arrow\">GridSearchCV</label><div class=\"sk-toggleable__content\"><pre>GridSearchCV(cv=StratifiedKFold(n_splits=5, random_state=2023, shuffle=True),\n",
       "             estimator=Pipeline(steps=[(&#x27;prep&#x27;,\n",
       "                                        ColumnTransformer(transformers=[(&#x27;One &#x27;\n",
       "                                                                         &#x27;Hot &#x27;\n",
       "                                                                         &#x27;Encoder&#x27;,\n",
       "                                                                         OneHotEncoder(drop=&#x27;first&#x27;),\n",
       "                                                                         [&#x27;Dependents&#x27;,\n",
       "                                                                          &#x27;OnlineSecurity&#x27;,\n",
       "                                                                          &#x27;OnlineBackup&#x27;,\n",
       "                                                                          &#x27;DeviceProtection&#x27;,\n",
       "                                                                          &#x27;InternetService&#x27;,\n",
       "                                                                          &#x27;TechSupport&#x27;,\n",
       "                                                                          &#x27;Contract&#x27;,\n",
       "                                                                          &#x27;PaperlessBilling&#x27;]),\n",
       "                                                                        (&#x27;Scaler&#x27;,\n",
       "                                                                         RobustScaler(),\n",
       "                                                                         [&#x27;tenure&#x27;,\n",
       "                                                                          &#x27;MonthlyCharges&#x27;])])),\n",
       "                                       (&#x27;imba&#x27;,\n",
       "                                        RandomUnderSampler(random_state=2023)),\n",
       "                                       (&#x27;algo&#x27;, SVC())]),\n",
       "             n_jobs=-1,\n",
       "             param_grid={&#x27;algo__C&#x27;: [0.1, 1, 10, 100],\n",
       "                         &#x27;algo__class_weight&#x27;: [None, &#x27;balanced&#x27;],\n",
       "                         &#x27;algo__degree&#x27;: [2, 3, 4],\n",
       "                         &#x27;algo__gamma&#x27;: [&#x27;scale&#x27;, &#x27;auto&#x27;, 0.1, 1],\n",
       "                         &#x27;algo__kernel&#x27;: [&#x27;linear&#x27;, &#x27;poly&#x27;, &#x27;rbf&#x27;]},\n",
       "             scoring=make_scorer(fbeta_score, beta=2))</pre></div></div></div><div class=\"sk-parallel\"><div class=\"sk-parallel-item\"><div class=\"sk-item\"><div class=\"sk-label-container\"><div class=\"sk-label sk-toggleable\"><input class=\"sk-toggleable__control sk-hidden--visually\" id=\"sk-estimator-id-27\" type=\"checkbox\" ><label for=\"sk-estimator-id-27\" class=\"sk-toggleable__label sk-toggleable__label-arrow\">estimator: Pipeline</label><div class=\"sk-toggleable__content\"><pre>Pipeline(steps=[(&#x27;prep&#x27;,\n",
       "                 ColumnTransformer(transformers=[(&#x27;One Hot Encoder&#x27;,\n",
       "                                                  OneHotEncoder(drop=&#x27;first&#x27;),\n",
       "                                                  [&#x27;Dependents&#x27;,\n",
       "                                                   &#x27;OnlineSecurity&#x27;,\n",
       "                                                   &#x27;OnlineBackup&#x27;,\n",
       "                                                   &#x27;DeviceProtection&#x27;,\n",
       "                                                   &#x27;InternetService&#x27;,\n",
       "                                                   &#x27;TechSupport&#x27;, &#x27;Contract&#x27;,\n",
       "                                                   &#x27;PaperlessBilling&#x27;]),\n",
       "                                                 (&#x27;Scaler&#x27;, RobustScaler(),\n",
       "                                                  [&#x27;tenure&#x27;,\n",
       "                                                   &#x27;MonthlyCharges&#x27;])])),\n",
       "                (&#x27;imba&#x27;, RandomUnderSampler(random_state=2023)),\n",
       "                (&#x27;algo&#x27;, SVC())])</pre></div></div></div><div class=\"sk-serial\"><div class=\"sk-item\"><div class=\"sk-serial\"><div class=\"sk-item sk-dashed-wrapped\"><div class=\"sk-label-container\"><div class=\"sk-label sk-toggleable\"><input class=\"sk-toggleable__control sk-hidden--visually\" id=\"sk-estimator-id-28\" type=\"checkbox\" ><label for=\"sk-estimator-id-28\" class=\"sk-toggleable__label sk-toggleable__label-arrow\">prep: ColumnTransformer</label><div class=\"sk-toggleable__content\"><pre>ColumnTransformer(transformers=[(&#x27;One Hot Encoder&#x27;, OneHotEncoder(drop=&#x27;first&#x27;),\n",
       "                                 [&#x27;Dependents&#x27;, &#x27;OnlineSecurity&#x27;,\n",
       "                                  &#x27;OnlineBackup&#x27;, &#x27;DeviceProtection&#x27;,\n",
       "                                  &#x27;InternetService&#x27;, &#x27;TechSupport&#x27;, &#x27;Contract&#x27;,\n",
       "                                  &#x27;PaperlessBilling&#x27;]),\n",
       "                                (&#x27;Scaler&#x27;, RobustScaler(),\n",
       "                                 [&#x27;tenure&#x27;, &#x27;MonthlyCharges&#x27;])])</pre></div></div></div><div class=\"sk-parallel\"><div class=\"sk-parallel-item\"><div class=\"sk-item\"><div class=\"sk-label-container\"><div class=\"sk-label sk-toggleable\"><input class=\"sk-toggleable__control sk-hidden--visually\" id=\"sk-estimator-id-29\" type=\"checkbox\" ><label for=\"sk-estimator-id-29\" class=\"sk-toggleable__label sk-toggleable__label-arrow\">One Hot Encoder</label><div class=\"sk-toggleable__content\"><pre>[&#x27;Dependents&#x27;, &#x27;OnlineSecurity&#x27;, &#x27;OnlineBackup&#x27;, &#x27;DeviceProtection&#x27;, &#x27;InternetService&#x27;, &#x27;TechSupport&#x27;, &#x27;Contract&#x27;, &#x27;PaperlessBilling&#x27;]</pre></div></div></div><div class=\"sk-serial\"><div class=\"sk-item\"><div class=\"sk-estimator sk-toggleable\"><input class=\"sk-toggleable__control sk-hidden--visually\" id=\"sk-estimator-id-30\" type=\"checkbox\" ><label for=\"sk-estimator-id-30\" class=\"sk-toggleable__label sk-toggleable__label-arrow\">OneHotEncoder</label><div class=\"sk-toggleable__content\"><pre>OneHotEncoder(drop=&#x27;first&#x27;)</pre></div></div></div></div></div></div><div class=\"sk-parallel-item\"><div class=\"sk-item\"><div class=\"sk-label-container\"><div class=\"sk-label sk-toggleable\"><input class=\"sk-toggleable__control sk-hidden--visually\" id=\"sk-estimator-id-31\" type=\"checkbox\" ><label for=\"sk-estimator-id-31\" class=\"sk-toggleable__label sk-toggleable__label-arrow\">Scaler</label><div class=\"sk-toggleable__content\"><pre>[&#x27;tenure&#x27;, &#x27;MonthlyCharges&#x27;]</pre></div></div></div><div class=\"sk-serial\"><div class=\"sk-item\"><div class=\"sk-estimator sk-toggleable\"><input class=\"sk-toggleable__control sk-hidden--visually\" id=\"sk-estimator-id-32\" type=\"checkbox\" ><label for=\"sk-estimator-id-32\" class=\"sk-toggleable__label sk-toggleable__label-arrow\">RobustScaler</label><div class=\"sk-toggleable__content\"><pre>RobustScaler()</pre></div></div></div></div></div></div></div></div><div class=\"sk-item\"><div class=\"sk-estimator sk-toggleable\"><input class=\"sk-toggleable__control sk-hidden--visually\" id=\"sk-estimator-id-33\" type=\"checkbox\" ><label for=\"sk-estimator-id-33\" class=\"sk-toggleable__label sk-toggleable__label-arrow\">RandomUnderSampler</label><div class=\"sk-toggleable__content\"><pre>RandomUnderSampler(random_state=2023)</pre></div></div></div><div class=\"sk-item\"><div class=\"sk-estimator sk-toggleable\"><input class=\"sk-toggleable__control sk-hidden--visually\" id=\"sk-estimator-id-34\" type=\"checkbox\" ><label for=\"sk-estimator-id-34\" class=\"sk-toggleable__label sk-toggleable__label-arrow\">SVC</label><div class=\"sk-toggleable__content\"><pre>SVC()</pre></div></div></div></div></div></div></div></div></div></div></div></div>"
      ],
      "text/plain": [
       "GridSearchCV(cv=StratifiedKFold(n_splits=5, random_state=2023, shuffle=True),\n",
       "             estimator=Pipeline(steps=[('prep',\n",
       "                                        ColumnTransformer(transformers=[('One '\n",
       "                                                                         'Hot '\n",
       "                                                                         'Encoder',\n",
       "                                                                         OneHotEncoder(drop='first'),\n",
       "                                                                         ['Dependents',\n",
       "                                                                          'OnlineSecurity',\n",
       "                                                                          'OnlineBackup',\n",
       "                                                                          'DeviceProtection',\n",
       "                                                                          'InternetService',\n",
       "                                                                          'TechSupport',\n",
       "                                                                          'Contract',\n",
       "                                                                          'PaperlessBilling']),\n",
       "                                                                        ('Scaler',\n",
       "                                                                         RobustScaler(),\n",
       "                                                                         ['tenure',\n",
       "                                                                          'MonthlyCharges'])])),\n",
       "                                       ('imba',\n",
       "                                        RandomUnderSampler(random_state=2023)),\n",
       "                                       ('algo', SVC())]),\n",
       "             n_jobs=-1,\n",
       "             param_grid={'algo__C': [0.1, 1, 10, 100],\n",
       "                         'algo__class_weight': [None, 'balanced'],\n",
       "                         'algo__degree': [2, 3, 4],\n",
       "                         'algo__gamma': ['scale', 'auto', 0.1, 1],\n",
       "                         'algo__kernel': ['linear', 'poly', 'rbf']},\n",
       "             scoring=make_scorer(fbeta_score, beta=2))"
      ]
     },
     "execution_count": 45,
     "metadata": {},
     "output_type": "execute_result"
    }
   ],
   "source": [
    "#  SVC Hyperparameter Tuning\n",
    "\n",
    "# Define the parameter grid for SVC\n",
    "svc_space = {\n",
    "    'algo__C': [0.1, 1, 10, 100],\n",
    "    'algo__kernel': ['linear', 'poly', 'rbf'],\n",
    "    'algo__degree': [2, 3, 4],\n",
    "    'algo__gamma': ['scale', 'auto', 0.1, 1],\n",
    "    'algo__class_weight': [None, 'balanced']\n",
    "}\n",
    "\n",
    "# Initialize GridSearchCV\n",
    "svc_grid = GridSearchCV(pipe_svc, param_grid=svc_space, cv=kfold, scoring=f2_scoresheet, n_jobs=-1)\n",
    "\n",
    "# Perform grid search\n",
    "svc_grid.fit(Xtrain, ytrain)"
   ]
  },
  {
   "cell_type": "code",
   "execution_count": 46,
   "metadata": {},
   "outputs": [
    {
     "name": "stdout",
     "output_type": "stream",
     "text": [
      "Best Hyperparameters: {'algo__C': 0.1, 'algo__class_weight': None, 'algo__degree': 2, 'algo__gamma': 'scale', 'algo__kernel': 'linear'}\n"
     ]
    }
   ],
   "source": [
    "#Check the best parameters\n",
    "svc_best_params = svc_grid.best_params_\n",
    "print(\"Best Hyperparameters:\", svc_best_params)"
   ]
  },
  {
   "cell_type": "code",
   "execution_count": 47,
   "metadata": {},
   "outputs": [],
   "source": [
    "# Evaluate the model on the test set\n",
    "\n",
    "#Fit model on train data\n",
    "svc_grid.best_estimator_.fit(Xtrain, ytrain)\n",
    "\n",
    "#Create prediction\n",
    "svcpred = svc_grid.predict(Xtest)"
   ]
  },
  {
   "cell_type": "code",
   "execution_count": 48,
   "metadata": {},
   "outputs": [
    {
     "name": "stdout",
     "output_type": "stream",
     "text": [
      "F2 Score with SVC-RUS(Tuned): 0.7152361942781105\n"
     ]
    }
   ],
   "source": [
    "print(f'F2 Score with SVC-RUS(Tuned): {fbeta_score(ytest, svcpred, beta=2)}')"
   ]
  },
  {
   "cell_type": "markdown",
   "metadata": {},
   "source": [
    "#### **Best Model 3 : GBC-RUS**\n",
    "- Model      : Gradient Boosting Classifier\n",
    "- Resampling : Random Under Sampler"
   ]
  },
  {
   "cell_type": "code",
   "execution_count": 49,
   "metadata": {},
   "outputs": [
    {
     "data": {
      "text/html": [
       "<style>#sk-container-id-5 {color: black;background-color: white;}#sk-container-id-5 pre{padding: 0;}#sk-container-id-5 div.sk-toggleable {background-color: white;}#sk-container-id-5 label.sk-toggleable__label {cursor: pointer;display: block;width: 100%;margin-bottom: 0;padding: 0.3em;box-sizing: border-box;text-align: center;}#sk-container-id-5 label.sk-toggleable__label-arrow:before {content: \"▸\";float: left;margin-right: 0.25em;color: #696969;}#sk-container-id-5 label.sk-toggleable__label-arrow:hover:before {color: black;}#sk-container-id-5 div.sk-estimator:hover label.sk-toggleable__label-arrow:before {color: black;}#sk-container-id-5 div.sk-toggleable__content {max-height: 0;max-width: 0;overflow: hidden;text-align: left;background-color: #f0f8ff;}#sk-container-id-5 div.sk-toggleable__content pre {margin: 0.2em;color: black;border-radius: 0.25em;background-color: #f0f8ff;}#sk-container-id-5 input.sk-toggleable__control:checked~div.sk-toggleable__content {max-height: 200px;max-width: 100%;overflow: auto;}#sk-container-id-5 input.sk-toggleable__control:checked~label.sk-toggleable__label-arrow:before {content: \"▾\";}#sk-container-id-5 div.sk-estimator input.sk-toggleable__control:checked~label.sk-toggleable__label {background-color: #d4ebff;}#sk-container-id-5 div.sk-label input.sk-toggleable__control:checked~label.sk-toggleable__label {background-color: #d4ebff;}#sk-container-id-5 input.sk-hidden--visually {border: 0;clip: rect(1px 1px 1px 1px);clip: rect(1px, 1px, 1px, 1px);height: 1px;margin: -1px;overflow: hidden;padding: 0;position: absolute;width: 1px;}#sk-container-id-5 div.sk-estimator {font-family: monospace;background-color: #f0f8ff;border: 1px dotted black;border-radius: 0.25em;box-sizing: border-box;margin-bottom: 0.5em;}#sk-container-id-5 div.sk-estimator:hover {background-color: #d4ebff;}#sk-container-id-5 div.sk-parallel-item::after {content: \"\";width: 100%;border-bottom: 1px solid gray;flex-grow: 1;}#sk-container-id-5 div.sk-label:hover label.sk-toggleable__label {background-color: #d4ebff;}#sk-container-id-5 div.sk-serial::before {content: \"\";position: absolute;border-left: 1px solid gray;box-sizing: border-box;top: 0;bottom: 0;left: 50%;z-index: 0;}#sk-container-id-5 div.sk-serial {display: flex;flex-direction: column;align-items: center;background-color: white;padding-right: 0.2em;padding-left: 0.2em;position: relative;}#sk-container-id-5 div.sk-item {position: relative;z-index: 1;}#sk-container-id-5 div.sk-parallel {display: flex;align-items: stretch;justify-content: center;background-color: white;position: relative;}#sk-container-id-5 div.sk-item::before, #sk-container-id-5 div.sk-parallel-item::before {content: \"\";position: absolute;border-left: 1px solid gray;box-sizing: border-box;top: 0;bottom: 0;left: 50%;z-index: -1;}#sk-container-id-5 div.sk-parallel-item {display: flex;flex-direction: column;z-index: 1;position: relative;background-color: white;}#sk-container-id-5 div.sk-parallel-item:first-child::after {align-self: flex-end;width: 50%;}#sk-container-id-5 div.sk-parallel-item:last-child::after {align-self: flex-start;width: 50%;}#sk-container-id-5 div.sk-parallel-item:only-child::after {width: 0;}#sk-container-id-5 div.sk-dashed-wrapped {border: 1px dashed gray;margin: 0 0.4em 0.5em 0.4em;box-sizing: border-box;padding-bottom: 0.4em;background-color: white;}#sk-container-id-5 div.sk-label label {font-family: monospace;font-weight: bold;display: inline-block;line-height: 1.2em;}#sk-container-id-5 div.sk-label-container {text-align: center;}#sk-container-id-5 div.sk-container {/* jupyter's `normalize.less` sets `[hidden] { display: none; }` but bootstrap.min.css set `[hidden] { display: none !important; }` so we also need the `!important` here to be able to override the default hidden behavior on the sphinx rendered scikit-learn.org. See: https://github.com/scikit-learn/scikit-learn/issues/21755 */display: inline-block !important;position: relative;}#sk-container-id-5 div.sk-text-repr-fallback {display: none;}</style><div id=\"sk-container-id-5\" class=\"sk-top-container\"><div class=\"sk-text-repr-fallback\"><pre>Pipeline(steps=[(&#x27;prep&#x27;,\n",
       "                 ColumnTransformer(transformers=[(&#x27;One Hot Encoder&#x27;,\n",
       "                                                  OneHotEncoder(drop=&#x27;first&#x27;),\n",
       "                                                  [&#x27;Dependents&#x27;,\n",
       "                                                   &#x27;OnlineSecurity&#x27;,\n",
       "                                                   &#x27;OnlineBackup&#x27;,\n",
       "                                                   &#x27;DeviceProtection&#x27;,\n",
       "                                                   &#x27;InternetService&#x27;,\n",
       "                                                   &#x27;TechSupport&#x27;, &#x27;Contract&#x27;,\n",
       "                                                   &#x27;PaperlessBilling&#x27;]),\n",
       "                                                 (&#x27;Scaler&#x27;, RobustScaler(),\n",
       "                                                  [&#x27;tenure&#x27;,\n",
       "                                                   &#x27;MonthlyCharges&#x27;])])),\n",
       "                (&#x27;imba&#x27;, RandomUnderSampler(random_state=2023)),\n",
       "                (&#x27;algo&#x27;, GradientBoostingClassifier(random_state=2023))])</pre><b>In a Jupyter environment, please rerun this cell to show the HTML representation or trust the notebook. <br />On GitHub, the HTML representation is unable to render, please try loading this page with nbviewer.org.</b></div><div class=\"sk-container\" hidden><div class=\"sk-item sk-dashed-wrapped\"><div class=\"sk-label-container\"><div class=\"sk-label sk-toggleable\"><input class=\"sk-toggleable__control sk-hidden--visually\" id=\"sk-estimator-id-35\" type=\"checkbox\" ><label for=\"sk-estimator-id-35\" class=\"sk-toggleable__label sk-toggleable__label-arrow\">Pipeline</label><div class=\"sk-toggleable__content\"><pre>Pipeline(steps=[(&#x27;prep&#x27;,\n",
       "                 ColumnTransformer(transformers=[(&#x27;One Hot Encoder&#x27;,\n",
       "                                                  OneHotEncoder(drop=&#x27;first&#x27;),\n",
       "                                                  [&#x27;Dependents&#x27;,\n",
       "                                                   &#x27;OnlineSecurity&#x27;,\n",
       "                                                   &#x27;OnlineBackup&#x27;,\n",
       "                                                   &#x27;DeviceProtection&#x27;,\n",
       "                                                   &#x27;InternetService&#x27;,\n",
       "                                                   &#x27;TechSupport&#x27;, &#x27;Contract&#x27;,\n",
       "                                                   &#x27;PaperlessBilling&#x27;]),\n",
       "                                                 (&#x27;Scaler&#x27;, RobustScaler(),\n",
       "                                                  [&#x27;tenure&#x27;,\n",
       "                                                   &#x27;MonthlyCharges&#x27;])])),\n",
       "                (&#x27;imba&#x27;, RandomUnderSampler(random_state=2023)),\n",
       "                (&#x27;algo&#x27;, GradientBoostingClassifier(random_state=2023))])</pre></div></div></div><div class=\"sk-serial\"><div class=\"sk-item sk-dashed-wrapped\"><div class=\"sk-label-container\"><div class=\"sk-label sk-toggleable\"><input class=\"sk-toggleable__control sk-hidden--visually\" id=\"sk-estimator-id-36\" type=\"checkbox\" ><label for=\"sk-estimator-id-36\" class=\"sk-toggleable__label sk-toggleable__label-arrow\">prep: ColumnTransformer</label><div class=\"sk-toggleable__content\"><pre>ColumnTransformer(transformers=[(&#x27;One Hot Encoder&#x27;, OneHotEncoder(drop=&#x27;first&#x27;),\n",
       "                                 [&#x27;Dependents&#x27;, &#x27;OnlineSecurity&#x27;,\n",
       "                                  &#x27;OnlineBackup&#x27;, &#x27;DeviceProtection&#x27;,\n",
       "                                  &#x27;InternetService&#x27;, &#x27;TechSupport&#x27;, &#x27;Contract&#x27;,\n",
       "                                  &#x27;PaperlessBilling&#x27;]),\n",
       "                                (&#x27;Scaler&#x27;, RobustScaler(),\n",
       "                                 [&#x27;tenure&#x27;, &#x27;MonthlyCharges&#x27;])])</pre></div></div></div><div class=\"sk-parallel\"><div class=\"sk-parallel-item\"><div class=\"sk-item\"><div class=\"sk-label-container\"><div class=\"sk-label sk-toggleable\"><input class=\"sk-toggleable__control sk-hidden--visually\" id=\"sk-estimator-id-37\" type=\"checkbox\" ><label for=\"sk-estimator-id-37\" class=\"sk-toggleable__label sk-toggleable__label-arrow\">One Hot Encoder</label><div class=\"sk-toggleable__content\"><pre>[&#x27;Dependents&#x27;, &#x27;OnlineSecurity&#x27;, &#x27;OnlineBackup&#x27;, &#x27;DeviceProtection&#x27;, &#x27;InternetService&#x27;, &#x27;TechSupport&#x27;, &#x27;Contract&#x27;, &#x27;PaperlessBilling&#x27;]</pre></div></div></div><div class=\"sk-serial\"><div class=\"sk-item\"><div class=\"sk-estimator sk-toggleable\"><input class=\"sk-toggleable__control sk-hidden--visually\" id=\"sk-estimator-id-38\" type=\"checkbox\" ><label for=\"sk-estimator-id-38\" class=\"sk-toggleable__label sk-toggleable__label-arrow\">OneHotEncoder</label><div class=\"sk-toggleable__content\"><pre>OneHotEncoder(drop=&#x27;first&#x27;)</pre></div></div></div></div></div></div><div class=\"sk-parallel-item\"><div class=\"sk-item\"><div class=\"sk-label-container\"><div class=\"sk-label sk-toggleable\"><input class=\"sk-toggleable__control sk-hidden--visually\" id=\"sk-estimator-id-39\" type=\"checkbox\" ><label for=\"sk-estimator-id-39\" class=\"sk-toggleable__label sk-toggleable__label-arrow\">Scaler</label><div class=\"sk-toggleable__content\"><pre>[&#x27;tenure&#x27;, &#x27;MonthlyCharges&#x27;]</pre></div></div></div><div class=\"sk-serial\"><div class=\"sk-item\"><div class=\"sk-estimator sk-toggleable\"><input class=\"sk-toggleable__control sk-hidden--visually\" id=\"sk-estimator-id-40\" type=\"checkbox\" ><label for=\"sk-estimator-id-40\" class=\"sk-toggleable__label sk-toggleable__label-arrow\">RobustScaler</label><div class=\"sk-toggleable__content\"><pre>RobustScaler()</pre></div></div></div></div></div></div></div></div><div class=\"sk-item\"><div class=\"sk-estimator sk-toggleable\"><input class=\"sk-toggleable__control sk-hidden--visually\" id=\"sk-estimator-id-41\" type=\"checkbox\" ><label for=\"sk-estimator-id-41\" class=\"sk-toggleable__label sk-toggleable__label-arrow\">RandomUnderSampler</label><div class=\"sk-toggleable__content\"><pre>RandomUnderSampler(random_state=2023)</pre></div></div></div><div class=\"sk-item\"><div class=\"sk-estimator sk-toggleable\"><input class=\"sk-toggleable__control sk-hidden--visually\" id=\"sk-estimator-id-42\" type=\"checkbox\" ><label for=\"sk-estimator-id-42\" class=\"sk-toggleable__label sk-toggleable__label-arrow\">GradientBoostingClassifier</label><div class=\"sk-toggleable__content\"><pre>GradientBoostingClassifier(random_state=2023)</pre></div></div></div></div></div></div></div>"
      ],
      "text/plain": [
       "Pipeline(steps=[('prep',\n",
       "                 ColumnTransformer(transformers=[('One Hot Encoder',\n",
       "                                                  OneHotEncoder(drop='first'),\n",
       "                                                  ['Dependents',\n",
       "                                                   'OnlineSecurity',\n",
       "                                                   'OnlineBackup',\n",
       "                                                   'DeviceProtection',\n",
       "                                                   'InternetService',\n",
       "                                                   'TechSupport', 'Contract',\n",
       "                                                   'PaperlessBilling']),\n",
       "                                                 ('Scaler', RobustScaler(),\n",
       "                                                  ['tenure',\n",
       "                                                   'MonthlyCharges'])])),\n",
       "                ('imba', RandomUnderSampler(random_state=2023)),\n",
       "                ('algo', GradientBoostingClassifier(random_state=2023))])"
      ]
     },
     "execution_count": 49,
     "metadata": {},
     "output_type": "execute_result"
    }
   ],
   "source": [
    "# Create a pipeline with preprocessing, resampling, and Adaboost\n",
    "pipe_gbc = Pipeline([\n",
    "    ('prep', transform),\n",
    "    ('imba', RUS),\n",
    "    ('algo', gbc)\n",
    "])\n",
    "\n",
    "pipe_gbc"
   ]
  },
  {
   "cell_type": "code",
   "execution_count": 50,
   "metadata": {},
   "outputs": [
    {
     "name": "stdout",
     "output_type": "stream",
     "text": [
      "F2 Score with GBC-RUS(Default): 0.6752974107767671\n"
     ]
    }
   ],
   "source": [
    "# Fit Based Best Model 2 Pipeline to Train & Test Set\n",
    "pipe_gbc.fit(Xtrain, ytrain)\n",
    "print(f'F2 Score with GBC-RUS(Default): {fbeta_score(ytest, pipe_gbc.predict(Xtest), beta=2)}')"
   ]
  },
  {
   "cell_type": "markdown",
   "metadata": {},
   "source": [
    "##### **Hyperparameter Tuning**\n",
    "\n",
    "References: [Parameter Tuning using gridsearchcv for gradientboosting classifier in python](https://stackoverflow.com/questions/58781601/parameter-tuning-using-gridsearchcv-for-gradientboosting-classifier-in-python)"
   ]
  },
  {
   "cell_type": "code",
   "execution_count": 51,
   "metadata": {},
   "outputs": [
    {
     "data": {
      "text/html": [
       "<style>#sk-container-id-6 {color: black;background-color: white;}#sk-container-id-6 pre{padding: 0;}#sk-container-id-6 div.sk-toggleable {background-color: white;}#sk-container-id-6 label.sk-toggleable__label {cursor: pointer;display: block;width: 100%;margin-bottom: 0;padding: 0.3em;box-sizing: border-box;text-align: center;}#sk-container-id-6 label.sk-toggleable__label-arrow:before {content: \"▸\";float: left;margin-right: 0.25em;color: #696969;}#sk-container-id-6 label.sk-toggleable__label-arrow:hover:before {color: black;}#sk-container-id-6 div.sk-estimator:hover label.sk-toggleable__label-arrow:before {color: black;}#sk-container-id-6 div.sk-toggleable__content {max-height: 0;max-width: 0;overflow: hidden;text-align: left;background-color: #f0f8ff;}#sk-container-id-6 div.sk-toggleable__content pre {margin: 0.2em;color: black;border-radius: 0.25em;background-color: #f0f8ff;}#sk-container-id-6 input.sk-toggleable__control:checked~div.sk-toggleable__content {max-height: 200px;max-width: 100%;overflow: auto;}#sk-container-id-6 input.sk-toggleable__control:checked~label.sk-toggleable__label-arrow:before {content: \"▾\";}#sk-container-id-6 div.sk-estimator input.sk-toggleable__control:checked~label.sk-toggleable__label {background-color: #d4ebff;}#sk-container-id-6 div.sk-label input.sk-toggleable__control:checked~label.sk-toggleable__label {background-color: #d4ebff;}#sk-container-id-6 input.sk-hidden--visually {border: 0;clip: rect(1px 1px 1px 1px);clip: rect(1px, 1px, 1px, 1px);height: 1px;margin: -1px;overflow: hidden;padding: 0;position: absolute;width: 1px;}#sk-container-id-6 div.sk-estimator {font-family: monospace;background-color: #f0f8ff;border: 1px dotted black;border-radius: 0.25em;box-sizing: border-box;margin-bottom: 0.5em;}#sk-container-id-6 div.sk-estimator:hover {background-color: #d4ebff;}#sk-container-id-6 div.sk-parallel-item::after {content: \"\";width: 100%;border-bottom: 1px solid gray;flex-grow: 1;}#sk-container-id-6 div.sk-label:hover label.sk-toggleable__label {background-color: #d4ebff;}#sk-container-id-6 div.sk-serial::before {content: \"\";position: absolute;border-left: 1px solid gray;box-sizing: border-box;top: 0;bottom: 0;left: 50%;z-index: 0;}#sk-container-id-6 div.sk-serial {display: flex;flex-direction: column;align-items: center;background-color: white;padding-right: 0.2em;padding-left: 0.2em;position: relative;}#sk-container-id-6 div.sk-item {position: relative;z-index: 1;}#sk-container-id-6 div.sk-parallel {display: flex;align-items: stretch;justify-content: center;background-color: white;position: relative;}#sk-container-id-6 div.sk-item::before, #sk-container-id-6 div.sk-parallel-item::before {content: \"\";position: absolute;border-left: 1px solid gray;box-sizing: border-box;top: 0;bottom: 0;left: 50%;z-index: -1;}#sk-container-id-6 div.sk-parallel-item {display: flex;flex-direction: column;z-index: 1;position: relative;background-color: white;}#sk-container-id-6 div.sk-parallel-item:first-child::after {align-self: flex-end;width: 50%;}#sk-container-id-6 div.sk-parallel-item:last-child::after {align-self: flex-start;width: 50%;}#sk-container-id-6 div.sk-parallel-item:only-child::after {width: 0;}#sk-container-id-6 div.sk-dashed-wrapped {border: 1px dashed gray;margin: 0 0.4em 0.5em 0.4em;box-sizing: border-box;padding-bottom: 0.4em;background-color: white;}#sk-container-id-6 div.sk-label label {font-family: monospace;font-weight: bold;display: inline-block;line-height: 1.2em;}#sk-container-id-6 div.sk-label-container {text-align: center;}#sk-container-id-6 div.sk-container {/* jupyter's `normalize.less` sets `[hidden] { display: none; }` but bootstrap.min.css set `[hidden] { display: none !important; }` so we also need the `!important` here to be able to override the default hidden behavior on the sphinx rendered scikit-learn.org. See: https://github.com/scikit-learn/scikit-learn/issues/21755 */display: inline-block !important;position: relative;}#sk-container-id-6 div.sk-text-repr-fallback {display: none;}</style><div id=\"sk-container-id-6\" class=\"sk-top-container\"><div class=\"sk-text-repr-fallback\"><pre>GridSearchCV(cv=StratifiedKFold(n_splits=5, random_state=2023, shuffle=True),\n",
       "             estimator=Pipeline(steps=[(&#x27;prep&#x27;,\n",
       "                                        ColumnTransformer(transformers=[(&#x27;One &#x27;\n",
       "                                                                         &#x27;Hot &#x27;\n",
       "                                                                         &#x27;Encoder&#x27;,\n",
       "                                                                         OneHotEncoder(drop=&#x27;first&#x27;),\n",
       "                                                                         [&#x27;Dependents&#x27;,\n",
       "                                                                          &#x27;OnlineSecurity&#x27;,\n",
       "                                                                          &#x27;OnlineBackup&#x27;,\n",
       "                                                                          &#x27;DeviceProtection&#x27;,\n",
       "                                                                          &#x27;InternetService&#x27;,\n",
       "                                                                          &#x27;TechSupport&#x27;,\n",
       "                                                                          &#x27;Contract&#x27;,\n",
       "                                                                          &#x27;PaperlessBilling&#x27;]),\n",
       "                                                                        (&#x27;Scaler&#x27;,\n",
       "                                                                         RobustScaler(),\n",
       "                                                                         [&#x27;tenu...\n",
       "                         &#x27;algo__min_samples_leaf&#x27;: array([0.1       , 0.13636364, 0.17272727, 0.20909091, 0.24545455,\n",
       "       0.28181818, 0.31818182, 0.35454545, 0.39090909, 0.42727273,\n",
       "       0.46363636, 0.5       ]),\n",
       "                         &#x27;algo__min_samples_split&#x27;: array([0.1       , 0.13636364, 0.17272727, 0.20909091, 0.24545455,\n",
       "       0.28181818, 0.31818182, 0.35454545, 0.39090909, 0.42727273,\n",
       "       0.46363636, 0.5       ]),\n",
       "                         &#x27;algo__n_estimators&#x27;: [10],\n",
       "                         &#x27;algo__subsample&#x27;: [0.5, 0.618, 0.8, 0.85, 0.9, 0.95,\n",
       "                                             1.0]},\n",
       "             scoring=make_scorer(fbeta_score, beta=2))</pre><b>In a Jupyter environment, please rerun this cell to show the HTML representation or trust the notebook. <br />On GitHub, the HTML representation is unable to render, please try loading this page with nbviewer.org.</b></div><div class=\"sk-container\" hidden><div class=\"sk-item sk-dashed-wrapped\"><div class=\"sk-label-container\"><div class=\"sk-label sk-toggleable\"><input class=\"sk-toggleable__control sk-hidden--visually\" id=\"sk-estimator-id-43\" type=\"checkbox\" ><label for=\"sk-estimator-id-43\" class=\"sk-toggleable__label sk-toggleable__label-arrow\">GridSearchCV</label><div class=\"sk-toggleable__content\"><pre>GridSearchCV(cv=StratifiedKFold(n_splits=5, random_state=2023, shuffle=True),\n",
       "             estimator=Pipeline(steps=[(&#x27;prep&#x27;,\n",
       "                                        ColumnTransformer(transformers=[(&#x27;One &#x27;\n",
       "                                                                         &#x27;Hot &#x27;\n",
       "                                                                         &#x27;Encoder&#x27;,\n",
       "                                                                         OneHotEncoder(drop=&#x27;first&#x27;),\n",
       "                                                                         [&#x27;Dependents&#x27;,\n",
       "                                                                          &#x27;OnlineSecurity&#x27;,\n",
       "                                                                          &#x27;OnlineBackup&#x27;,\n",
       "                                                                          &#x27;DeviceProtection&#x27;,\n",
       "                                                                          &#x27;InternetService&#x27;,\n",
       "                                                                          &#x27;TechSupport&#x27;,\n",
       "                                                                          &#x27;Contract&#x27;,\n",
       "                                                                          &#x27;PaperlessBilling&#x27;]),\n",
       "                                                                        (&#x27;Scaler&#x27;,\n",
       "                                                                         RobustScaler(),\n",
       "                                                                         [&#x27;tenu...\n",
       "                         &#x27;algo__min_samples_leaf&#x27;: array([0.1       , 0.13636364, 0.17272727, 0.20909091, 0.24545455,\n",
       "       0.28181818, 0.31818182, 0.35454545, 0.39090909, 0.42727273,\n",
       "       0.46363636, 0.5       ]),\n",
       "                         &#x27;algo__min_samples_split&#x27;: array([0.1       , 0.13636364, 0.17272727, 0.20909091, 0.24545455,\n",
       "       0.28181818, 0.31818182, 0.35454545, 0.39090909, 0.42727273,\n",
       "       0.46363636, 0.5       ]),\n",
       "                         &#x27;algo__n_estimators&#x27;: [10],\n",
       "                         &#x27;algo__subsample&#x27;: [0.5, 0.618, 0.8, 0.85, 0.9, 0.95,\n",
       "                                             1.0]},\n",
       "             scoring=make_scorer(fbeta_score, beta=2))</pre></div></div></div><div class=\"sk-parallel\"><div class=\"sk-parallel-item\"><div class=\"sk-item\"><div class=\"sk-label-container\"><div class=\"sk-label sk-toggleable\"><input class=\"sk-toggleable__control sk-hidden--visually\" id=\"sk-estimator-id-44\" type=\"checkbox\" ><label for=\"sk-estimator-id-44\" class=\"sk-toggleable__label sk-toggleable__label-arrow\">estimator: Pipeline</label><div class=\"sk-toggleable__content\"><pre>Pipeline(steps=[(&#x27;prep&#x27;,\n",
       "                 ColumnTransformer(transformers=[(&#x27;One Hot Encoder&#x27;,\n",
       "                                                  OneHotEncoder(drop=&#x27;first&#x27;),\n",
       "                                                  [&#x27;Dependents&#x27;,\n",
       "                                                   &#x27;OnlineSecurity&#x27;,\n",
       "                                                   &#x27;OnlineBackup&#x27;,\n",
       "                                                   &#x27;DeviceProtection&#x27;,\n",
       "                                                   &#x27;InternetService&#x27;,\n",
       "                                                   &#x27;TechSupport&#x27;, &#x27;Contract&#x27;,\n",
       "                                                   &#x27;PaperlessBilling&#x27;]),\n",
       "                                                 (&#x27;Scaler&#x27;, RobustScaler(),\n",
       "                                                  [&#x27;tenure&#x27;,\n",
       "                                                   &#x27;MonthlyCharges&#x27;])])),\n",
       "                (&#x27;imba&#x27;, RandomUnderSampler(random_state=2023)),\n",
       "                (&#x27;algo&#x27;, GradientBoostingClassifier(random_state=2023))])</pre></div></div></div><div class=\"sk-serial\"><div class=\"sk-item\"><div class=\"sk-serial\"><div class=\"sk-item sk-dashed-wrapped\"><div class=\"sk-label-container\"><div class=\"sk-label sk-toggleable\"><input class=\"sk-toggleable__control sk-hidden--visually\" id=\"sk-estimator-id-45\" type=\"checkbox\" ><label for=\"sk-estimator-id-45\" class=\"sk-toggleable__label sk-toggleable__label-arrow\">prep: ColumnTransformer</label><div class=\"sk-toggleable__content\"><pre>ColumnTransformer(transformers=[(&#x27;One Hot Encoder&#x27;, OneHotEncoder(drop=&#x27;first&#x27;),\n",
       "                                 [&#x27;Dependents&#x27;, &#x27;OnlineSecurity&#x27;,\n",
       "                                  &#x27;OnlineBackup&#x27;, &#x27;DeviceProtection&#x27;,\n",
       "                                  &#x27;InternetService&#x27;, &#x27;TechSupport&#x27;, &#x27;Contract&#x27;,\n",
       "                                  &#x27;PaperlessBilling&#x27;]),\n",
       "                                (&#x27;Scaler&#x27;, RobustScaler(),\n",
       "                                 [&#x27;tenure&#x27;, &#x27;MonthlyCharges&#x27;])])</pre></div></div></div><div class=\"sk-parallel\"><div class=\"sk-parallel-item\"><div class=\"sk-item\"><div class=\"sk-label-container\"><div class=\"sk-label sk-toggleable\"><input class=\"sk-toggleable__control sk-hidden--visually\" id=\"sk-estimator-id-46\" type=\"checkbox\" ><label for=\"sk-estimator-id-46\" class=\"sk-toggleable__label sk-toggleable__label-arrow\">One Hot Encoder</label><div class=\"sk-toggleable__content\"><pre>[&#x27;Dependents&#x27;, &#x27;OnlineSecurity&#x27;, &#x27;OnlineBackup&#x27;, &#x27;DeviceProtection&#x27;, &#x27;InternetService&#x27;, &#x27;TechSupport&#x27;, &#x27;Contract&#x27;, &#x27;PaperlessBilling&#x27;]</pre></div></div></div><div class=\"sk-serial\"><div class=\"sk-item\"><div class=\"sk-estimator sk-toggleable\"><input class=\"sk-toggleable__control sk-hidden--visually\" id=\"sk-estimator-id-47\" type=\"checkbox\" ><label for=\"sk-estimator-id-47\" class=\"sk-toggleable__label sk-toggleable__label-arrow\">OneHotEncoder</label><div class=\"sk-toggleable__content\"><pre>OneHotEncoder(drop=&#x27;first&#x27;)</pre></div></div></div></div></div></div><div class=\"sk-parallel-item\"><div class=\"sk-item\"><div class=\"sk-label-container\"><div class=\"sk-label sk-toggleable\"><input class=\"sk-toggleable__control sk-hidden--visually\" id=\"sk-estimator-id-48\" type=\"checkbox\" ><label for=\"sk-estimator-id-48\" class=\"sk-toggleable__label sk-toggleable__label-arrow\">Scaler</label><div class=\"sk-toggleable__content\"><pre>[&#x27;tenure&#x27;, &#x27;MonthlyCharges&#x27;]</pre></div></div></div><div class=\"sk-serial\"><div class=\"sk-item\"><div class=\"sk-estimator sk-toggleable\"><input class=\"sk-toggleable__control sk-hidden--visually\" id=\"sk-estimator-id-49\" type=\"checkbox\" ><label for=\"sk-estimator-id-49\" class=\"sk-toggleable__label sk-toggleable__label-arrow\">RobustScaler</label><div class=\"sk-toggleable__content\"><pre>RobustScaler()</pre></div></div></div></div></div></div></div></div><div class=\"sk-item\"><div class=\"sk-estimator sk-toggleable\"><input class=\"sk-toggleable__control sk-hidden--visually\" id=\"sk-estimator-id-50\" type=\"checkbox\" ><label for=\"sk-estimator-id-50\" class=\"sk-toggleable__label sk-toggleable__label-arrow\">RandomUnderSampler</label><div class=\"sk-toggleable__content\"><pre>RandomUnderSampler(random_state=2023)</pre></div></div></div><div class=\"sk-item\"><div class=\"sk-estimator sk-toggleable\"><input class=\"sk-toggleable__control sk-hidden--visually\" id=\"sk-estimator-id-51\" type=\"checkbox\" ><label for=\"sk-estimator-id-51\" class=\"sk-toggleable__label sk-toggleable__label-arrow\">GradientBoostingClassifier</label><div class=\"sk-toggleable__content\"><pre>GradientBoostingClassifier(random_state=2023)</pre></div></div></div></div></div></div></div></div></div></div></div></div>"
      ],
      "text/plain": [
       "GridSearchCV(cv=StratifiedKFold(n_splits=5, random_state=2023, shuffle=True),\n",
       "             estimator=Pipeline(steps=[('prep',\n",
       "                                        ColumnTransformer(transformers=[('One '\n",
       "                                                                         'Hot '\n",
       "                                                                         'Encoder',\n",
       "                                                                         OneHotEncoder(drop='first'),\n",
       "                                                                         ['Dependents',\n",
       "                                                                          'OnlineSecurity',\n",
       "                                                                          'OnlineBackup',\n",
       "                                                                          'DeviceProtection',\n",
       "                                                                          'InternetService',\n",
       "                                                                          'TechSupport',\n",
       "                                                                          'Contract',\n",
       "                                                                          'PaperlessBilling']),\n",
       "                                                                        ('Scaler',\n",
       "                                                                         RobustScaler(),\n",
       "                                                                         ['tenu...\n",
       "                         'algo__min_samples_leaf': array([0.1       , 0.13636364, 0.17272727, 0.20909091, 0.24545455,\n",
       "       0.28181818, 0.31818182, 0.35454545, 0.39090909, 0.42727273,\n",
       "       0.46363636, 0.5       ]),\n",
       "                         'algo__min_samples_split': array([0.1       , 0.13636364, 0.17272727, 0.20909091, 0.24545455,\n",
       "       0.28181818, 0.31818182, 0.35454545, 0.39090909, 0.42727273,\n",
       "       0.46363636, 0.5       ]),\n",
       "                         'algo__n_estimators': [10],\n",
       "                         'algo__subsample': [0.5, 0.618, 0.8, 0.85, 0.9, 0.95,\n",
       "                                             1.0]},\n",
       "             scoring=make_scorer(fbeta_score, beta=2))"
      ]
     },
     "execution_count": 51,
     "metadata": {},
     "output_type": "execute_result"
    }
   ],
   "source": [
    "#  GBC Hyperparameter Tuning\n",
    "\n",
    "# Define the parameter grid for gbc\n",
    "gbc_space = {\n",
    "    'algo__loss': [\"deviance\"],\n",
    "    'algo__learning_rate': [0.01, 0.025, 0.05, 0.075, 0.1, 0.15, 0.2],\n",
    "    'algo__min_samples_split': np.linspace(0.1, 0.5, 12),\n",
    "    'algo__min_samples_leaf': np.linspace(0.1, 0.5, 12),\n",
    "    'algo__max_depth':[3,5,8],\n",
    "    'algo__max_features':[\"log2\",\"sqrt\"],\n",
    "    'algo__criterion':[\"friedman_mse\",  \"mae\"],\n",
    "    'algo__subsample':[0.5, 0.618, 0.8, 0.85, 0.9, 0.95, 1.0],\n",
    "    'algo__n_estimators':[10]\n",
    "}\n",
    "\n",
    "# Initialize GridSearchCV\n",
    "gbc_grid = GridSearchCV(pipe_gbc, param_grid=gbc_space, cv=kfold, scoring=f2_scoresheet, n_jobs=-1)\n",
    "\n",
    "# Perform grid search\n",
    "gbc_grid.fit(Xtrain, ytrain)"
   ]
  },
  {
   "cell_type": "code",
   "execution_count": 52,
   "metadata": {},
   "outputs": [
    {
     "name": "stdout",
     "output_type": "stream",
     "text": [
      "Best Hyperparameters: {'algo__criterion': 'friedman_mse', 'algo__learning_rate': 0.01, 'algo__loss': 'deviance', 'algo__max_depth': 3, 'algo__max_features': 'log2', 'algo__min_samples_leaf': 0.1, 'algo__min_samples_split': 0.5, 'algo__n_estimators': 10, 'algo__subsample': 0.618}\n"
     ]
    }
   ],
   "source": [
    "#Check the best parameters\n",
    "gbc_best_params = gbc_grid.best_params_\n",
    "print(\"Best Hyperparameters:\", gbc_best_params)"
   ]
  },
  {
   "cell_type": "code",
   "execution_count": 53,
   "metadata": {},
   "outputs": [],
   "source": [
    "# Evaluate the model on the test set\n",
    "\n",
    "#Fit model on train data\n",
    "gbc_grid.best_estimator_.fit(Xtrain, ytrain)\n",
    "\n",
    "#Create prediction\n",
    "gbcpred = gbc_grid.predict(Xtest)"
   ]
  },
  {
   "cell_type": "code",
   "execution_count": 54,
   "metadata": {},
   "outputs": [
    {
     "name": "stdout",
     "output_type": "stream",
     "text": [
      "F2 Score with GBC-RUS(Tuned): 0.6738544474393531\n"
     ]
    }
   ],
   "source": [
    "print(f'F2 Score with GBC-RUS(Tuned): {fbeta_score(ytest, gbcpred, beta=2)}')"
   ]
  },
  {
   "cell_type": "markdown",
   "metadata": {},
   "source": [
    "### Hasil Benchmarking Model pada Data Train\n",
    "\n",
    "Dalam tahap benchmarking pada data pelatihan (train), tiga model klasifikasi yang telah dievaluasi adalah ADA-ROS, SVC-RUS, dan GBC-RUS. Hasil dari evaluasi model pada data train adalah sebagai berikut:\n",
    "\n",
    "1. **ADA-ROS** memiliki Mean F2 Score sebesar 0.723527 dengan standar deviasi sekitar 0.014858.\n",
    "2. **SVC-RUS** memiliki Mean F2 Score sebesar 0.723125 dengan standar deviasi sekitar 0.009883.\n",
    "3. **GBC-RUS** memiliki Mean F2 Score sebesar 0.722955 dengan standar deviasi sekitar 0.019545.\n",
    "\n",
    "### Evaluasi Tiga Model Terbaik pada Data Test\n",
    "\n",
    "Kemudian, tiga model terbaik dipilih dan dievaluasi pada data uji (test) untuk mengukur kinerja mereka. Hasil evaluasi pada data test adalah sebagai berikut:\n",
    "\n",
    "1. **F2 Score dengan ADA-ROS (Default):** 68.18%\n",
    "2. **F2 Score dengan SVC-RUS (Default):** 68.09%\n",
    "3. **F2 Score dengan GBC-RUS (Default):** 67.53%\n",
    "\n",
    "### Hasil Parameter Tuning\n",
    "\n",
    "Selanjutnya, parameter dari tiga model terbaik telah disesuaikan (tuned) untuk meningkatkan performa. Hasil evaluasi setelah parameter tuning adalah sebagai berikut:\n",
    "\n",
    "1. **F2 Score dengan ADA-ROS (Tuned):** 68.23%\n",
    "2. **F2 Score dengan SVC-RUS (Tuned):** 71.52%\n",
    "3. **F2 Score dengan GBC-RUS (Tuned):** 67.39%\n",
    "\n",
    "### Final Model\n",
    "\n",
    "Berdasarkan hasil evaluasi pada data train, tiga model klasifikasi yang telah diuji (ADA-ROS, SVC-RUS, GBC-RUS), dengan ADA-ROS menonjol sebagai model dengan Mean F2 Score tertinggi.\n",
    "\n",
    "Berdasarkan hasil evaluasi yang Anda berikan, **model yang diambil untuk final adalah SVC-RUS yang sudah dituning**. SVC-RUS setelah tuning menghasilkan F2 Score tertinggi (**71.52%**) pada data uji, yang menunjukkan kinerja yang lebih baik dalam mengidentifikasi pelanggan yang berpotensi churn dibandingkan dengan model lainnya.\n",
    "\n",
    "Sebagai tambahan, tuning parameter pada model dapat meningkatkan kemampuan model dalam menyesuaikan diri dengan data dan menghasilkan hasil yang lebih baik. Oleh karena itu, model SVC-RUS yang telah disesuaikan dengan baik direkomendasikan sebagai final model untuk mengidentifikasi pelanggan yang berpotensi churn dalam proyek ini.\n",
    "\n",
    "### FYI\n",
    "### SVC-RUS (Support Vector Classifier with Random Undersampling)\n",
    "\n",
    "SVC-RUS adalah model klasifikasi yang menggabungkan dua konsep kunci: Support Vector Classifier (SVC) dan Random Undersampling. Ini adalah pendekatan yang digunakan untuk mengatasi masalah ketidakseimbangan kelas dalam data, yang sering terjadi dalam tugas klasifikasi, termasuk dalam kasus identifikasi churn pelanggan.\n",
    "\n",
    "##### 1. Support Vector Classifier (SVC)\n",
    "\n",
    "SVC adalah model klasifikasi yang berbasis pada konsep vektor pendukung (support vectors) dalam ruang fitur. Tujuannya adalah untuk menemukan hyperplane yang memisahkan dua kelas data dengan margin terbesar. SVC sering digunakan dalam tugas klasifikasi biner dan dapat menangani data yang tidak linear dengan menggunakan fungsi kernel.\n",
    "\n",
    "##### 2. Random Undersampling\n",
    "\n",
    "Random Undersampling adalah teknik yang digunakan untuk mengatasi ketidakseimbangan kelas dalam data. Dalam kasus identifikasi churn pelanggan, sering kali terdapat lebih banyak pelanggan yang tidak churn daripada yang churn. Dengan Random Undersampling, kita secara acak mengurangi jumlah sampel dari kelas mayoritas (pelanggan yang tidak churn) sehingga seimbang dengan jumlah sampel kelas minoritas (pelanggan yang churn). Tujuannya adalah untuk mencegah model terlalu didominasi oleh kelas mayoritas dan meningkatkan kemampuan model dalam mengidentifikasi kelas minoritas yang penting.\n",
    "\n",
    "##### 3. SVC-RUS: Kombinasi SVC dan Random Undersampling\n",
    "\n",
    "Dalam SVC-RUS, kita menerapkan SVC pada data yang telah diundersample menggunakan Random Undersampling. Ini berarti kita melatih model SVC pada dataset yang telah diseimbangkan, dengan jumlah sampel dari kedua kelas yang mendekati kesetaraan. Hal ini memungkinkan model untuk mengambil keputusan yang lebih seimbang antara kelas-kelas yang berbeda dan meningkatkan kemampuan dalam mengidentifikasi pelanggan yang berpotensi churn.\n",
    "\n",
    "SVC-RUS dapat dioptimalkan dengan tuning parameter SVC dan dengan mengatur proporsi undersampling untuk mencapai keseimbangan yang sesuai antara kelas. Hasil evaluasi menunjukkan bahwa model SVC-RUS yang telah disesuaikan dengan baik dapat menghasilkan performa yang tinggi dalam mengidentifikasi pelanggan yang berpotensi churn.\n",
    "\n"
   ]
  },
  {
   "cell_type": "markdown",
   "metadata": {},
   "source": [
    "#### *Save Final Model*"
   ]
  },
  {
   "cell_type": "code",
   "execution_count": 62,
   "metadata": {},
   "outputs": [],
   "source": [
    "# Save Final Model as Pickle\n",
    "import pickle\n",
    "\n",
    "best_model = svc_grid.best_estimator_.fit(Xtrain, ytrain)\n",
    "pickle.dump(best_model, open('ChurnModel.pkl', 'wb'))"
   ]
  },
  {
   "cell_type": "code",
   "execution_count": 80,
   "metadata": {},
   "outputs": [
    {
     "data": {
      "image/png": "[encoded data removed]",
      "text/plain": [
       "<Figure size 1000x600 with 1 Axes>"
      ]
     },
     "metadata": {},
     "output_type": "display_data"
    }
   ],
   "source": [
    "# Features Importance\n",
    "one_hot_encoded_features = transform.named_transformers_['One Hot Encoder'].get_feature_names_out(input_features=['Dependents', 'OnlineSecurity', 'OnlineBackup', 'DeviceProtection', 'InternetService', 'TechSupport', 'Contract', 'PaperlessBilling'])\n",
    "\n",
    "scaled_features = ['tenure', 'MonthlyCharges']\n",
    "\n",
    "all_features = list(one_hot_encoded_features) + scaled_features\n",
    "\n",
    "best_model.fit(Xtrain, ytrain)\n",
    "\n",
    "svc_model = best_model.named_steps['algo']\n",
    "feature_importance = np.abs(svc_model.coef_).flatten()\n",
    "\n",
    "features = list(one_hot_encoded_features) + scaled_features\n",
    "\n",
    "feature_importance_list = list(zip(features, feature_importance))\n",
    "\n",
    "feature_importance_list.sort(key=lambda x: x[1], reverse=True)\n",
    "\n",
    "sorted_features, sorted_importance = zip(*feature_importance_list)\n",
    "\n",
    "# plot\n",
    "plt.figure(figsize=(10, 6))\n",
    "plt.barh(sorted_features, sorted_importance)\n",
    "plt.xlabel('Feature Importance Score')\n",
    "plt.title('Feature Importance')\n",
    "plt.gca().invert_yaxis()\n",
    "plt.show()\n",
    "\n",
    "\n"
   ]
  },
  {
   "cell_type": "markdown",
   "metadata": {},
   "source": [
    "Terlihat bahwa untuk model SVC-RUS, fitur `Contract_One year` dan `Contract_Two year` adalah yang **paling penting dalam memprediksi perilaku churn pelanggan**. Ini menunjukkan bahwa jenis kontrak yang dipilih oleh pelanggan memiliki dampak yang signifikan pada kecenderungan untuk berhenti berlangganan layanan. Fitur-fitur ini mungkin berkaitan dengan kontrak jangka panjang yang lebih mengikat, di mana pelanggan mungkin cenderung tetap setia kepada perusahaan. "
   ]
  },
  {
   "cell_type": "markdown",
   "metadata": {},
   "source": [
    "## **Conclusion & Recommendation**\n",
    "---"
   ]
  },
  {
   "cell_type": "markdown",
   "metadata": {},
   "source": [
    "## **Conclusion**"
   ]
  },
  {
   "cell_type": "code",
   "execution_count": 67,
   "metadata": {},
   "outputs": [
    {
     "data": {
      "image/png": "[encoded data removed]",
      "text/plain": [
       "<Figure size 1500x500 with 1 Axes>"
      ]
     },
     "metadata": {},
     "output_type": "display_data"
    }
   ],
   "source": [
    "# Create Confussion Matrix\n",
    "from sklearn.metrics import confusion_matrix\n",
    "\n",
    "# Calculate the confusion matrices for each model\n",
    "cm_ada = confusion_matrix(ytest, svcpred)\n",
    "fig= plt.subplots(figsize=(15, 5))\n",
    "\n",
    "# Plot the confusion matrix for Best Model\n",
    "sns.heatmap(cm_ada, annot=True, fmt='g', cmap='Blues', cbar=False, square=True)\n",
    "plt.xlabel('Predicted')\n",
    "plt.ylabel('Actual')\n",
    "plt.title('Best Model')\n",
    "\n",
    "plt.show()"
   ]
  },
  {
   "cell_type": "code",
   "execution_count": 70,
   "metadata": {},
   "outputs": [
    {
     "name": "stdout",
     "output_type": "stream",
     "text": [
      "Classification Report Tuned SVC-RUS : \n",
      "               precision    recall  f1-score   support\n",
      "\n",
      "           0       0.91      0.67      0.77       723\n",
      "           1       0.48      0.82      0.60       263\n",
      "\n",
      "    accuracy                           0.71       986\n",
      "   macro avg       0.69      0.75      0.69       986\n",
      "weighted avg       0.79      0.71      0.73       986\n",
      "\n"
     ]
    }
   ],
   "source": [
    "# Classification Report\n",
    "y_pred = best_model.predict(Xtest)\n",
    "\n",
    "report = classification_report(ytest, y_pred)\n",
    "\n",
    "print('Classification Report Tuned SVC-RUS : \\n', report)\n",
    "\n"
   ]
  },
  {
   "cell_type": "markdown",
   "metadata": {},
   "source": [
    "**Confusion Matrix:**\n",
    "- True Positive **(TP): 215 orang** -> Pelanggan yang sebenenarnya churn dan terpredikisi churn\n",
    "- True Negative **(TN): 487 orang** -> Pelanggan yang sebenarnya tidak churn dan terprediksi tidak churn\n",
    "- False Positive **(FP): 236 orang** -> Pelanggan yang sebenarnya tidak churn tapi terprediksi churn\n",
    "- False Negative **(FN): 48 orang** -> Pelanggan yang sebenarnya churn tapi terprediksi tidak churn\n",
    "\n",
    "Dalam konteks biaya dan penghematan, dapat dilakukan perhitungan sebagai berikut:\n",
    "\n",
    "**Biaya Retensi per Pelanggan:**\n",
    "- Biaya Retensi (Retention Cost) per pelanggan yang akan Churn (FP): Biaya Retensi per Pelanggan yang akan Churn dibagi jumlah False Positive (FP). \n",
    "  - Biaya Retensi per Pelanggan yang akan Churn = $11.04 / 236 = $0.0466 (sekitar $0.05 per pelanggan yang tidak akan churn)\n",
    "- Biaya Retensi (Retention Cost) per pelanggan yang tidak akan Churn (TN): Biaya Retensi per Pelanggan yang tidak akan Churn dibagi jumlah True Negative (TN).\n",
    "  - Biaya Retensi per Pelanggan yang tidak akan Churn = $11.74 / 487 = $0.0241 (sekitar $0.02 per pelanggan yang tidak akan churn)\n",
    "\n",
    "**Biaya Akibat Kehilangan Pelanggan:**\n",
    "- Biaya Akibat Kehilangan Pelanggan (False Negative - FN): Biaya Akibat Kehilangan Pelanggan per pelanggan yang akan Churn (FN).\n",
    "  - Biaya Akibat Kehilangan Pelanggan = $521.00 / 48 = $10.85 (sekitar $10.85 per pelanggan yang akan churn)\n",
    "\n",
    "**Perbandingan Biaya Sebelum dan Sesudah Menggunakan Model Machine Learning:**\n",
    "- Biaya Total Sebelum Menggunakan Model (tanpa penggunaan model machine learning):\n",
    "  - Total Biaya Akuisisi (Acquisition Cost) = 986 x $521 = $514,506\n",
    "  - Total Biaya Retensi (Retention Cost) = ($0.0466 x 236) + ($0.0241 x 487) = $11.01 + $11.75 = $22.76\n",
    "  - **Total Biaya Keseluruhan Sebelum** = $514,506 + $22.76 = **$514,528.76**\n",
    "\n",
    "- Biaya Total Setelah Menggunakan Model (menggunakan model machine learning):\n",
    "  - Total Biaya Akuisisi (Acquisition Cost) = 263 x $521 = $137,423\n",
    "  - Total Biaya Retensi (Retention Cost) = ($0.0466 x 236) + ($0.0241 x 487) = $11.01 + $11.75 = $22.76\n",
    "  - **Total Biaya Keseluruhan Setelah** = $137,423 + $22.76 = **$137,445.76**\n",
    "\n",
    "**Perbandingan Penghematan:**\n",
    "- Penghematan dengan Model = Biaya Total Sebelum - Biaya Total Setelah\n",
    "- **Penghematan dengan Model** = $514,528.76 - $137,445.76 = **$377,083.00**\n",
    "\n",
    "**Dengan menggunakan model machine learning, perusahaan dapat menghemat sekitar $377,083.00** dibandingkan tanpa model machine learning. Artinya, ada penghematan yang signifikan dalam biaya akuisisi dan retensi pelanggan.\n",
    "\n",
    "Referensi: [Financial Post - Big telecoms are spending more cash to keep customers, but some tactics raise concerns](https://financialpost.com/technology/big-telecoms-are-spending-more-cash-to-keep-customers-but-some-tactics-raise-concerns)"
   ]
  },
  {
   "cell_type": "markdown",
   "metadata": {},
   "source": [
    "## **Recommendation**\n",
    "\n",
    "Ada beberapa poin yang kami rekomendasikan untuk kebaikan model dan tentu bisnisnya."
   ]
  },
  {
   "cell_type": "markdown",
   "metadata": {},
   "source": [
    "**1. Mengimplementasi Model yang Kami Berikan**:\n",
    "\n",
    "Model SVC-RUS yang sudah dituning menunjukkan kinerja yang baik dalam mengidentifikasi pelanggan yang cenderung *churn*. Oleh karena itu, kami merekomendasikan untuk mengimplementasikan model ini dalam proses akuisisi dan retensi pelanggan. Terbukti terdapat penghematan yang signifikan dari penggunaan model machine learning.\n",
    "\n",
    "**2. Penyesuaian Strategi Pemasaran**:\n",
    "\n",
    "Dengan menggantikan pendekatan yang mengedepankan model ini, dapat dipertimbangkan penyesuaian strategi pemasaran perusahaan. Misalnya, dapat meningkatkan upaya retensi untuk pelanggan yang diprediksi akan *churn* atau mengoptimalkan alokasi anggaran pemasaran Anda untuk menghemat biaya.\n",
    "\n",
    "**3. Fokus Pada Penawaran dan Promosi Opsi Kontrak Jangka Panjang ke Pelanggan**:\n",
    "\n",
    "Kontrak satu dan dua tahun, menunjukkan  jenis kontrak yang dipilih oleh pelanggan yang memiliki kecenderungan untuk berhenti berlangganan layanan. Oleh karena itu, dalam upaya meningkatkan retensi pelanggan, Telco Systems dapat lebih fokus pada menawarkan dan mempromosikan opsi kontrak jangka panjang kepada pelanggan.\n",
    "\n",
    "**4. Evaluasi Hasil Lebih Lanjut**:\n",
    "\n",
    "Terus lakukan evaluasi hasil model dengan mengamati perubahan dalam metrik kinerja bisnis seperti *churn rate, customer lifetime value* (CLV), dan *revenue per customer*. Ini akan membantu perusahaan untuk memahami dampak juga dalam hal pengeluaran pendapatan perusahaan."
   ]
  }
 ],
 "metadata": {
  "kernelspec": {
   "display_name": "Python 3",
   "language": "python",
   "name": "python3"
  },
  "language_info": {
   "codemirror_mode": {
    "name": "ipython",
    "version": 3
   },
   "file_extension": ".py",
   "mimetype": "text/x-python",
   "name": "python",
   "nbconvert_exporter": "python",
   "pygments_lexer": "ipython3",
   "version": "3.11.4"
  }
 },
 "nbformat": 4,
 "nbformat_minor": 2
}
